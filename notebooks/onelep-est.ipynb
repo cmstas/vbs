{
 "cells": [
  {
   "cell_type": "code",
   "execution_count": 1,
   "id": "5bf0bf44",
   "metadata": {},
   "outputs": [],
   "source": [
    "import glob\n",
    "from utils.analysis import Extrapolation"
   ]
  },
  {
   "cell_type": "code",
   "execution_count": 2,
   "id": "36715425",
   "metadata": {},
   "outputs": [
    {
     "name": "stdout",
     "output_type": "stream",
     "text": [
      "['../analysis/studies/onelep/output_STskim_nopresel/Run2/data.root']\n",
      "['../analysis/studies/onelep/output_STskim_nopresel/Run2/VBSWH_mkW.root']\n"
     ]
    },
    {
     "data": {
      "text/plain": [
       "['../analysis/studies/onelep/output_STskim_nopresel/Run2/TTX.root',\n",
       " '../analysis/studies/onelep/output_STskim_nopresel/Run2/Bosons.root',\n",
       " '../analysis/studies/onelep/output_STskim_nopresel/Run2/VH.root',\n",
       " '../analysis/studies/onelep/output_STskim_nopresel/Run2/SingleTop.root',\n",
       " '../analysis/studies/onelep/output_STskim_nopresel/Run2/TTbar1L.root',\n",
       " '../analysis/studies/onelep/output_STskim_nopresel/Run2/TTbar2L.root',\n",
       " '../analysis/studies/onelep/output_STskim_nopresel/Run2/WJets.root']"
      ]
     },
     "execution_count": 2,
     "metadata": {},
     "output_type": "execute_result"
    }
   ],
   "source": [
    "TAG = \"STskim_nopresel\"\n",
    "babies = glob.glob(f\"../analysis/studies/onelep/output_{TAG}/Run2/*.root\")\n",
    "data_babies = [baby for baby in babies if \"data\" in baby]\n",
    "sig_babies = [baby for baby in babies if \"VBSWH_mkW\" in baby]\n",
    "bkg_babies = list(set(babies) - set(data_babies + sig_babies))\n",
    "print(data_babies)\n",
    "print(sig_babies)\n",
    "bkg_babies"
   ]
  },
  {
   "cell_type": "code",
   "execution_count": 3,
   "id": "68a7a331",
   "metadata": {},
   "outputs": [],
   "source": [
    "vbswh = Extrapolation(\n",
    "    sig_root_files=sig_babies,\n",
    "    bkg_root_files=bkg_babies,\n",
    "    data_root_files=data_babies,\n",
    "    ttree_name=\"tree\",\n",
    "    weight_columns=[\"xsec_sf\", \"lep_sf\"],\n",
    "    plots_dir=f\"/home/users/jguiang/public_html/onelep_plots/{TAG}/val\"\n",
    ")\n",
    "vbswh.df[\"presel_noVBS_noBVeto\"] = vbswh.df.eval(\n",
    "    \"hbbjet_score > 0.3\"\n",
    ")\n",
    "vbswh.df[\"presel_noVBS\"] = vbswh.df.eval(\n",
    "    \"passes_bveto and hbbjet_score > 0.3\"\n",
    ")\n",
    "vbswh.df[\"presel_noDetaJJ\"] = vbswh.df.eval(\n",
    "    \"passes_bveto and M_jj > 500 and hbbjet_score > 0.3\"\n",
    ")\n",
    "vbswh.df[\"presel\"] = vbswh.df.eval(\n",
    "    \"passes_bveto and M_jj > 500 and abs(deta_jj) > 3 and hbbjet_score > 0.3\"\n",
    ")"
   ]
  },
  {
   "cell_type": "code",
   "execution_count": 4,
   "id": "2929c496",
   "metadata": {},
   "outputs": [
    {
     "name": "stdout",
     "output_type": "stream",
     "text": [
      "WARNING: Region A is signal polluted, blinding this region\n",
      "WARNING: Region C is signal polluted, blinding this region\n",
      "cut,region,bkg_wgt,bkg_err,sig_wgt,sig_err,data,data_err\n",
      "presel_noDetaJJ and M_jj > 600 and ST > 1400 and hbbjet_score > 0.9 and abs(deta_jj) > 4 and (not (hbbjet_msoftdrop < 150)),A,10.702483337379968,0.8627783738194451,2.303751990644384,0.631021943020261,BLINDED,BLINDED\n",
      "presel_noDetaJJ and M_jj > 600 and ST > 1400 and hbbjet_score > 0.9 and (not (abs(deta_jj) > 4)) and (not (hbbjet_msoftdrop < 150)),B,16.995866030306885,0.9673105236765668,0.4602654836639976,0.295980464556029,14,3.7416573867739413\n",
      "presel_noDetaJJ and M_jj > 600 and ST > 1400 and hbbjet_score > 0.9 and (not (abs(deta_jj) > 4)) and hbbjet_msoftdrop < 150,C,10.396652601074155,0.7061966894790528,3.822115987995458,0.8096381069586766,BLINDED,BLINDED\n",
      "presel_noDetaJJ and M_jj > 600 and ST > 1400 and hbbjet_score > 0.9 and abs(deta_jj) > 4 and hbbjet_msoftdrop < 150,D,4.018459167344179,0.45821899079156553,117.25605028148982,4.625308192586667,BLINDED,BLINDED\n",
      "\n",
      "name,extp,rel_err\n",
      "AtoB,1.5880301323101687,0.09868129981932727\n",
      "BtoC,0.6117165540452562,0.08861779935079821\n",
      "CtoD,0.386514710218268,0.13272665255203964\n"
     ]
    }
   ],
   "source": [
    "vbswh.ABCD( \n",
    "    \"abs(deta_jj) > 4\",\n",
    "    \"hbbjet_msoftdrop < 150\",\n",
    "    \"presel_noDetaJJ and M_jj > 600 and ST > 1400 and hbbjet_score > 0.9\",\n",
    "    h_dir=\"left\", v_dir=\"up\", \n",
    "    label=\"$S_T$ [GeV]\",\n",
    "#     show_raw=True,\n",
    "    show_data=True\n",
    ")"
   ]
  },
  {
   "cell_type": "code",
   "execution_count": null,
   "id": "4ba94a4c",
   "metadata": {
    "scrolled": true
   },
   "outputs": [],
   "source": [
    "is_ttbar_sample = \"(name == 'TTbar1L' | name == 'TTbar2L' | name == 'TTX')\"\n",
    "vbswh.ABCD(\n",
    "    \"ST > 1200\",\n",
    "    \"abs(deta_jj) > 4 and M_jj > 1500\",\n",
    "    f\"passes_bveto and {is_ttbar_sample}\",\n",
    "    h_dir=\"left\", v_dir=\"up\", \n",
    "    label=\"$S_T$ [GeV]\"\n",
    ")"
   ]
  },
  {
   "cell_type": "code",
   "execution_count": 5,
   "id": "3cf52781",
   "metadata": {},
   "outputs": [
    {
     "name": "stdout",
     "output_type": "stream",
     "text": [
      "('sig', 'bkg')\n",
      "(113.26783108711243, 3.341920200833556)\n",
      "(759, 321)\n",
      "(4.603505970226833, 0.3723100665151049)\n"
     ]
    }
   ],
   "source": [
    "print((\"sig\", \"bkg\"))\n",
    "print(vbswh.get_event_counts(selection=\"abs(deta_jj) > 4 and M_jj > 1500 and passes_bveto and ST > 1200\"))\n",
    "print(vbswh.get_event_counts(selection=\"abs(deta_jj) > 4 and M_jj > 1500 and passes_bveto and ST > 1200\", raw=True))\n",
    "print(vbswh.get_event_errors(selection=\"abs(deta_jj) > 4 and M_jj > 1500 and passes_bveto and ST > 1200\"))"
   ]
  },
  {
   "cell_type": "code",
   "execution_count": 6,
   "id": "9c97c5ac",
   "metadata": {},
   "outputs": [
    {
     "name": "stdout",
     "output_type": "stream",
     "text": [
      "('sig', 'bkg')\n",
      "(3.280091166496277, 7.988692310784245)\n",
      "(25, 392)\n",
      "(0.7355304827309638, 0.7595408539285631)\n"
     ]
    }
   ],
   "source": [
    "print((\"sig\", \"bkg\"))\n",
    "print(vbswh.get_event_counts(selection=\"abs(deta_jj) > 4 and M_jj > 1500 and not passes_bveto and ST > 1200\"))\n",
    "print(vbswh.get_event_counts(selection=\"abs(deta_jj) > 4 and M_jj > 1500 and not passes_bveto and ST > 1200\", raw=True))\n",
    "print(vbswh.get_event_errors(selection=\"abs(deta_jj) > 4 and M_jj > 1500 and not passes_bveto and ST > 1200\"))"
   ]
  },
  {
   "cell_type": "code",
   "execution_count": 7,
   "id": "18136818",
   "metadata": {},
   "outputs": [],
   "source": [
    "# vbswh.test_selections(\n",
    "#     [\n",
    "#         \"abs(deta_jj) > 4 and M_jj > 1500 and passes_bveto and (not (ST > 1200))\",\n",
    "#         \"abs(deta_jj) > 4 and M_jj > 1500 and (not (passes_bveto)) and (not (ST > 1200))\",\n",
    "#         \"abs(deta_jj) > 4 and M_jj > 1500 and (not (passes_bveto)) and ST > 1200\",\n",
    "#         \"abs(deta_jj) > 4 and M_jj > 1500 and passes_bveto and ST > 1200\"\n",
    "#     ],\n",
    "#     coupled=False\n",
    "# )"
   ]
  },
  {
   "cell_type": "code",
   "execution_count": null,
   "id": "7284212a",
   "metadata": {},
   "outputs": [],
   "source": []
  }
 ],
 "metadata": {
  "kernelspec": {
   "display_name": "Python 3 (ipykernel)",
   "language": "python",
   "name": "python3"
  },
  "language_info": {
   "codemirror_mode": {
    "name": "ipython",
    "version": 3
   },
   "file_extension": ".py",
   "mimetype": "text/x-python",
   "name": "python",
   "nbconvert_exporter": "python",
   "pygments_lexer": "ipython3",
   "version": "3.9.13"
  }
 },
 "nbformat": 4,
 "nbformat_minor": 5
}

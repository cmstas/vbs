{
 "cells": [
  {
   "cell_type": "code",
   "execution_count": 1,
   "id": "ecdbbee7",
   "metadata": {},
   "outputs": [],
   "source": [
    "import uproot\n",
    "import glob\n",
    "import pandas as pd\n",
    "import numpy as np\n",
    "import itertools\n",
    "\n",
    "from utils.analysis import PandasAnalysis\n",
    "from utils.cutflow import Cutflow\n",
    "\n",
    "TAG = \"pku\""
   ]
  },
  {
   "cell_type": "code",
   "execution_count": 2,
   "id": "9950acda",
   "metadata": {},
   "outputs": [
    {
     "data": {
      "text/plain": [
       "['../analysis/studies/vbswh/output_pku/Run2/TTX.root',\n",
       " '../analysis/studies/vbswh/output_pku/Run2/TTbar2L.root',\n",
       " '../analysis/studies/vbswh/output_pku/Run2/VH.root',\n",
       " '../analysis/studies/vbswh/output_pku/Run2/TTbar1L.root',\n",
       " '../analysis/studies/vbswh/output_pku/Run2/WJets.root',\n",
       " '../analysis/studies/vbswh/output_pku/Run2/SingleTop.root',\n",
       " '../analysis/studies/vbswh/output_pku/Run2/EWKWLep.root',\n",
       " '../analysis/studies/vbswh/output_pku/Run2/Bosons.root',\n",
       " '../analysis/studies/vbswh/output_pku/Run2/VBSWH_mkW.root']"
      ]
     },
     "execution_count": 2,
     "metadata": {},
     "output_type": "execute_result"
    }
   ],
   "source": [
    "babies = glob.glob(f\"../analysis/studies/vbswh/output_{TAG}/Run2/*.root\")\n",
    "babies = [baby for baby in babies if \"data\" not in baby]\n",
    "babies"
   ]
  },
  {
   "cell_type": "code",
   "execution_count": 3,
   "id": "01eaac9e",
   "metadata": {},
   "outputs": [
    {
     "name": "stderr",
     "output_type": "stream",
     "text": [
      "Loading sig babies: 100%|███████████████████████████████████████████████████████████████████████████████████████████████████████| 1/1 [00:00<00:00,  2.68it/s]\n",
      "Loading bkg babies: 100%|███████████████████████████████████████████████████████████████████████████████████████████████████████| 8/8 [00:35<00:00,  4.39s/it]\n"
     ]
    }
   ],
   "source": [
    "vbswh = PandasAnalysis(\n",
    "    sig_root_files=[baby for baby in babies if \"VBSWH_mkW\" in baby],\n",
    "    bkg_root_files=[baby for baby in babies if \"VBSWH_mkW\" not in baby],\n",
    "    ttree_name=\"tree\",\n",
    "    weight_columns=[\n",
    "        \"xsec_sf\", \"lep_id_sf\", \"elec_reco_sf\", \"muon_iso_sf\", \n",
    "        \"btag_sf\", \"pu_sf\", \"prefire_sf\", \"trig_sf\"\n",
    "    ]\n",
    ")\n",
    "vbswh.df[\"presel_noDetaJJ\"] = vbswh.df.eval(\n",
    "    \"passes_bveto and M_jj > 500 and hbbjet_score > 0.3\"\n",
    ")\n",
    "vbswh.df[\"presel\"] = vbswh.df.eval(\n",
    "    \"passes_bveto and M_jj > 500 and abs(deta_jj) > 3 and hbbjet_score > 0.3\"\n",
    ")\n",
    "vbswh.df[\"SR2\"] = vbswh.df.eval(\n",
    "    \"presel_noDetaJJ and M_jj > 600 and ST > 1500 and hbbjet_score > 0.9 and abs(deta_jj) > 4 and hbbjet_msoftdrop < 150\"\n",
    ")\n",
    "vbswh.df[\"SR1\"] = vbswh.df.eval(\n",
    "    \"presel_noDetaJJ and M_jj > 600 and ST > 900 and hbbjet_score > 0.9 and abs(deta_jj) > 4 and hbbjet_msoftdrop < 150\"\n",
    ")\n",
    "vbswh.df[\"SR2_up\"] = vbswh.df.eval(\n",
    "    \"presel_noDetaJJ and M_jj > 600 and ST_up > 1500 and hbbjet_score > 0.9 and abs(deta_jj) > 4 and hbbjet_msoftdrop < 150\"\n",
    ")\n",
    "vbswh.df[\"SR1_up\"] = vbswh.df.eval(\n",
    "    \"presel_noDetaJJ and M_jj > 600 and ST_up > 900 and hbbjet_score > 0.9 and abs(deta_jj) > 4 and hbbjet_msoftdrop < 150\"\n",
    ")\n",
    "vbswh.df[\"SR2_dn\"] = vbswh.df.eval(\n",
    "    \"presel_noDetaJJ and M_jj > 600 and ST_dn > 1500 and hbbjet_score > 0.9 and abs(deta_jj) > 4 and hbbjet_msoftdrop < 150\"\n",
    ")\n",
    "vbswh.df[\"SR1_dn\"] = vbswh.df.eval(\n",
    "    \"presel_noDetaJJ and M_jj > 600 and ST_dn > 900 and hbbjet_score > 0.9 and abs(deta_jj) > 4 and hbbjet_msoftdrop < 150\"\n",
    ")\n",
    "\n",
    "SIGNAL_REGIONS = [\"SR1\", \"SR2\"]"
   ]
  },
  {
   "cell_type": "markdown",
   "id": "d18a13d2",
   "metadata": {},
   "source": [
    "# Utilities"
   ]
  },
  {
   "cell_type": "code",
   "execution_count": 4,
   "id": "b907884b",
   "metadata": {},
   "outputs": [],
   "source": [
    "class Systematic:\n",
    "    def __init__(self, name, signal_regions):\n",
    "        self.name = name\n",
    "        self.signal_regions = signal_regions\n",
    "        self.systs = {signal_region: [] for signal_region in signal_regions}\n",
    "\n",
    "    def add_syst(self, syst, signal_region):\n",
    "        self.systs[signal_region].append(syst)\n",
    "        \n",
    "    def add_systs(self, systs, signal_region=None):\n",
    "        if signal_region:\n",
    "            self.systs[signal_region] += systs\n",
    "        else:\n",
    "            for syst_i, syst in enumerate(systs):\n",
    "                self.systs[self.signal_regions[syst_i]].append(syst)\n",
    "    \n",
    "    def get_systs(self):\n",
    "        return self.systs\n",
    "    \n",
    "    def get_systs_str(self, signal_region=None):\n",
    "        if signal_region:\n",
    "            systs = self.systs[signal_region]\n",
    "            if len(systs) == 1:\n",
    "                return f\"{systs[0]:0.1%}\"\n",
    "            else:\n",
    "                return f\"{min(systs):0.1%} - {max(systs):0.1%}\"\n",
    "        else:\n",
    "            return {SR: self.get_systs_str(signal_region=SR) for SR in self.signal_regions}\n",
    "        \n",
    "class SystematicsTable:\n",
    "    def __init__(self, systs=None):\n",
    "        self.systs = systs or []\n",
    "        \n",
    "    def add_row(self, syst):\n",
    "        self.systs.append(syst)\n",
    "        \n",
    "    def to_dataframe(self):\n",
    "        rows = []\n",
    "        for syst in self.systs:\n",
    "            row = {\"Systematic\": syst.name}\n",
    "            row.update(syst.get_systs_str())\n",
    "            rows.append(row)\n",
    "        return pd.DataFrame(rows)\n",
    "        \n",
    "    def to_latex(self, output_tex=None):\n",
    "        # Convert to Pandas DataFrame\n",
    "        df = self.to_dataframe()\n",
    "        \n",
    "        # Convert to LaTeX\n",
    "        latex = (df.style\n",
    "                   .hide(axis=\"index\")\n",
    "                   .to_latex(column_format=\"lcc\", position=\"H\")\n",
    "                   .replace(\"%\", \"\\%\"))\n",
    "        # Insert hlines and centering\n",
    "        latex = latex.split(\"\\n\")\n",
    "        latex.insert(3, \"\\\\hline\")\n",
    "        latex.insert(2, \"\\\\hline\\n\\\\hline\")\n",
    "        latex.insert(1, \"\\\\begin{center}\")\n",
    "        latex.insert(-3, \"\\\\hline\\n\\\\hline\")\n",
    "        latex.insert(-2, \"\\\\end{center}\")\n",
    "        latex = \"\\n\".join(latex)\n",
    "        \n",
    "        return latex\n",
    "    \n",
    "    def to_datacard(self, output_dat=None):\n",
    "        # TODO: add this! should turn list of Systematic objects into a HiggsCombine datacard\n",
    "        pass"
   ]
  },
  {
   "cell_type": "markdown",
   "id": "64e5ad6f",
   "metadata": {},
   "source": [
    "# Scale factors"
   ]
  },
  {
   "cell_type": "code",
   "execution_count": 5,
   "id": "24431b84",
   "metadata": {},
   "outputs": [],
   "source": [
    "SIG_SYSTS = SystematicsTable()\n",
    "BKG_SYSTS = SystematicsTable()"
   ]
  },
  {
   "cell_type": "code",
   "execution_count": 6,
   "id": "0e1f83a6",
   "metadata": {},
   "outputs": [],
   "source": [
    "def get_systs(sample_name, signal_regions, sf, sf_up, sf_dn):\n",
    "    systs = []\n",
    "    for SR in signal_regions:\n",
    "        df = vbswh.sample_df(name=sample_name, selection=SR)\n",
    "        \n",
    "        count = df.event_weight.sum()\n",
    "        count_up = np.sum(df.event_weight/df[sf]*df[sf_up])\n",
    "        count_dn = np.sum(df.event_weight/df[sf]*df[sf_dn])\n",
    "        \n",
    "        perc_up = abs((count_up - count)/count)\n",
    "        perc_dn = abs((count - count_dn)/count)\n",
    "        \n",
    "        systs.append(max(perc_up, perc_dn))\n",
    "        \n",
    "    return systs\n",
    "\n",
    "def get_systs_nonSF(sample_name, signal_regions, signal_regions_up, signal_regions_dn):\n",
    "    systs = []\n",
    "    for SR_i, SR in enumerate(signal_regions):\n",
    "        SR_up = signal_regions_up[SR_i]\n",
    "        SR_dn = signal_regions_dn[SR_i]\n",
    "        \n",
    "        df = vbswh.sample_df(name=sample_name, selection=SR)\n",
    "        df_up = vbswh.sample_df(name=sample_name, selection=SR_up)\n",
    "        df_dn = vbswh.sample_df(name=sample_name, selection=SR_dn)\n",
    "        \n",
    "        count = df.event_weight.sum()\n",
    "        count_up = df_up.event_weight.sum()\n",
    "        count_dn = df_dn.event_weight.sum()\n",
    "        \n",
    "        up_perc = abs((count_up - count)/count)\n",
    "        dn_perc = abs((count - count_dn)/count)\n",
    "        \n",
    "        systs.append(max(up_perc, dn_perc))\n",
    "        \n",
    "    return systs"
   ]
  },
  {
   "cell_type": "markdown",
   "id": "0f3ba6b4",
   "metadata": {},
   "source": [
    "### L1 Prefiring weight"
   ]
  },
  {
   "cell_type": "code",
   "execution_count": 7,
   "id": "a27d8e90",
   "metadata": {},
   "outputs": [],
   "source": [
    "bkg_prefire_sf_systs = Systematic(\"L1 pre-fire corrections\", SIGNAL_REGIONS)\n",
    "\n",
    "for baby in babies:\n",
    "    sample_name = baby.split(\"/\")[-1].replace(\".root\", \"\")\n",
    "    if sample_name != \"VBSWH_mkW\":\n",
    "        bkg_prefire_sf_systs.add_systs(\n",
    "            get_systs(sample_name, SIGNAL_REGIONS, \"prefire_sf\", \"prefire_sf_up\", \"prefire_sf_dn\")\n",
    "        )\n",
    "        \n",
    "BKG_SYSTS.add_row(bkg_prefire_sf_systs)"
   ]
  },
  {
   "cell_type": "code",
   "execution_count": 8,
   "id": "72f81645",
   "metadata": {},
   "outputs": [],
   "source": [
    "prefire_sf_systs = Systematic(\"L1 pre-fire corrections\", SIGNAL_REGIONS)\n",
    "prefire_sf_systs.add_systs(\n",
    "    get_systs(\"VBSWH_mkW\", SIGNAL_REGIONS, \"prefire_sf\", \"prefire_sf_up\", \"prefire_sf_dn\")\n",
    ")\n",
    "SIG_SYSTS.add_row(prefire_sf_systs)"
   ]
  },
  {
   "cell_type": "markdown",
   "id": "e0f5478d",
   "metadata": {},
   "source": [
    "### Lepton scale factors"
   ]
  },
  {
   "cell_type": "code",
   "execution_count": 9,
   "id": "6eb07ab9",
   "metadata": {},
   "outputs": [],
   "source": [
    "bkg_lep_sf_systs = Systematic(\"Lepton scale factors\", SIGNAL_REGIONS)\n",
    "\n",
    "for baby in babies:\n",
    "    sample_name = baby.split(\"/\")[-1].replace(\".root\", \"\")\n",
    "    if sample_name != \"VBSWH_mkW\":\n",
    "        bkg_lep_sf_systs.add_systs(\n",
    "            get_systs(sample_name, SIGNAL_REGIONS, \"lep_id_sf\", \"lep_id_sf_up\", \"lep_id_sf_dn\")\n",
    "        )\n",
    "        \n",
    "BKG_SYSTS.add_row(bkg_lep_sf_systs)"
   ]
  },
  {
   "cell_type": "code",
   "execution_count": 10,
   "id": "04169955",
   "metadata": {},
   "outputs": [],
   "source": [
    "lep_sf_systs = Systematic(\"Lepton scale factors\", SIGNAL_REGIONS)\n",
    "lep_sf_systs.add_systs(\n",
    "    get_systs(\"VBSWH_mkW\", SIGNAL_REGIONS, \"lep_id_sf\", \"lep_id_sf_up\", \"lep_id_sf_dn\")\n",
    ")\n",
    "lep_sf_systs.add_systs(\n",
    "    get_systs(\"VBSWH_mkW\", SIGNAL_REGIONS, \"elec_reco_sf\", \"elec_reco_sf_up\", \"elec_reco_sf_dn\")\n",
    ")\n",
    "lep_sf_systs.add_systs(\n",
    "    get_systs(\"VBSWH_mkW\", SIGNAL_REGIONS, \"muon_iso_sf\", \"muon_iso_sf_up\", \"muon_iso_sf_dn\")\n",
    ")\n",
    "SIG_SYSTS.add_row(lep_sf_systs)"
   ]
  },
  {
   "cell_type": "markdown",
   "id": "68c8c7e2",
   "metadata": {},
   "source": [
    "### DeepJet b-tagging scale factors"
   ]
  },
  {
   "cell_type": "code",
   "execution_count": 11,
   "id": "f202f0f3",
   "metadata": {},
   "outputs": [],
   "source": [
    "bkg_btag_sf_systs = Systematic(\"DeepJet b-tagging scale factors\", SIGNAL_REGIONS)\n",
    "\n",
    "for baby in babies:\n",
    "    sample_name = baby.split(\"/\")[-1].replace(\".root\", \"\")\n",
    "    if sample_name != \"VBSWH_mkW\":\n",
    "        bkg_btag_sf_systs.add_systs(\n",
    "            get_systs(sample_name, SIGNAL_REGIONS, \"btag_sf\", \"btag_sf_dn\", \"btag_sf_up\")\n",
    "        )\n",
    "\n",
    "BKG_SYSTS.add_row(bkg_btag_sf_systs)"
   ]
  },
  {
   "cell_type": "code",
   "execution_count": 12,
   "id": "352659db",
   "metadata": {},
   "outputs": [],
   "source": [
    "btag_sf_systs = Systematic(\"DeepJet b-tagging scale factors\", SIGNAL_REGIONS)\n",
    "btag_sf_systs.add_systs(\n",
    "    get_systs(\"VBSWH_mkW\", SIGNAL_REGIONS, \"btag_sf\", \"btag_sf_dn\", \"btag_sf_up\")\n",
    ")\n",
    "SIG_SYSTS.add_row(btag_sf_systs)"
   ]
  },
  {
   "cell_type": "markdown",
   "id": "aa09748c",
   "metadata": {},
   "source": [
    "### Pileup reweighting"
   ]
  },
  {
   "cell_type": "code",
   "execution_count": 13,
   "id": "93ad39ce",
   "metadata": {},
   "outputs": [],
   "source": [
    "bkg_pu_sf_systs = Systematic(\"Pileup reweighting\", SIGNAL_REGIONS)\n",
    "\n",
    "for baby in babies:\n",
    "    sample_name = baby.split(\"/\")[-1].replace(\".root\", \"\")\n",
    "    if sample_name != \"VBSWH_mkW\":\n",
    "        bkg_pu_sf_systs.add_systs(\n",
    "            get_systs(sample_name, SIGNAL_REGIONS, \"pu_sf\", \"pu_sf_dn\", \"pu_sf_up\")\n",
    "        )\n",
    "\n",
    "BKG_SYSTS.add_row(bkg_pu_sf_systs)"
   ]
  },
  {
   "cell_type": "code",
   "execution_count": 14,
   "id": "af7da1e8",
   "metadata": {},
   "outputs": [],
   "source": [
    "pu_sf_systs = Systematic(\"Pileup reweighting\", SIGNAL_REGIONS)\n",
    "pu_sf_systs.add_systs(\n",
    "    get_systs(\"VBSWH_mkW\", SIGNAL_REGIONS, \"pu_sf\", \"pu_sf_dn\", \"pu_sf_up\")\n",
    ")\n",
    "SIG_SYSTS.add_row(pu_sf_systs)"
   ]
  },
  {
   "cell_type": "markdown",
   "id": "9ed0fdb4",
   "metadata": {},
   "source": [
    "### MET uncertainty"
   ]
  },
  {
   "cell_type": "code",
   "execution_count": 15,
   "id": "8a61ad70",
   "metadata": {},
   "outputs": [],
   "source": [
    "bkg_met_unc_systs = Systematic(\"MET unc.\", SIGNAL_REGIONS)\n",
    "\n",
    "for baby in babies:\n",
    "    sample_name = baby.split(\"/\")[-1].replace(\".root\", \"\")\n",
    "    if sample_name != \"VBSWH_mkW\":\n",
    "        bkg_met_unc_systs.add_systs(\n",
    "            get_systs_nonSF(sample_name, SIGNAL_REGIONS, [\"SR1_dn\", \"SR2_dn\"], [\"SR1_up\", \"SR2_up\"])\n",
    "        )\n",
    "\n",
    "BKG_SYSTS.add_row(bkg_met_unc_systs)"
   ]
  },
  {
   "cell_type": "code",
   "execution_count": 16,
   "id": "ce6b0391",
   "metadata": {},
   "outputs": [],
   "source": [
    "met_unc_systs = Systematic(\"MET unc.\", SIGNAL_REGIONS)\n",
    "met_unc_systs.add_systs(\n",
    "    get_systs_nonSF(\"VBSWH_mkW\", SIGNAL_REGIONS, [\"SR1_dn\", \"SR2_dn\"], [\"SR1_up\", \"SR2_up\"])\n",
    ")\n",
    "SIG_SYSTS.add_row(met_unc_systs)"
   ]
  },
  {
   "cell_type": "markdown",
   "id": "2e54f5a8",
   "metadata": {},
   "source": [
    "### Luminosity"
   ]
  },
  {
   "cell_type": "code",
   "execution_count": 17,
   "id": "3264145f",
   "metadata": {},
   "outputs": [],
   "source": [
    "lumi_systs = Systematic(\"Luminosity\", SIGNAL_REGIONS)\n",
    "lumi_systs.add_systs([0.025, 0.025])\n",
    "BKG_SYSTS.add_row(lumi_systs)\n",
    "SIG_SYSTS.add_row(lumi_systs)"
   ]
  },
  {
   "cell_type": "code",
   "execution_count": 18,
   "id": "326a5329",
   "metadata": {},
   "outputs": [
    {
     "data": {
      "text/html": [
       "<div>\n",
       "<style scoped>\n",
       "    .dataframe tbody tr th:only-of-type {\n",
       "        vertical-align: middle;\n",
       "    }\n",
       "\n",
       "    .dataframe tbody tr th {\n",
       "        vertical-align: top;\n",
       "    }\n",
       "\n",
       "    .dataframe thead th {\n",
       "        text-align: right;\n",
       "    }\n",
       "</style>\n",
       "<table border=\"1\" class=\"dataframe\">\n",
       "  <thead>\n",
       "    <tr style=\"text-align: right;\">\n",
       "      <th></th>\n",
       "      <th>Systematic</th>\n",
       "      <th>SR1</th>\n",
       "      <th>SR2</th>\n",
       "    </tr>\n",
       "  </thead>\n",
       "  <tbody>\n",
       "    <tr>\n",
       "      <th>0</th>\n",
       "      <td>L1 pre-fire corrections</td>\n",
       "      <td>0.3% - 1.5%</td>\n",
       "      <td>0.1% - 1.2%</td>\n",
       "    </tr>\n",
       "    <tr>\n",
       "      <th>1</th>\n",
       "      <td>Lepton scale factors</td>\n",
       "      <td>0.9% - 7.0%</td>\n",
       "      <td>0.9% - 3.4%</td>\n",
       "    </tr>\n",
       "    <tr>\n",
       "      <th>2</th>\n",
       "      <td>DeepJet b-tagging scale factors</td>\n",
       "      <td>0.0% - 3.3%</td>\n",
       "      <td>0.0% - 8.2%</td>\n",
       "    </tr>\n",
       "    <tr>\n",
       "      <th>3</th>\n",
       "      <td>Pileup reweighting</td>\n",
       "      <td>1.9% - 14.9%</td>\n",
       "      <td>2.2% - 9.7%</td>\n",
       "    </tr>\n",
       "    <tr>\n",
       "      <th>4</th>\n",
       "      <td>MET unc.</td>\n",
       "      <td>0.2% - 27.3%</td>\n",
       "      <td>0.0% - 1.6%</td>\n",
       "    </tr>\n",
       "    <tr>\n",
       "      <th>5</th>\n",
       "      <td>Luminosity</td>\n",
       "      <td>2.5%</td>\n",
       "      <td>2.5%</td>\n",
       "    </tr>\n",
       "  </tbody>\n",
       "</table>\n",
       "</div>"
      ],
      "text/plain": [
       "                        Systematic           SR1          SR2\n",
       "0          L1 pre-fire corrections   0.3% - 1.5%  0.1% - 1.2%\n",
       "1             Lepton scale factors   0.9% - 7.0%  0.9% - 3.4%\n",
       "2  DeepJet b-tagging scale factors   0.0% - 3.3%  0.0% - 8.2%\n",
       "3               Pileup reweighting  1.9% - 14.9%  2.2% - 9.7%\n",
       "4                         MET unc.  0.2% - 27.3%  0.0% - 1.6%\n",
       "5                       Luminosity          2.5%         2.5%"
      ]
     },
     "execution_count": 18,
     "metadata": {},
     "output_type": "execute_result"
    }
   ],
   "source": [
    "BKG_SYSTS.to_dataframe()"
   ]
  },
  {
   "cell_type": "code",
   "execution_count": 19,
   "id": "b25a9e2f",
   "metadata": {},
   "outputs": [
    {
     "data": {
      "text/html": [
       "<div>\n",
       "<style scoped>\n",
       "    .dataframe tbody tr th:only-of-type {\n",
       "        vertical-align: middle;\n",
       "    }\n",
       "\n",
       "    .dataframe tbody tr th {\n",
       "        vertical-align: top;\n",
       "    }\n",
       "\n",
       "    .dataframe thead th {\n",
       "        text-align: right;\n",
       "    }\n",
       "</style>\n",
       "<table border=\"1\" class=\"dataframe\">\n",
       "  <thead>\n",
       "    <tr style=\"text-align: right;\">\n",
       "      <th></th>\n",
       "      <th>Systematic</th>\n",
       "      <th>SR1</th>\n",
       "      <th>SR2</th>\n",
       "    </tr>\n",
       "  </thead>\n",
       "  <tbody>\n",
       "    <tr>\n",
       "      <th>0</th>\n",
       "      <td>L1 pre-fire corrections</td>\n",
       "      <td>1.0%</td>\n",
       "      <td>1.0%</td>\n",
       "    </tr>\n",
       "    <tr>\n",
       "      <th>1</th>\n",
       "      <td>Lepton scale factors</td>\n",
       "      <td>0.0% - 1.4%</td>\n",
       "      <td>0.0% - 1.9%</td>\n",
       "    </tr>\n",
       "    <tr>\n",
       "      <th>2</th>\n",
       "      <td>DeepJet b-tagging scale factors</td>\n",
       "      <td>0.3%</td>\n",
       "      <td>0.3%</td>\n",
       "    </tr>\n",
       "    <tr>\n",
       "      <th>3</th>\n",
       "      <td>Pileup reweighting</td>\n",
       "      <td>0.3%</td>\n",
       "      <td>0.6%</td>\n",
       "    </tr>\n",
       "    <tr>\n",
       "      <th>4</th>\n",
       "      <td>MET unc.</td>\n",
       "      <td>0.1%</td>\n",
       "      <td>0.8%</td>\n",
       "    </tr>\n",
       "    <tr>\n",
       "      <th>5</th>\n",
       "      <td>Luminosity</td>\n",
       "      <td>2.5%</td>\n",
       "      <td>2.5%</td>\n",
       "    </tr>\n",
       "  </tbody>\n",
       "</table>\n",
       "</div>"
      ],
      "text/plain": [
       "                        Systematic          SR1          SR2\n",
       "0          L1 pre-fire corrections         1.0%         1.0%\n",
       "1             Lepton scale factors  0.0% - 1.4%  0.0% - 1.9%\n",
       "2  DeepJet b-tagging scale factors         0.3%         0.3%\n",
       "3               Pileup reweighting         0.3%         0.6%\n",
       "4                         MET unc.         0.1%         0.8%\n",
       "5                       Luminosity         2.5%         2.5%"
      ]
     },
     "execution_count": 19,
     "metadata": {},
     "output_type": "execute_result"
    }
   ],
   "source": [
    "SIG_SYSTS.to_dataframe()"
   ]
  },
  {
   "cell_type": "markdown",
   "id": "9f5c6401",
   "metadata": {},
   "source": [
    "# Jet energy"
   ]
  },
  {
   "cell_type": "code",
   "execution_count": 20,
   "id": "a40e5517",
   "metadata": {},
   "outputs": [],
   "source": [
    "def get_jet_energy_systs(nominal_cflow, up_cflow, dn_cflow, signal_regions, name):\n",
    "    \n",
    "    nominal_cutflow = Cutflow.from_file(nominal_cflow)\n",
    "    up_cutflow = Cutflow.from_file(up_cflow)\n",
    "    dn_cutflow = Cutflow.from_file(dn_cflow)\n",
    "\n",
    "    syst_up_cutflow = (up_cutflow - nominal_cutflow)/nominal_cutflow\n",
    "    syst_dn_cutflow = (nominal_cutflow - dn_cutflow)/nominal_cutflow\n",
    "\n",
    "    systs = Systematic(name, signal_regions.keys())\n",
    "    for SR, cut_name in signal_regions.items():\n",
    "        systs.add_syst(\n",
    "            max(\n",
    "                syst_up_cutflow[cut_name].n_pass,\n",
    "                syst_dn_cutflow[cut_name].n_pass\n",
    "            ),\n",
    "            signal_region=SR\n",
    "        )\n",
    "        \n",
    "    return systs"
   ]
  },
  {
   "cell_type": "markdown",
   "id": "3f6cbfa4",
   "metadata": {},
   "source": [
    "### Jet energy corrections"
   ]
  },
  {
   "cell_type": "code",
   "execution_count": 21,
   "id": "82b0929a",
   "metadata": {},
   "outputs": [],
   "source": [
    "jec_systs = Systematic(\"Jet energy scale\", [\"SR1\", \"SR2\"])\n",
    "\n",
    "for baby in babies:\n",
    "    sample_name = baby.split(\"/\")[-1].replace(\".root\", \"\")\n",
    "    if sample_name != \"VBSWH_mkW\":\n",
    "        systs = get_jet_energy_systs(\n",
    "            f\"../analysis/studies/vbswh/output_pku/Run2/{sample_name}_cutflow.cflow\",\n",
    "            f\"../analysis/studies/vbswh/output_pku_jec_up/Run2/{sample_name}_cutflow.cflow\",\n",
    "            f\"../analysis/studies/vbswh/output_pku_jec_dn/Run2/{sample_name}_cutflow.cflow\",\n",
    "            {\"SR1\": \"XbbGt0p9_MSDLt150\", \"SR2\": \"STGt1500\"},\n",
    "            \"Jet energy scale\"\n",
    "        )\n",
    "        for SR, values in systs.get_systs().items():\n",
    "            jec_systs.add_systs(values, signal_region=SR)\n",
    "        \n",
    "BKG_SYSTS.add_row(jec_systs)"
   ]
  },
  {
   "cell_type": "code",
   "execution_count": 22,
   "id": "158bad39",
   "metadata": {},
   "outputs": [],
   "source": [
    "jec_systs = get_jet_energy_systs(\n",
    "    \"../analysis/studies/vbswh/output_pku/Run2/VBSWH_mkW_cutflow.cflow\",\n",
    "    \"../analysis/studies/vbswh/output_pku_jec_up/Run2/VBSWH_mkW_cutflow.cflow\",\n",
    "    \"../analysis/studies/vbswh/output_pku_jec_dn/Run2/VBSWH_mkW_cutflow.cflow\",\n",
    "    {\"SR1\": \"XbbGt0p9_MSDLt150\", \"SR2\": \"STGt1500\"},\n",
    "    \"Jet energy scale\"\n",
    ")\n",
    "SIG_SYSTS.add_row(jec_systs)"
   ]
  },
  {
   "cell_type": "markdown",
   "id": "71e0effc",
   "metadata": {},
   "source": [
    "### Jet energy resolution"
   ]
  },
  {
   "cell_type": "code",
   "execution_count": 23,
   "id": "aa8a0fe5",
   "metadata": {},
   "outputs": [],
   "source": [
    "jer_systs = Systematic(\"Jet energy resolution\", [\"SR1\", \"SR2\"])\n",
    "\n",
    "for baby in babies:\n",
    "    sample_name = baby.split(\"/\")[-1].replace(\".root\", \"\")\n",
    "    if sample_name != \"VBSWH_mkW\":\n",
    "        systs = get_jet_energy_systs(\n",
    "            f\"../analysis/studies/vbswh/output_pku/Run2/{sample_name}_cutflow.cflow\",\n",
    "            f\"../analysis/studies/vbswh/output_pku_jer_up/Run2/{sample_name}_cutflow.cflow\",\n",
    "            f\"../analysis/studies/vbswh/output_pku_jer_dn/Run2/{sample_name}_cutflow.cflow\",\n",
    "            {\"SR1\": \"XbbGt0p9_MSDLt150\", \"SR2\": \"STGt1500\"},\n",
    "            \"Jet energy resolution\"\n",
    "        )\n",
    "        for SR, values in systs.get_systs().items():\n",
    "            jer_systs.add_systs(values, signal_region=SR)\n",
    "        \n",
    "BKG_SYSTS.add_row(jer_systs)"
   ]
  },
  {
   "cell_type": "code",
   "execution_count": 24,
   "id": "cb0c7cdf",
   "metadata": {},
   "outputs": [],
   "source": [
    "jer_systs = get_jet_energy_systs(\n",
    "    \"../analysis/studies/vbswh/output_pku/Run2/VBSWH_mkW_cutflow.cflow\",\n",
    "    \"../analysis/studies/vbswh/output_pku_jer_up/Run2/VBSWH_mkW_cutflow.cflow\",\n",
    "    \"../analysis/studies/vbswh/output_pku_jer_dn/Run2/VBSWH_mkW_cutflow.cflow\",\n",
    "    {\"SR1\": \"XbbGt0p9_MSDLt150\", \"SR2\": \"STGt1500\"},\n",
    "    \"Jet energy resolution\"\n",
    ")\n",
    "SIG_SYSTS.add_row(jer_systs)"
   ]
  },
  {
   "cell_type": "code",
   "execution_count": 25,
   "id": "398af104",
   "metadata": {},
   "outputs": [
    {
     "data": {
      "text/html": [
       "<div>\n",
       "<style scoped>\n",
       "    .dataframe tbody tr th:only-of-type {\n",
       "        vertical-align: middle;\n",
       "    }\n",
       "\n",
       "    .dataframe tbody tr th {\n",
       "        vertical-align: top;\n",
       "    }\n",
       "\n",
       "    .dataframe thead th {\n",
       "        text-align: right;\n",
       "    }\n",
       "</style>\n",
       "<table border=\"1\" class=\"dataframe\">\n",
       "  <thead>\n",
       "    <tr style=\"text-align: right;\">\n",
       "      <th></th>\n",
       "      <th>Systematic</th>\n",
       "      <th>SR1</th>\n",
       "      <th>SR2</th>\n",
       "    </tr>\n",
       "  </thead>\n",
       "  <tbody>\n",
       "    <tr>\n",
       "      <th>0</th>\n",
       "      <td>L1 pre-fire corrections</td>\n",
       "      <td>0.3% - 1.5%</td>\n",
       "      <td>0.1% - 1.2%</td>\n",
       "    </tr>\n",
       "    <tr>\n",
       "      <th>1</th>\n",
       "      <td>Lepton scale factors</td>\n",
       "      <td>0.9% - 7.0%</td>\n",
       "      <td>0.9% - 3.4%</td>\n",
       "    </tr>\n",
       "    <tr>\n",
       "      <th>2</th>\n",
       "      <td>DeepJet b-tagging scale factors</td>\n",
       "      <td>0.0% - 3.3%</td>\n",
       "      <td>0.0% - 8.2%</td>\n",
       "    </tr>\n",
       "    <tr>\n",
       "      <th>3</th>\n",
       "      <td>Pileup reweighting</td>\n",
       "      <td>1.9% - 14.9%</td>\n",
       "      <td>2.2% - 9.7%</td>\n",
       "    </tr>\n",
       "    <tr>\n",
       "      <th>4</th>\n",
       "      <td>MET unc.</td>\n",
       "      <td>0.2% - 27.3%</td>\n",
       "      <td>0.0% - 1.6%</td>\n",
       "    </tr>\n",
       "    <tr>\n",
       "      <th>5</th>\n",
       "      <td>Luminosity</td>\n",
       "      <td>2.5%</td>\n",
       "      <td>2.5%</td>\n",
       "    </tr>\n",
       "    <tr>\n",
       "      <th>6</th>\n",
       "      <td>Jet energy scale</td>\n",
       "      <td>11.9% - 25.3%</td>\n",
       "      <td>0.0% - 27.5%</td>\n",
       "    </tr>\n",
       "    <tr>\n",
       "      <th>7</th>\n",
       "      <td>Jet energy resolution</td>\n",
       "      <td>3.0% - 12.8%</td>\n",
       "      <td>0.0% - 20.0%</td>\n",
       "    </tr>\n",
       "  </tbody>\n",
       "</table>\n",
       "</div>"
      ],
      "text/plain": [
       "                        Systematic            SR1           SR2\n",
       "0          L1 pre-fire corrections    0.3% - 1.5%   0.1% - 1.2%\n",
       "1             Lepton scale factors    0.9% - 7.0%   0.9% - 3.4%\n",
       "2  DeepJet b-tagging scale factors    0.0% - 3.3%   0.0% - 8.2%\n",
       "3               Pileup reweighting   1.9% - 14.9%   2.2% - 9.7%\n",
       "4                         MET unc.   0.2% - 27.3%   0.0% - 1.6%\n",
       "5                       Luminosity           2.5%          2.5%\n",
       "6                 Jet energy scale  11.9% - 25.3%  0.0% - 27.5%\n",
       "7            Jet energy resolution   3.0% - 12.8%  0.0% - 20.0%"
      ]
     },
     "execution_count": 25,
     "metadata": {},
     "output_type": "execute_result"
    }
   ],
   "source": [
    "BKG_SYSTS.to_dataframe()"
   ]
  },
  {
   "cell_type": "code",
   "execution_count": 26,
   "id": "232d31e0",
   "metadata": {},
   "outputs": [
    {
     "data": {
      "text/html": [
       "<div>\n",
       "<style scoped>\n",
       "    .dataframe tbody tr th:only-of-type {\n",
       "        vertical-align: middle;\n",
       "    }\n",
       "\n",
       "    .dataframe tbody tr th {\n",
       "        vertical-align: top;\n",
       "    }\n",
       "\n",
       "    .dataframe thead th {\n",
       "        text-align: right;\n",
       "    }\n",
       "</style>\n",
       "<table border=\"1\" class=\"dataframe\">\n",
       "  <thead>\n",
       "    <tr style=\"text-align: right;\">\n",
       "      <th></th>\n",
       "      <th>Systematic</th>\n",
       "      <th>SR1</th>\n",
       "      <th>SR2</th>\n",
       "    </tr>\n",
       "  </thead>\n",
       "  <tbody>\n",
       "    <tr>\n",
       "      <th>0</th>\n",
       "      <td>L1 pre-fire corrections</td>\n",
       "      <td>1.0%</td>\n",
       "      <td>1.0%</td>\n",
       "    </tr>\n",
       "    <tr>\n",
       "      <th>1</th>\n",
       "      <td>Lepton scale factors</td>\n",
       "      <td>0.0% - 1.4%</td>\n",
       "      <td>0.0% - 1.9%</td>\n",
       "    </tr>\n",
       "    <tr>\n",
       "      <th>2</th>\n",
       "      <td>DeepJet b-tagging scale factors</td>\n",
       "      <td>0.3%</td>\n",
       "      <td>0.3%</td>\n",
       "    </tr>\n",
       "    <tr>\n",
       "      <th>3</th>\n",
       "      <td>Pileup reweighting</td>\n",
       "      <td>0.3%</td>\n",
       "      <td>0.6%</td>\n",
       "    </tr>\n",
       "    <tr>\n",
       "      <th>4</th>\n",
       "      <td>MET unc.</td>\n",
       "      <td>0.1%</td>\n",
       "      <td>0.8%</td>\n",
       "    </tr>\n",
       "    <tr>\n",
       "      <th>5</th>\n",
       "      <td>Luminosity</td>\n",
       "      <td>2.5%</td>\n",
       "      <td>2.5%</td>\n",
       "    </tr>\n",
       "    <tr>\n",
       "      <th>6</th>\n",
       "      <td>Jet energy scale</td>\n",
       "      <td>6.1%</td>\n",
       "      <td>7.5%</td>\n",
       "    </tr>\n",
       "    <tr>\n",
       "      <th>7</th>\n",
       "      <td>Jet energy resolution</td>\n",
       "      <td>0.1%</td>\n",
       "      <td>0.5%</td>\n",
       "    </tr>\n",
       "  </tbody>\n",
       "</table>\n",
       "</div>"
      ],
      "text/plain": [
       "                        Systematic          SR1          SR2\n",
       "0          L1 pre-fire corrections         1.0%         1.0%\n",
       "1             Lepton scale factors  0.0% - 1.4%  0.0% - 1.9%\n",
       "2  DeepJet b-tagging scale factors         0.3%         0.3%\n",
       "3               Pileup reweighting         0.3%         0.6%\n",
       "4                         MET unc.         0.1%         0.8%\n",
       "5                       Luminosity         2.5%         2.5%\n",
       "6                 Jet energy scale         6.1%         7.5%\n",
       "7            Jet energy resolution         0.1%         0.5%"
      ]
     },
     "execution_count": 26,
     "metadata": {},
     "output_type": "execute_result"
    }
   ],
   "source": [
    "SIG_SYSTS.to_dataframe()"
   ]
  },
  {
   "cell_type": "code",
   "execution_count": 27,
   "id": "00867ebd",
   "metadata": {},
   "outputs": [
    {
     "name": "stdout",
     "output_type": "stream",
     "text": [
      "\\begin{table}[H]\n",
      "\\begin{center}\n",
      "\\begin{tabular}{lcc}\n",
      "\\hline\n",
      "\\hline\n",
      "Systematic & SR1 & SR2 \\\\\n",
      "\\hline\n",
      "L1 pre-fire corrections & 1.0\\% & 1.0\\% \\\\\n",
      "Lepton scale factors & 0.0\\% - 1.4\\% & 0.0\\% - 1.9\\% \\\\\n",
      "DeepJet b-tagging scale factors & 0.3\\% & 0.3\\% \\\\\n",
      "Pileup reweighting & 0.3\\% & 0.6\\% \\\\\n",
      "MET unc. & 0.1\\% & 0.8\\% \\\\\n",
      "Luminosity & 2.5\\% & 2.5\\% \\\\\n",
      "Jet energy scale & 6.1\\% & 7.5\\% \\\\\n",
      "Jet energy resolution & 0.1\\% & 0.5\\% \\\\\n",
      "\\hline\n",
      "\\hline\n",
      "\\end{tabular}\n",
      "\\end{center}\n",
      "\\end{table}\n",
      "\n"
     ]
    }
   ],
   "source": [
    "print(SIG_SYSTS.to_latex())"
   ]
  }
 ],
 "metadata": {
  "kernelspec": {
   "display_name": "Python 3 (ipykernel)",
   "language": "python",
   "name": "python3"
  },
  "language_info": {
   "codemirror_mode": {
    "name": "ipython",
    "version": 3
   },
   "file_extension": ".py",
   "mimetype": "text/x-python",
   "name": "python",
   "nbconvert_exporter": "python",
   "pygments_lexer": "ipython3",
   "version": "3.9.13"
  }
 },
 "nbformat": 4,
 "nbformat_minor": 5
}

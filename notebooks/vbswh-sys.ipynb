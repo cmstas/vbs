{
 "cells": [
  {
   "cell_type": "code",
   "execution_count": 1,
   "id": "ecdbbee7",
   "metadata": {},
   "outputs": [],
   "source": [
    "import uproot\n",
    "import glob\n",
    "import pandas as pd\n",
    "import numpy as np\n",
    "import itertools\n",
    "\n",
    "from utils.analysis import PandasAnalysis\n",
    "from utils.cutflow import Cutflow\n",
    "\n",
    "TAG = \"pku\""
   ]
  },
  {
   "cell_type": "code",
   "execution_count": 2,
   "id": "c1e41840",
   "metadata": {},
   "outputs": [],
   "source": [
    "SIG_SYSTS = []\n",
    "BKG_SYSTS = []\n",
    "\n",
    "def store_syst(new_syst, sig=True):\n",
    "    global SIG_SYSTS\n",
    "    global BKG_SYSTS\n",
    "    systs = SIG_SYSTS if sig else BKG_SYSTS\n",
    "\n",
    "    for syst in systs:\n",
    "        if syst[\"Systematic\"] == new_syst.name:\n",
    "            return\n",
    "        \n",
    "    systs.append({\"Systematic\": new_syst.name})\n",
    "    systs[-1].update(new_syst.get_systs_str())"
   ]
  },
  {
   "cell_type": "code",
   "execution_count": 3,
   "id": "b907884b",
   "metadata": {},
   "outputs": [],
   "source": [
    "class Systematic:\n",
    "    def __init__(self, name, signal_regions):\n",
    "        self.name = name\n",
    "        self.signal_regions = signal_regions\n",
    "        self.systs = {signal_region: [] for signal_region in signal_regions}\n",
    "\n",
    "    def add_syst(self, syst, signal_region):\n",
    "        self.systs[signal_region].append(syst)\n",
    "        \n",
    "    def add_systs(self, systs, signal_region=None):\n",
    "        if signal_region:\n",
    "            self.systs[signal_region] += systs\n",
    "        else:\n",
    "            for syst_i, syst in enumerate(systs):\n",
    "                self.systs[self.signal_regions[syst_i]].append(syst)\n",
    "    \n",
    "    def get_systs(self):\n",
    "        return self.systs\n",
    "    \n",
    "    def get_systs_str(self, signal_region=None):\n",
    "        if signal_region:\n",
    "            systs = self.systs[signal_region]\n",
    "            if len(systs) == 1:\n",
    "                return f\"{systs[0]:0.1%}\"\n",
    "            else:\n",
    "                return f\"{min(systs):0.1%} - {max(systs):0.1%}\"\n",
    "        else:\n",
    "            return {SR: self.get_systs_str(signal_region=SR) for SR in self.signal_regions}"
   ]
  },
  {
   "cell_type": "markdown",
   "id": "64e5ad6f",
   "metadata": {},
   "source": [
    "# Scale factors"
   ]
  },
  {
   "cell_type": "code",
   "execution_count": 4,
   "id": "9950acda",
   "metadata": {},
   "outputs": [
    {
     "data": {
      "text/plain": [
       "['../analysis/studies/vbswh/output_pku/Run2/TTbar2L.root',\n",
       " '../analysis/studies/vbswh/output_pku/Run2/TTX.root',\n",
       " '../analysis/studies/vbswh/output_pku/Run2/WJets.root',\n",
       " '../analysis/studies/vbswh/output_pku/Run2/VH.root',\n",
       " '../analysis/studies/vbswh/output_pku/Run2/EWKWLep.root',\n",
       " '../analysis/studies/vbswh/output_pku/Run2/SingleTop.root',\n",
       " '../analysis/studies/vbswh/output_pku/Run2/TTbar1L.root',\n",
       " '../analysis/studies/vbswh/output_pku/Run2/Bosons.root',\n",
       " '../analysis/studies/vbswh/output_pku/Run2/VBSWH_mkW.root']"
      ]
     },
     "execution_count": 4,
     "metadata": {},
     "output_type": "execute_result"
    }
   ],
   "source": [
    "babies = glob.glob(f\"../analysis/studies/vbswh/output_{TAG}/Run2/*.root\")\n",
    "babies = [baby for baby in babies if \"data\" not in baby]\n",
    "babies"
   ]
  },
  {
   "cell_type": "code",
   "execution_count": 5,
   "id": "01eaac9e",
   "metadata": {},
   "outputs": [
    {
     "name": "stderr",
     "output_type": "stream",
     "text": [
      "Loading sig babies: 100%|████████████████████████████████████████████████████████████████████████████████████████████████████████████████████████████████████████████████████████████████████████████████| 1/1 [00:00<00:00,  3.45it/s]\n",
      "Loading bkg babies: 100%|████████████████████████████████████████████████████████████████████████████████████████████████████████████████████████████████████████████████████████████████████████████████| 8/8 [00:23<00:00,  2.92s/it]\n"
     ]
    }
   ],
   "source": [
    "vbswh = PandasAnalysis(\n",
    "    sig_root_files=[baby for baby in babies if \"VBSWH_mkW\" in baby],\n",
    "    bkg_root_files=[baby for baby in babies if \"VBSWH_mkW\" not in baby],\n",
    "    ttree_name=\"tree\",\n",
    "    weight_columns=[\"xsec_sf\", \"lep_sf\", \"btag_sf\"]\n",
    ")\n",
    "vbswh.df[\"presel_noDetaJJ\"] = vbswh.df.eval(\n",
    "    \"passes_bveto and M_jj > 500 and hbbjet_score > 0.3\"\n",
    ")\n",
    "vbswh.df[\"presel\"] = vbswh.df.eval(\n",
    "    \"passes_bveto and M_jj > 500 and abs(deta_jj) > 3 and hbbjet_score > 0.3\"\n",
    ")\n",
    "vbswh.df[\"SR2\"] = vbswh.df.eval(\n",
    "    \"presel_noDetaJJ and M_jj > 600 and ST > 1500 and hbbjet_score > 0.9 and abs(deta_jj) > 4 and hbbjet_msoftdrop < 150\"\n",
    ")\n",
    "vbswh.df[\"SR1\"] = vbswh.df.eval(\n",
    "    \"presel_noDetaJJ and M_jj > 600 and ST > 900 and hbbjet_score > 0.9 and abs(deta_jj) > 4 and hbbjet_msoftdrop < 150\"\n",
    ")\n",
    "vbswh.df[\"SR2_up\"] = vbswh.df.eval(\n",
    "    \"presel_noDetaJJ and M_jj > 600 and ST_up > 1500 and hbbjet_score > 0.9 and abs(deta_jj) > 4 and hbbjet_msoftdrop < 150\"\n",
    ")\n",
    "vbswh.df[\"SR1_up\"] = vbswh.df.eval(\n",
    "    \"presel_noDetaJJ and M_jj > 600 and ST_up > 900 and hbbjet_score > 0.9 and abs(deta_jj) > 4 and hbbjet_msoftdrop < 150\"\n",
    ")\n",
    "vbswh.df[\"SR2_dn\"] = vbswh.df.eval(\n",
    "    \"presel_noDetaJJ and M_jj > 600 and ST_dn > 1500 and hbbjet_score > 0.9 and abs(deta_jj) > 4 and hbbjet_msoftdrop < 150\"\n",
    ")\n",
    "vbswh.df[\"SR1_dn\"] = vbswh.df.eval(\n",
    "    \"presel_noDetaJJ and M_jj > 600 and ST_dn > 900 and hbbjet_score > 0.9 and abs(deta_jj) > 4 and hbbjet_msoftdrop < 150\"\n",
    ")\n",
    "\n",
    "SIGNAL_REGIONS = [\"SR1\", \"SR2\"]"
   ]
  },
  {
   "cell_type": "code",
   "execution_count": 6,
   "id": "002972eb",
   "metadata": {},
   "outputs": [],
   "source": [
    "def get_systs(sample_name, signal_regions, sf, sf_up, sf_dn):\n",
    "    systs = []\n",
    "    for SR in signal_regions:\n",
    "        df = vbswh.sample_df(name=sample_name, selection=SR)\n",
    "        \n",
    "        count = df.event_weight.sum()\n",
    "        count_up = np.sum(df.event_weight/df[sf]*df[sf_up])\n",
    "        count_dn = np.sum(df.event_weight/df[sf]*df[sf_dn])\n",
    "        \n",
    "        perc_up = abs((count_up - count)/count)\n",
    "        perc_dn = abs((count - count_dn)/count)\n",
    "        \n",
    "        systs.append(max(perc_up, perc_dn))\n",
    "        \n",
    "    return systs"
   ]
  },
  {
   "cell_type": "code",
   "execution_count": 7,
   "id": "0e1f83a6",
   "metadata": {},
   "outputs": [],
   "source": [
    "def get_systs_nonSF(sample_name, signal_regions, signal_regions_up, signal_regions_dn):\n",
    "    systs = []\n",
    "    for SR_i, SR in enumerate(signal_regions):\n",
    "        SR_up = signal_regions_up[SR_i]\n",
    "        SR_dn = signal_regions_dn[SR_i]\n",
    "        \n",
    "        df = vbswh.sample_df(name=sample_name, selection=SR)\n",
    "        df_up = vbswh.sample_df(name=sample_name, selection=SR_up)\n",
    "        df_dn = vbswh.sample_df(name=sample_name, selection=SR_dn)\n",
    "        \n",
    "        count = df.event_weight.sum()\n",
    "        count_up = df_up.event_weight.sum()\n",
    "        count_dn = df_dn.event_weight.sum()\n",
    "        \n",
    "        up_perc = abs((count_up - count)/count)\n",
    "        dn_perc = abs((count - count_dn)/count)\n",
    "        \n",
    "        systs.append(max(up_perc, dn_perc))\n",
    "        \n",
    "    return systs"
   ]
  },
  {
   "cell_type": "markdown",
   "id": "e0f5478d",
   "metadata": {},
   "source": [
    "### Lepton scale factors"
   ]
  },
  {
   "cell_type": "code",
   "execution_count": 8,
   "id": "6eb07ab9",
   "metadata": {},
   "outputs": [],
   "source": [
    "bkg_lep_sf_systs = Systematic(\"Lepton scale factors\", SIGNAL_REGIONS)\n",
    "\n",
    "for baby in babies:\n",
    "    sample_name = baby.split(\"/\")[-1].replace(\".root\", \"\")\n",
    "    if sample_name != \"VBSWH_mkW\":\n",
    "        bkg_lep_sf_systs.add_systs(\n",
    "            get_systs(sample_name, SIGNAL_REGIONS, \"lep_sf\", \"lep_sf_up\", \"lep_sf_dn\")\n",
    "        )\n",
    "        \n",
    "store_syst(bkg_lep_sf_systs, sig=False)"
   ]
  },
  {
   "cell_type": "code",
   "execution_count": 9,
   "id": "04169955",
   "metadata": {},
   "outputs": [],
   "source": [
    "lep_sf_systs = Systematic(\"Lepton scale factors\", SIGNAL_REGIONS)\n",
    "lep_sf_systs.add_systs(\n",
    "    get_systs(\"VBSWH_mkW\", SIGNAL_REGIONS, \"lep_sf\", \"lep_sf_up\", \"lep_sf_dn\")\n",
    ")\n",
    "store_syst(lep_sf_systs)"
   ]
  },
  {
   "cell_type": "markdown",
   "id": "68c8c7e2",
   "metadata": {},
   "source": [
    "### DeepJet b-tagging scale factors"
   ]
  },
  {
   "cell_type": "code",
   "execution_count": 10,
   "id": "f202f0f3",
   "metadata": {},
   "outputs": [],
   "source": [
    "bkg_btag_sf_systs = Systematic(\"DeepJet b-tagging scale factors\", SIGNAL_REGIONS)\n",
    "\n",
    "for baby in babies:\n",
    "    sample_name = baby.split(\"/\")[-1].replace(\".root\", \"\")\n",
    "    if sample_name != \"VBSWH_mkW\":\n",
    "        bkg_btag_sf_systs.add_systs(\n",
    "            get_systs(sample_name, SIGNAL_REGIONS, \"btag_sf\", \"btag_sf_dn\", \"btag_sf_up\")\n",
    "        )\n",
    "\n",
    "store_syst(bkg_btag_sf_systs, sig=False)"
   ]
  },
  {
   "cell_type": "code",
   "execution_count": 11,
   "id": "352659db",
   "metadata": {},
   "outputs": [],
   "source": [
    "btag_sf_systs = Systematic(\"DeepJet b-tagging scale factors\", SIGNAL_REGIONS)\n",
    "btag_sf_systs.add_systs(\n",
    "    get_systs(\"VBSWH_mkW\", SIGNAL_REGIONS, \"btag_sf\", \"btag_sf_dn\", \"btag_sf_up\")\n",
    ")\n",
    "store_syst(btag_sf_systs)"
   ]
  },
  {
   "cell_type": "markdown",
   "id": "aa09748c",
   "metadata": {},
   "source": [
    "### Pileup reweighting"
   ]
  },
  {
   "cell_type": "code",
   "execution_count": 12,
   "id": "93ad39ce",
   "metadata": {},
   "outputs": [],
   "source": [
    "bkg_pu_sf_systs = Systematic(\"Pileup reweighting\", SIGNAL_REGIONS)\n",
    "\n",
    "for baby in babies:\n",
    "    sample_name = baby.split(\"/\")[-1].replace(\".root\", \"\")\n",
    "    if sample_name != \"VBSWH_mkW\":\n",
    "        bkg_pu_sf_systs.add_systs(\n",
    "            get_systs(sample_name, SIGNAL_REGIONS, \"pu_sf\", \"pu_sf_dn\", \"pu_sf_up\")\n",
    "        )\n",
    "\n",
    "store_syst(bkg_pu_sf_systs, sig=False)"
   ]
  },
  {
   "cell_type": "code",
   "execution_count": 13,
   "id": "af7da1e8",
   "metadata": {},
   "outputs": [],
   "source": [
    "pu_sf_systs = Systematic(\"Pileup reweighting\", SIGNAL_REGIONS)\n",
    "pu_sf_systs.add_systs(\n",
    "    get_systs(\"VBSWH_mkW\", SIGNAL_REGIONS, \"pu_sf\", \"pu_sf_dn\", \"pu_sf_up\")\n",
    ")\n",
    "store_syst(pu_sf_systs)"
   ]
  },
  {
   "cell_type": "markdown",
   "id": "9ed0fdb4",
   "metadata": {},
   "source": [
    "### MET uncertainty"
   ]
  },
  {
   "cell_type": "code",
   "execution_count": 14,
   "id": "8a61ad70",
   "metadata": {},
   "outputs": [],
   "source": [
    "bkg_met_unc_systs = Systematic(\"MET unc.\", SIGNAL_REGIONS)\n",
    "\n",
    "for baby in babies:\n",
    "    sample_name = baby.split(\"/\")[-1].replace(\".root\", \"\")\n",
    "    if sample_name != \"VBSWH_mkW\":\n",
    "        bkg_met_unc_systs.add_systs(\n",
    "            get_systs_nonSF(sample_name, SIGNAL_REGIONS, [\"SR1_dn\", \"SR2_dn\"], [\"SR1_up\", \"SR2_up\"])\n",
    "        )\n",
    "\n",
    "store_syst(bkg_met_unc_systs, sig=False)"
   ]
  },
  {
   "cell_type": "code",
   "execution_count": 15,
   "id": "ce6b0391",
   "metadata": {},
   "outputs": [],
   "source": [
    "met_unc_systs = Systematic(\"MET unc.\", SIGNAL_REGIONS)\n",
    "met_unc_systs.add_systs(\n",
    "    get_systs_nonSF(\"VBSWH_mkW\", SIGNAL_REGIONS, [\"SR1_dn\", \"SR2_dn\"], [\"SR1_up\", \"SR2_up\"])\n",
    ")\n",
    "store_syst(met_unc_systs)"
   ]
  },
  {
   "cell_type": "markdown",
   "id": "2e54f5a8",
   "metadata": {},
   "source": [
    "### Luminosity"
   ]
  },
  {
   "cell_type": "code",
   "execution_count": 16,
   "id": "3264145f",
   "metadata": {},
   "outputs": [],
   "source": [
    "lumi_systs = Systematic(\"Luminosity\", SIGNAL_REGIONS)\n",
    "lumi_systs.add_systs([0.025, 0.025])\n",
    "store_syst(lumi_systs)\n",
    "store_syst(lumi_systs, sig=False)"
   ]
  },
  {
   "cell_type": "code",
   "execution_count": 17,
   "id": "b25a9e2f",
   "metadata": {},
   "outputs": [
    {
     "data": {
      "text/html": [
       "<div>\n",
       "<style scoped>\n",
       "    .dataframe tbody tr th:only-of-type {\n",
       "        vertical-align: middle;\n",
       "    }\n",
       "\n",
       "    .dataframe tbody tr th {\n",
       "        vertical-align: top;\n",
       "    }\n",
       "\n",
       "    .dataframe thead th {\n",
       "        text-align: right;\n",
       "    }\n",
       "</style>\n",
       "<table border=\"1\" class=\"dataframe\">\n",
       "  <thead>\n",
       "    <tr style=\"text-align: right;\">\n",
       "      <th></th>\n",
       "      <th>Systematic</th>\n",
       "      <th>SR1</th>\n",
       "      <th>SR2</th>\n",
       "    </tr>\n",
       "  </thead>\n",
       "  <tbody>\n",
       "    <tr>\n",
       "      <th>0</th>\n",
       "      <td>Lepton scale factors</td>\n",
       "      <td>1.5%</td>\n",
       "      <td>1.9%</td>\n",
       "    </tr>\n",
       "    <tr>\n",
       "      <th>1</th>\n",
       "      <td>DeepJet b-tagging scale factors</td>\n",
       "      <td>0.3%</td>\n",
       "      <td>0.3%</td>\n",
       "    </tr>\n",
       "    <tr>\n",
       "      <th>2</th>\n",
       "      <td>Pileup reweighting</td>\n",
       "      <td>1.5%</td>\n",
       "      <td>1.8%</td>\n",
       "    </tr>\n",
       "    <tr>\n",
       "      <th>3</th>\n",
       "      <td>MET unc.</td>\n",
       "      <td>0.1%</td>\n",
       "      <td>0.4%</td>\n",
       "    </tr>\n",
       "    <tr>\n",
       "      <th>4</th>\n",
       "      <td>Luminosity</td>\n",
       "      <td>2.5%</td>\n",
       "      <td>2.5%</td>\n",
       "    </tr>\n",
       "  </tbody>\n",
       "</table>\n",
       "</div>"
      ],
      "text/plain": [
       "                        Systematic   SR1   SR2\n",
       "0             Lepton scale factors  1.5%  1.9%\n",
       "1  DeepJet b-tagging scale factors  0.3%  0.3%\n",
       "2               Pileup reweighting  1.5%  1.8%\n",
       "3                         MET unc.  0.1%  0.4%\n",
       "4                       Luminosity  2.5%  2.5%"
      ]
     },
     "execution_count": 17,
     "metadata": {},
     "output_type": "execute_result"
    }
   ],
   "source": [
    "pd.DataFrame(SIG_SYSTS)"
   ]
  },
  {
   "cell_type": "markdown",
   "id": "9f5c6401",
   "metadata": {},
   "source": [
    "# Jet energy"
   ]
  },
  {
   "cell_type": "code",
   "execution_count": 18,
   "id": "a40e5517",
   "metadata": {},
   "outputs": [],
   "source": [
    "def get_jet_energy_systs(nominal_cflow, up_cflow, dn_cflow, signal_regions, name):\n",
    "    \n",
    "    nominal_cutflow = Cutflow.from_file(nominal_cflow)\n",
    "    up_cutflow = Cutflow.from_file(up_cflow)\n",
    "    dn_cutflow = Cutflow.from_file(dn_cflow)\n",
    "\n",
    "    syst_up_cutflow = (up_cutflow - nominal_cutflow)/nominal_cutflow\n",
    "    syst_dn_cutflow = (nominal_cutflow - dn_cutflow)/nominal_cutflow\n",
    "\n",
    "    systs = Systematic(name, signal_regions.keys())\n",
    "    for SR, cut_name in signal_regions.items():\n",
    "        systs.add_syst(\n",
    "            max(\n",
    "                syst_up_cutflow[cut_name].n_pass,\n",
    "                syst_dn_cutflow[cut_name].n_pass\n",
    "            ),\n",
    "            signal_region=SR\n",
    "        )\n",
    "        \n",
    "    return systs"
   ]
  },
  {
   "cell_type": "markdown",
   "id": "3f6cbfa4",
   "metadata": {},
   "source": [
    "### Jet energy corrections"
   ]
  },
  {
   "cell_type": "code",
   "execution_count": 19,
   "id": "82b0929a",
   "metadata": {},
   "outputs": [],
   "source": [
    "jec_systs = Systematic(\"Jet energy scale\", [\"SR1\", \"SR2\"])\n",
    "\n",
    "for baby in babies:\n",
    "    sample_name = baby.split(\"/\")[-1].replace(\".root\", \"\")\n",
    "    if sample_name != \"VBSWH_mkW\":\n",
    "        systs = get_jet_energy_systs(\n",
    "            f\"../analysis/studies/vbswh/output_pku/Run2/{sample_name}_cutflow.cflow\",\n",
    "            f\"../analysis/studies/vbswh/output_pku_jec_up/Run2/{sample_name}_cutflow.cflow\",\n",
    "            f\"../analysis/studies/vbswh/output_pku_jec_dn/Run2/{sample_name}_cutflow.cflow\",\n",
    "            {\"SR1\": \"XbbGt0p9_MSDLt150\", \"SR2\": \"STGt1500\"},\n",
    "            \"Jet energy scale\"\n",
    "        )\n",
    "        for SR, values in systs.get_systs().items():\n",
    "            jec_systs.add_systs(values, signal_region=SR)\n",
    "        \n",
    "store_syst(jec_systs, sig=False)"
   ]
  },
  {
   "cell_type": "code",
   "execution_count": 20,
   "id": "158bad39",
   "metadata": {},
   "outputs": [],
   "source": [
    "jec_systs = get_jet_energy_systs(\n",
    "    \"../analysis/studies/vbswh/output_pku/Run2/VBSWH_mkW_cutflow.cflow\",\n",
    "    \"../analysis/studies/vbswh/output_pku_jec_up/Run2/VBSWH_mkW_cutflow.cflow\",\n",
    "    \"../analysis/studies/vbswh/output_pku_jec_dn/Run2/VBSWH_mkW_cutflow.cflow\",\n",
    "    {\"SR1\": \"XbbGt0p9_MSDLt150\", \"SR2\": \"STGt1500\"},\n",
    "    \"Jet energy scale\"\n",
    ")\n",
    "store_syst(jec_systs)"
   ]
  },
  {
   "cell_type": "markdown",
   "id": "71e0effc",
   "metadata": {},
   "source": [
    "### Jet energy resolution"
   ]
  },
  {
   "cell_type": "code",
   "execution_count": 21,
   "id": "aa8a0fe5",
   "metadata": {},
   "outputs": [],
   "source": [
    "jer_systs = Systematic(\"Jet energy resolution\", [\"SR1\", \"SR2\"])\n",
    "\n",
    "for baby in babies:\n",
    "    sample_name = baby.split(\"/\")[-1].replace(\".root\", \"\")\n",
    "    if sample_name != \"VBSWH_mkW\":\n",
    "        systs = get_jet_energy_systs(\n",
    "            f\"../analysis/studies/vbswh/output_pku/Run2/{sample_name}_cutflow.cflow\",\n",
    "            f\"../analysis/studies/vbswh/output_pku_jer_up/Run2/{sample_name}_cutflow.cflow\",\n",
    "            f\"../analysis/studies/vbswh/output_pku_jer_dn/Run2/{sample_name}_cutflow.cflow\",\n",
    "            {\"SR1\": \"XbbGt0p9_MSDLt150\", \"SR2\": \"STGt1500\"},\n",
    "            \"Jet energy resolution\"\n",
    "        )\n",
    "        for SR, values in systs.get_systs().items():\n",
    "            jer_systs.add_systs(values, signal_region=SR)\n",
    "        \n",
    "store_syst(jer_systs, sig=False)"
   ]
  },
  {
   "cell_type": "code",
   "execution_count": 22,
   "id": "cb0c7cdf",
   "metadata": {},
   "outputs": [],
   "source": [
    "jer_systs = get_jet_energy_systs(\n",
    "    \"../analysis/studies/vbswh/output_pku/Run2/VBSWH_mkW_cutflow.cflow\",\n",
    "    \"../analysis/studies/vbswh/output_pku_jer_up/Run2/VBSWH_mkW_cutflow.cflow\",\n",
    "    \"../analysis/studies/vbswh/output_pku_jer_dn/Run2/VBSWH_mkW_cutflow.cflow\",\n",
    "    {\"SR1\": \"XbbGt0p9_MSDLt150\", \"SR2\": \"STGt1500\"},\n",
    "    \"Jet energy resolution\"\n",
    ")\n",
    "store_syst(jer_systs)"
   ]
  },
  {
   "cell_type": "code",
   "execution_count": 23,
   "id": "00867ebd",
   "metadata": {},
   "outputs": [
    {
     "data": {
      "text/html": [
       "<div>\n",
       "<style scoped>\n",
       "    .dataframe tbody tr th:only-of-type {\n",
       "        vertical-align: middle;\n",
       "    }\n",
       "\n",
       "    .dataframe tbody tr th {\n",
       "        vertical-align: top;\n",
       "    }\n",
       "\n",
       "    .dataframe thead th {\n",
       "        text-align: right;\n",
       "    }\n",
       "</style>\n",
       "<table border=\"1\" class=\"dataframe\">\n",
       "  <thead>\n",
       "    <tr style=\"text-align: right;\">\n",
       "      <th></th>\n",
       "      <th>Systematic</th>\n",
       "      <th>SR1</th>\n",
       "      <th>SR2</th>\n",
       "    </tr>\n",
       "  </thead>\n",
       "  <tbody>\n",
       "    <tr>\n",
       "      <th>0</th>\n",
       "      <td>Lepton scale factors</td>\n",
       "      <td>1.5%</td>\n",
       "      <td>1.9%</td>\n",
       "    </tr>\n",
       "    <tr>\n",
       "      <th>1</th>\n",
       "      <td>DeepJet b-tagging scale factors</td>\n",
       "      <td>0.3%</td>\n",
       "      <td>0.3%</td>\n",
       "    </tr>\n",
       "    <tr>\n",
       "      <th>2</th>\n",
       "      <td>Pileup reweighting</td>\n",
       "      <td>1.5%</td>\n",
       "      <td>1.8%</td>\n",
       "    </tr>\n",
       "    <tr>\n",
       "      <th>3</th>\n",
       "      <td>MET unc.</td>\n",
       "      <td>0.1%</td>\n",
       "      <td>0.4%</td>\n",
       "    </tr>\n",
       "    <tr>\n",
       "      <th>4</th>\n",
       "      <td>Luminosity</td>\n",
       "      <td>2.5%</td>\n",
       "      <td>2.5%</td>\n",
       "    </tr>\n",
       "    <tr>\n",
       "      <th>5</th>\n",
       "      <td>Jet energy scale</td>\n",
       "      <td>5.0%</td>\n",
       "      <td>6.5%</td>\n",
       "    </tr>\n",
       "    <tr>\n",
       "      <th>6</th>\n",
       "      <td>Jet energy resolution</td>\n",
       "      <td>0.1%</td>\n",
       "      <td>0.4%</td>\n",
       "    </tr>\n",
       "  </tbody>\n",
       "</table>\n",
       "</div>"
      ],
      "text/plain": [
       "                        Systematic   SR1   SR2\n",
       "0             Lepton scale factors  1.5%  1.9%\n",
       "1  DeepJet b-tagging scale factors  0.3%  0.3%\n",
       "2               Pileup reweighting  1.5%  1.8%\n",
       "3                         MET unc.  0.1%  0.4%\n",
       "4                       Luminosity  2.5%  2.5%\n",
       "5                 Jet energy scale  5.0%  6.5%\n",
       "6            Jet energy resolution  0.1%  0.4%"
      ]
     },
     "execution_count": 23,
     "metadata": {},
     "output_type": "execute_result"
    }
   ],
   "source": [
    "pd.DataFrame(SIG_SYSTS)"
   ]
  },
  {
   "cell_type": "code",
   "execution_count": 24,
   "id": "398af104",
   "metadata": {},
   "outputs": [
    {
     "data": {
      "text/html": [
       "<div>\n",
       "<style scoped>\n",
       "    .dataframe tbody tr th:only-of-type {\n",
       "        vertical-align: middle;\n",
       "    }\n",
       "\n",
       "    .dataframe tbody tr th {\n",
       "        vertical-align: top;\n",
       "    }\n",
       "\n",
       "    .dataframe thead th {\n",
       "        text-align: right;\n",
       "    }\n",
       "</style>\n",
       "<table border=\"1\" class=\"dataframe\">\n",
       "  <thead>\n",
       "    <tr style=\"text-align: right;\">\n",
       "      <th></th>\n",
       "      <th>Systematic</th>\n",
       "      <th>SR1</th>\n",
       "      <th>SR2</th>\n",
       "    </tr>\n",
       "  </thead>\n",
       "  <tbody>\n",
       "    <tr>\n",
       "      <th>0</th>\n",
       "      <td>Lepton scale factors</td>\n",
       "      <td>0.9% - 6.5%</td>\n",
       "      <td>0.8% - 3.3%</td>\n",
       "    </tr>\n",
       "    <tr>\n",
       "      <th>1</th>\n",
       "      <td>DeepJet b-tagging scale factors</td>\n",
       "      <td>0.0% - 3.2%</td>\n",
       "      <td>0.2% - 8.3%</td>\n",
       "    </tr>\n",
       "    <tr>\n",
       "      <th>2</th>\n",
       "      <td>Pileup reweighting</td>\n",
       "      <td>0.3% - 10.6%</td>\n",
       "      <td>2.7% - 7.0%</td>\n",
       "    </tr>\n",
       "    <tr>\n",
       "      <th>3</th>\n",
       "      <td>MET unc.</td>\n",
       "      <td>0.0% - 1.4%</td>\n",
       "      <td>0.0% - 3.7%</td>\n",
       "    </tr>\n",
       "    <tr>\n",
       "      <th>4</th>\n",
       "      <td>Luminosity</td>\n",
       "      <td>2.5%</td>\n",
       "      <td>2.5%</td>\n",
       "    </tr>\n",
       "    <tr>\n",
       "      <th>5</th>\n",
       "      <td>Jet energy scale</td>\n",
       "      <td>9.7% - 24.4%</td>\n",
       "      <td>0.0% - 23.5%</td>\n",
       "    </tr>\n",
       "    <tr>\n",
       "      <th>6</th>\n",
       "      <td>Jet energy resolution</td>\n",
       "      <td>1.5% - 12.2%</td>\n",
       "      <td>0.0% - 23.3%</td>\n",
       "    </tr>\n",
       "  </tbody>\n",
       "</table>\n",
       "</div>"
      ],
      "text/plain": [
       "                        Systematic           SR1           SR2\n",
       "0             Lepton scale factors   0.9% - 6.5%   0.8% - 3.3%\n",
       "1  DeepJet b-tagging scale factors   0.0% - 3.2%   0.2% - 8.3%\n",
       "2               Pileup reweighting  0.3% - 10.6%   2.7% - 7.0%\n",
       "3                         MET unc.   0.0% - 1.4%   0.0% - 3.7%\n",
       "4                       Luminosity          2.5%          2.5%\n",
       "5                 Jet energy scale  9.7% - 24.4%  0.0% - 23.5%\n",
       "6            Jet energy resolution  1.5% - 12.2%  0.0% - 23.3%"
      ]
     },
     "execution_count": 24,
     "metadata": {},
     "output_type": "execute_result"
    }
   ],
   "source": [
    "pd.DataFrame(BKG_SYSTS)"
   ]
  }
 ],
 "metadata": {
  "kernelspec": {
   "display_name": "Python 3 (ipykernel)",
   "language": "python",
   "name": "python3"
  },
  "language_info": {
   "codemirror_mode": {
    "name": "ipython",
    "version": 3
   },
   "file_extension": ".py",
   "mimetype": "text/x-python",
   "name": "python",
   "nbconvert_exporter": "python",
   "pygments_lexer": "ipython3",
   "version": "3.9.13"
  }
 },
 "nbformat": 4,
 "nbformat_minor": 5
}

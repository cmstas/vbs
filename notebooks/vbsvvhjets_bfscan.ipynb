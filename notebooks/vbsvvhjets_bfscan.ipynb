{
 "cells": [
  {
   "cell_type": "code",
   "execution_count": 1,
   "id": "166865c5",
   "metadata": {},
   "outputs": [
    {
     "name": "stderr",
     "output_type": "stream",
     "text": [
      "/home/users/jguiang/apps/miniconda3/envs/analysis/lib/python3.9/site-packages/xgboost/compat.py:36: FutureWarning: pandas.Int64Index is deprecated and will be removed from pandas in a future version. Use pandas.Index with the appropriate dtype instead.\n",
      "  from pandas import MultiIndex, Int64Index\n"
     ]
    }
   ],
   "source": [
    "import matplotlib.pyplot as plt\n",
    "import numpy as np\n",
    "import pandas as pd\n",
    "import glob\n",
    "import itertools\n",
    "\n",
    "from sklearn.ensemble import GradientBoostingClassifier\n",
    "from sklearn.metrics import roc_curve\n",
    "from tqdm import tqdm\n",
    "import xgboost as xgb #BDT\n",
    "import pickle\n",
    "import mplhep as hep\n",
    "\n",
    "import concurrent.futures as futures\n",
    "\n",
    "from utils.analysis import Optimization, PandasAnalysis"
   ]
  },
  {
   "cell_type": "code",
   "execution_count": 2,
   "id": "4137dc9b",
   "metadata": {},
   "outputs": [
    {
     "data": {
      "text/plain": [
       "['../analysis/studies/vbsvvhjets/output_new/Run2/TTW.root',\n",
       " '../analysis/studies/vbsvvhjets/output_new/Run2/TTHad.root',\n",
       " '../analysis/studies/vbsvvhjets/output_new/Run2/SingleTop.root',\n",
       " '../analysis/studies/vbsvvhjets/output_new/Run2/QCD.root',\n",
       " '../analysis/studies/vbsvvhjets/output_new/Run2/TTH.root',\n",
       " '../analysis/studies/vbsvvhjets/output_new/Run2/Bosons.root',\n",
       " '../analysis/studies/vbsvvhjets/output_new/Run2/TT1L.root',\n",
       " '../analysis/studies/vbsvvhjets/output_new/Run2/VBSVVH.root']"
      ]
     },
     "execution_count": 2,
     "metadata": {},
     "output_type": "execute_result"
    }
   ],
   "source": [
    "babies = glob.glob(\"../analysis/studies/vbsvvhjets/output_new/Run2/*.root\")\n",
    "babies = [baby for baby in babies if \"data\" not in baby]\n",
    "babies"
   ]
  },
  {
   "cell_type": "code",
   "execution_count": 29,
   "id": "61162cde",
   "metadata": {},
   "outputs": [
    {
     "name": "stderr",
     "output_type": "stream",
     "text": [
      "Loading sig babies: 100%|████████████████████████████████████████████████████████████████████████████████████████████████████████████████████████████████████████████████████████████████████████████████████████████████████████| 1/1 [00:00<00:00,  1.84it/s]\n",
      "Loading bkg babies: 100%|████████████████████████████████████████████████████████████████████████████████████████████████████████████████████████████████████████████████████████████████████████████████████████████████████████| 7/7 [00:07<00:00,  1.05s/it]\n",
      "/home/users/jguiang/apps/miniconda3/envs/analysis/lib/python3.9/site-packages/xgboost/data.py:262: FutureWarning: pandas.Int64Index is deprecated and will be removed from pandas in a future version. Use pandas.Index with the appropriate dtype instead.\n",
      "  elif isinstance(data.columns, (pd.Int64Index, pd.RangeIndex)):\n"
     ]
    }
   ],
   "source": [
    "vbsvvh = Optimization(\n",
    "    sig_root_files=babies[-1:],\n",
    "    bkg_root_files=babies[:-1],\n",
    "    ttree_name=\"tree\",\n",
    "    weight_columns=[\n",
    "        \"xsec_sf\", \n",
    "        \"pu_sf\",\n",
    "        \"prefire_sf\"\n",
    "    ]\n",
    ")\n",
    "\n",
    "vbsvvh.df[\"bdt_presel\"] = vbsvvh.df.eval(\n",
    "    \"ST > 1300\"\n",
    "    + \"and hbbfatjet_score > 0.5\"\n",
    "    + \"and ld_vqqfatjet_score > 0.5 and tr_vqqfatjet_score > 0.5\"\n",
    "    + \"and ld_vqqfatjet_mass < 120 and tr_vqqfatjet_mass < 120\"\n",
    "    + \"and hbbfatjet_mass < 150\"\n",
    ")\n",
    "\n",
    "with open(\"../analysis/studies/vbsvvhjets/vbsvvhjets_bdt/bdt_features.txt\", \"r\") as txt_file:\n",
    "    features = txt_file.read().splitlines()\n",
    "bst = pickle.load(open(\"../analysis/studies/vbsvvhjets/vbsvvhjets_bdt/bdt.pkl\", \"rb\"))\n",
    "vbsvvh.df[\"bdt\"] = bst.predict(xgb.DMatrix(vbsvvh.df[features]))"
   ]
  },
  {
   "cell_type": "code",
   "execution_count": 30,
   "id": "7457b8a6",
   "metadata": {},
   "outputs": [],
   "source": [
    "from utils.cutflow import CutflowCollection, Cutflow, Cut\n",
    "\n",
    "cutflows = CutflowCollection(\n",
    "    cutflows={name: Cutflow() for name in vbsvvh.df.name.unique()}\n",
    ")"
   ]
  },
  {
   "cell_type": "code",
   "execution_count": 31,
   "id": "8c8aa6d3",
   "metadata": {},
   "outputs": [],
   "source": [
    "def update_cutflows(selection, cut_name=None):\n",
    "    global vbsvvh\n",
    "    global cutflows\n",
    "    selection_str = PandasAnalysis.get_selection_str(selection)\n",
    "    for name, cutflow in cutflows.items():\n",
    "        # Get previous cut\n",
    "        if len(cutflow) > 0:\n",
    "            prev_cut = cutflow[cutflow.terminal_cut_names[-1]]\n",
    "        else:\n",
    "            prev_cut = Cut(\"Dummy\")\n",
    "        # Create new cut\n",
    "        _df = vbsvvh.df[(vbsvvh.df.name == name)]\n",
    "        n_pass_raw = len(_df)\n",
    "        n_pass_wgt = _df.event_weight.sum()\n",
    "        new_cut = Cut(\n",
    "            cut_name or selection_str,\n",
    "            n_pass=n_pass_raw,\n",
    "            n_pass_weighted=n_pass_wgt,\n",
    "            n_fail=(prev_cut.n_pass - n_pass_raw),\n",
    "            n_fail_weighted=(prev_cut.n_pass_weighted - n_pass_wgt),\n",
    "        )\n",
    "        # Insert new cut\n",
    "        if len(cutflow) > 0:\n",
    "            cutflow.insert(prev_cut.name, new_cut)\n",
    "        else:\n",
    "            cutflow.set_root_cut(new_cut)\n",
    "            \n",
    "    if \"TotalBkg\" in cutflows.names:\n",
    "        cutflows.pop(\"TotalBkg\")\n",
    "\n",
    "    cutflows[\"TotalBkg\"] = cutflows.sum()\n",
    "\n",
    "    for name in vbsvvh.df[vbsvvh.df.is_data | vbsvvh.df.is_signal].name.unique():\n",
    "        cutflows[\"TotalBkg\"] -= cutflows[name]"
   ]
  },
  {
   "cell_type": "code",
   "execution_count": 32,
   "id": "2f411fe3",
   "metadata": {},
   "outputs": [],
   "source": [
    "vbsvvh.make_selection(\"bdt_presel\")\n",
    "vbsvvh.set_split_column(ratio=0.6, name=\"split\")\n",
    "\n",
    "update_cutflows(\"bdt_presel\")"
   ]
  },
  {
   "cell_type": "code",
   "execution_count": 33,
   "id": "c0343b56",
   "metadata": {},
   "outputs": [],
   "source": [
    "vbsvvh.make_selection(\"M_jj > 600 and abs(deta_jj) > 4\")\n",
    "\n",
    "update_cutflows(\"M_jj > 600 and abs(deta_jj) > 4\")"
   ]
  },
  {
   "cell_type": "code",
   "execution_count": 34,
   "id": "07ebbc51",
   "metadata": {},
   "outputs": [
    {
     "data": {
      "text/plain": [
       "(8.48347621199817, 207.62503816957337)"
      ]
     },
     "execution_count": 34,
     "metadata": {},
     "output_type": "execute_result"
    }
   ],
   "source": [
    "vbsvvh.get_event_counts()"
   ]
  },
  {
   "cell_type": "code",
   "execution_count": 35,
   "id": "293a337f",
   "metadata": {},
   "outputs": [
    {
     "data": {
      "text/plain": [
       "array([0.75, 0.77, 0.79, 0.81, 0.83, 0.85, 0.87, 0.89, 0.91, 0.93, 0.95])"
      ]
     },
     "execution_count": 35,
     "metadata": {},
     "output_type": "execute_result"
    }
   ],
   "source": [
    "np.linspace(0.75, 0.95, 11)"
   ]
  },
  {
   "cell_type": "code",
   "execution_count": 36,
   "id": "e3a02448",
   "metadata": {},
   "outputs": [
    {
     "name": "stderr",
     "output_type": "stream",
     "text": [
      "100%|████████████████████████████████████████████████████████████████████████████████████████████████████████████████████████████████████████████████████████████████████████████████████████████████████████████████████| 14641/14641 [05:03<00:00, 48.30it/s]\n"
     ]
    }
   ],
   "source": [
    "scans = {\n",
    "    \"bdt\": np.linspace(0.75, 0.95, 11),\n",
    "    \"hbbfatjet_score\": np.linspace(0.5, 0.9, 11),\n",
    "    \"ld_vqqfatjet_score\": np.linspace(0.5, 0.9, 11),\n",
    "    \"tr_vqqfatjet_score\": np.linspace(0.5, 0.9, 11)\n",
    "}\n",
    "\n",
    "cuts = {}\n",
    "for var, wps in scans.items():\n",
    "    cuts[var] = []\n",
    "    for wp in wps:\n",
    "        cuts[var].append(f\"{var} > {wp}\")\n",
    "\n",
    "selections = [\" and \".join(combo) for combo in itertools.product(*cuts.values())]\n",
    "\n",
    "fom = lambda S, B: S/np.sqrt(B) if B > 0 else S/np.sqrt(0.0001)\n",
    "            \n",
    "results = []\n",
    "for sel in tqdm(selections):\n",
    "    sig, bkg = vbsvvh.get_event_counts(selection=sel)\n",
    "    results.append((sel, sig, bkg, fom(sig, bkg)))"
   ]
  },
  {
   "cell_type": "code",
   "execution_count": 37,
   "id": "65f9cd40",
   "metadata": {},
   "outputs": [],
   "source": [
    "results_df = pd.DataFrame(\n",
    "    {\n",
    "        \"selection\": [r[0] for r in results],\n",
    "        \"sig\": [r[1] for r in results],\n",
    "        \"bkg\": [r[2] for r in results],\n",
    "        \"fom\": [r[3] for r in results]\n",
    "    }\n",
    ")"
   ]
  },
  {
   "cell_type": "code",
   "execution_count": 40,
   "id": "60d413fe",
   "metadata": {},
   "outputs": [
    {
     "data": {
      "text/html": [
       "<div>\n",
       "<style scoped>\n",
       "    .dataframe tbody tr th:only-of-type {\n",
       "        vertical-align: middle;\n",
       "    }\n",
       "\n",
       "    .dataframe tbody tr th {\n",
       "        vertical-align: top;\n",
       "    }\n",
       "\n",
       "    .dataframe thead th {\n",
       "        text-align: right;\n",
       "    }\n",
       "</style>\n",
       "<table border=\"1\" class=\"dataframe\">\n",
       "  <thead>\n",
       "    <tr style=\"text-align: right;\">\n",
       "      <th></th>\n",
       "      <th>selection</th>\n",
       "      <th>sig</th>\n",
       "      <th>bkg</th>\n",
       "      <th>fom</th>\n",
       "    </tr>\n",
       "  </thead>\n",
       "  <tbody>\n",
       "    <tr>\n",
       "      <th>3910</th>\n",
       "      <td>bdt &gt; 0.79 and hbbfatjet_score &gt; 0.9 and ld_vq...</td>\n",
       "      <td>4.526214</td>\n",
       "      <td>0.704336</td>\n",
       "      <td>5.393184</td>\n",
       "    </tr>\n",
       "    <tr>\n",
       "      <th>3899</th>\n",
       "      <td>bdt &gt; 0.79 and hbbfatjet_score &gt; 0.9 and ld_vq...</td>\n",
       "      <td>4.593207</td>\n",
       "      <td>0.739712</td>\n",
       "      <td>5.340535</td>\n",
       "    </tr>\n",
       "    <tr>\n",
       "      <th>3580</th>\n",
       "      <td>bdt &gt; 0.79 and hbbfatjet_score &gt; 0.78 and ld_v...</td>\n",
       "      <td>4.540158</td>\n",
       "      <td>0.748414</td>\n",
       "      <td>5.248075</td>\n",
       "    </tr>\n",
       "    <tr>\n",
       "      <th>3878</th>\n",
       "      <td>bdt &gt; 0.79 and hbbfatjet_score &gt; 0.9 and ld_vq...</td>\n",
       "      <td>4.573396</td>\n",
       "      <td>0.846456</td>\n",
       "      <td>4.970917</td>\n",
       "    </tr>\n",
       "    <tr>\n",
       "      <th>3877</th>\n",
       "      <td>bdt &gt; 0.79 and hbbfatjet_score &gt; 0.9 and ld_vq...</td>\n",
       "      <td>4.689965</td>\n",
       "      <td>0.890959</td>\n",
       "      <td>4.968677</td>\n",
       "    </tr>\n",
       "    <tr>\n",
       "      <th>3338</th>\n",
       "      <td>bdt &gt; 0.79 and hbbfatjet_score &gt; 0.7 and ld_vq...</td>\n",
       "      <td>4.624939</td>\n",
       "      <td>0.877442</td>\n",
       "      <td>4.937384</td>\n",
       "    </tr>\n",
       "    <tr>\n",
       "      <th>5109</th>\n",
       "      <td>bdt &gt; 0.8099999999999999 and hbbfatjet_score &gt;...</td>\n",
       "      <td>4.543640</td>\n",
       "      <td>0.847193</td>\n",
       "      <td>4.936427</td>\n",
       "    </tr>\n",
       "    <tr>\n",
       "      <th>5208</th>\n",
       "      <td>bdt &gt; 0.8099999999999999 and hbbfatjet_score &gt;...</td>\n",
       "      <td>4.517215</td>\n",
       "      <td>0.838593</td>\n",
       "      <td>4.932817</td>\n",
       "    </tr>\n",
       "    <tr>\n",
       "      <th>3889</th>\n",
       "      <td>bdt &gt; 0.79 and hbbfatjet_score &gt; 0.9 and ld_vq...</td>\n",
       "      <td>4.533466</td>\n",
       "      <td>0.846230</td>\n",
       "      <td>4.928175</td>\n",
       "    </tr>\n",
       "    <tr>\n",
       "      <th>3888</th>\n",
       "      <td>bdt &gt; 0.79 and hbbfatjet_score &gt; 0.9 and ld_vq...</td>\n",
       "      <td>4.647162</td>\n",
       "      <td>0.890733</td>\n",
       "      <td>4.923955</td>\n",
       "    </tr>\n",
       "    <tr>\n",
       "      <th>3690</th>\n",
       "      <td>bdt &gt; 0.79 and hbbfatjet_score &gt; 0.82000000000...</td>\n",
       "      <td>4.587557</td>\n",
       "      <td>0.869126</td>\n",
       "      <td>4.920851</td>\n",
       "    </tr>\n",
       "    <tr>\n",
       "      <th>3789</th>\n",
       "      <td>bdt &gt; 0.79 and hbbfatjet_score &gt; 0.86 and ld_v...</td>\n",
       "      <td>4.650946</td>\n",
       "      <td>0.899611</td>\n",
       "      <td>4.903587</td>\n",
       "    </tr>\n",
       "    <tr>\n",
       "      <th>3459</th>\n",
       "      <td>bdt &gt; 0.79 and hbbfatjet_score &gt; 0.74 and ld_v...</td>\n",
       "      <td>4.578963</td>\n",
       "      <td>0.875124</td>\n",
       "      <td>4.894771</td>\n",
       "    </tr>\n",
       "    <tr>\n",
       "      <th>4306</th>\n",
       "      <td>bdt &gt; 0.8099999999999999 and hbbfatjet_score &gt;...</td>\n",
       "      <td>4.548790</td>\n",
       "      <td>0.867414</td>\n",
       "      <td>4.884080</td>\n",
       "    </tr>\n",
       "    <tr>\n",
       "      <th>3778</th>\n",
       "      <td>bdt &gt; 0.79 and hbbfatjet_score &gt; 0.86 and ld_v...</td>\n",
       "      <td>4.721453</td>\n",
       "      <td>0.934987</td>\n",
       "      <td>4.882844</td>\n",
       "    </tr>\n",
       "  </tbody>\n",
       "</table>\n",
       "</div>"
      ],
      "text/plain": [
       "                                              selection       sig       bkg  \\\n",
       "3910  bdt > 0.79 and hbbfatjet_score > 0.9 and ld_vq...  4.526214  0.704336   \n",
       "3899  bdt > 0.79 and hbbfatjet_score > 0.9 and ld_vq...  4.593207  0.739712   \n",
       "3580  bdt > 0.79 and hbbfatjet_score > 0.78 and ld_v...  4.540158  0.748414   \n",
       "3878  bdt > 0.79 and hbbfatjet_score > 0.9 and ld_vq...  4.573396  0.846456   \n",
       "3877  bdt > 0.79 and hbbfatjet_score > 0.9 and ld_vq...  4.689965  0.890959   \n",
       "3338  bdt > 0.79 and hbbfatjet_score > 0.7 and ld_vq...  4.624939  0.877442   \n",
       "5109  bdt > 0.8099999999999999 and hbbfatjet_score >...  4.543640  0.847193   \n",
       "5208  bdt > 0.8099999999999999 and hbbfatjet_score >...  4.517215  0.838593   \n",
       "3889  bdt > 0.79 and hbbfatjet_score > 0.9 and ld_vq...  4.533466  0.846230   \n",
       "3888  bdt > 0.79 and hbbfatjet_score > 0.9 and ld_vq...  4.647162  0.890733   \n",
       "3690  bdt > 0.79 and hbbfatjet_score > 0.82000000000...  4.587557  0.869126   \n",
       "3789  bdt > 0.79 and hbbfatjet_score > 0.86 and ld_v...  4.650946  0.899611   \n",
       "3459  bdt > 0.79 and hbbfatjet_score > 0.74 and ld_v...  4.578963  0.875124   \n",
       "4306  bdt > 0.8099999999999999 and hbbfatjet_score >...  4.548790  0.867414   \n",
       "3778  bdt > 0.79 and hbbfatjet_score > 0.86 and ld_v...  4.721453  0.934987   \n",
       "\n",
       "           fom  \n",
       "3910  5.393184  \n",
       "3899  5.340535  \n",
       "3580  5.248075  \n",
       "3878  4.970917  \n",
       "3877  4.968677  \n",
       "3338  4.937384  \n",
       "5109  4.936427  \n",
       "5208  4.932817  \n",
       "3889  4.928175  \n",
       "3888  4.923955  \n",
       "3690  4.920851  \n",
       "3789  4.903587  \n",
       "3459  4.894771  \n",
       "4306  4.884080  \n",
       "3778  4.882844  "
      ]
     },
     "execution_count": 40,
     "metadata": {},
     "output_type": "execute_result"
    }
   ],
   "source": [
    "results_df[(results_df.sig > 4.5) & (results_df.bkg > 0)].sort_values(\"fom\", ascending=False)[:15]"
   ]
  },
  {
   "cell_type": "code",
   "execution_count": 45,
   "id": "5a565be2",
   "metadata": {},
   "outputs": [
    {
     "data": {
      "text/plain": [
       "'bdt > 0.79 and hbbfatjet_score > 0.9 and ld_vqqfatjet_score > 0.62 and tr_vqqfatjet_score > 0.7'"
      ]
     },
     "execution_count": 45,
     "metadata": {},
     "output_type": "execute_result"
    }
   ],
   "source": [
    "bf_SR = results_df[(results_df.sig > 4.5) & (results_df.bkg > 0)].sort_values(\"fom\", ascending=False)[:15].selection.values[0]\n",
    "bf_SR"
   ]
  },
  {
   "cell_type": "code",
   "execution_count": 46,
   "id": "5784fdea",
   "metadata": {},
   "outputs": [
    {
     "data": {
      "text/plain": [
       "(4.486506345639647, 0.6467198500841318)"
      ]
     },
     "execution_count": 46,
     "metadata": {},
     "output_type": "execute_result"
    }
   ],
   "source": [
    "bf_rounded_SR = \"bdt > 0.8 and hbbfatjet_score > 0.9 and ld_vqqfatjet_score > 0.6 and tr_vqqfatjet_score > 0.7\"\n",
    "vbsvvh.get_event_counts(bf_rounded_SR)"
   ]
  },
  {
   "cell_type": "code",
   "execution_count": 48,
   "id": "99b0e3d3",
   "metadata": {},
   "outputs": [],
   "source": [
    "vbsvvh.df[\"SR\"] = vbsvvh.df.eval(bf_rounded_SR)"
   ]
  },
  {
   "cell_type": "code",
   "execution_count": 49,
   "id": "f40a93d1",
   "metadata": {},
   "outputs": [],
   "source": [
    "vbsvvh.make_selection(\"SR\")\n",
    "\n",
    "update_cutflows(\"SR\")"
   ]
  },
  {
   "cell_type": "code",
   "execution_count": 50,
   "id": "ef9c6c80",
   "metadata": {},
   "outputs": [],
   "source": [
    "cutflows.reorder([\"QCD\", \"TTHad\", \"TT1L\", \"TTW\", \"TTH\", \"SingleTop\", \"Bosons\", \"TotalBkg\", \"VBSVVH\"])\n",
    "cutflows.write_csv(\"test.csv\", cutflows.terminal_cut_names[-1])"
   ]
  }
 ],
 "metadata": {
  "kernelspec": {
   "display_name": "Python 3 (ipykernel)",
   "language": "python",
   "name": "python3"
  },
  "language_info": {
   "codemirror_mode": {
    "name": "ipython",
    "version": 3
   },
   "file_extension": ".py",
   "mimetype": "text/x-python",
   "name": "python",
   "nbconvert_exporter": "python",
   "pygments_lexer": "ipython3",
   "version": "3.9.13"
  }
 },
 "nbformat": 4,
 "nbformat_minor": 5
}

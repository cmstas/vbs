{
 "cells": [
  {
   "cell_type": "code",
   "execution_count": 1,
   "id": "166865c5",
   "metadata": {},
   "outputs": [
    {
     "name": "stderr",
     "output_type": "stream",
     "text": [
      "/home/users/jguiang/apps/miniconda3/envs/analysis/lib/python3.9/site-packages/xgboost/compat.py:36: FutureWarning: pandas.Int64Index is deprecated and will be removed from pandas in a future version. Use pandas.Index with the appropriate dtype instead.\n",
      "  from pandas import MultiIndex, Int64Index\n"
     ]
    }
   ],
   "source": [
    "import matplotlib.pyplot as plt\n",
    "import numpy as np\n",
    "import pandas as pd\n",
    "import glob\n",
    "import itertools\n",
    "\n",
    "from sklearn.ensemble import GradientBoostingClassifier\n",
    "from sklearn.metrics import roc_curve\n",
    "from tqdm import tqdm\n",
    "import xgboost as xgb #BDT\n",
    "import pickle\n",
    "import mplhep as hep\n",
    "\n",
    "import concurrent.futures as futures\n",
    "\n",
    "from utils.analysis import Optimization"
   ]
  },
  {
   "cell_type": "code",
   "execution_count": 2,
   "id": "4137dc9b",
   "metadata": {},
   "outputs": [
    {
     "data": {
      "text/plain": [
       "['../analysis/studies/vbsvvhjets/output_new/Run2/TTW.root',\n",
       " '../analysis/studies/vbsvvhjets/output_new/Run2/TTHad.root',\n",
       " '../analysis/studies/vbsvvhjets/output_new/Run2/SingleTop.root',\n",
       " '../analysis/studies/vbsvvhjets/output_new/Run2/QCD.root',\n",
       " '../analysis/studies/vbsvvhjets/output_new/Run2/TTH.root',\n",
       " '../analysis/studies/vbsvvhjets/output_new/Run2/Bosons.root',\n",
       " '../analysis/studies/vbsvvhjets/output_new/Run2/TT1L.root',\n",
       " '../analysis/studies/vbsvvhjets/output_new/Run2/VBSVVH.root']"
      ]
     },
     "execution_count": 2,
     "metadata": {},
     "output_type": "execute_result"
    }
   ],
   "source": [
    "babies = glob.glob(\"../analysis/studies/vbsvvhjets/output_new/Run2/*.root\")\n",
    "babies = [baby for baby in babies if \"data\" not in baby]\n",
    "babies"
   ]
  },
  {
   "cell_type": "code",
   "execution_count": 3,
   "id": "61162cde",
   "metadata": {},
   "outputs": [
    {
     "name": "stderr",
     "output_type": "stream",
     "text": [
      "Loading sig babies: 100%|███████████████████████████████████████████████████████████████████████████████████████████████████████████████████████████| 1/1 [00:00<00:00,  1.84it/s]\n",
      "Loading bkg babies: 100%|███████████████████████████████████████████████████████████████████████████████████████████████████████████████████████████| 7/7 [00:07<00:00,  1.06s/it]\n",
      "/home/users/jguiang/apps/miniconda3/envs/analysis/lib/python3.9/site-packages/xgboost/data.py:262: FutureWarning: pandas.Int64Index is deprecated and will be removed from pandas in a future version. Use pandas.Index with the appropriate dtype instead.\n",
      "  elif isinstance(data.columns, (pd.Int64Index, pd.RangeIndex)):\n"
     ]
    }
   ],
   "source": [
    "vbsvvh = Optimization(\n",
    "    sig_root_files=babies[-1:],\n",
    "    bkg_root_files=babies[:-1],\n",
    "    ttree_name=\"tree\",\n",
    "    weight_columns=[\n",
    "        \"xsec_sf\", \n",
    "        \"pu_sf\",\n",
    "        \"prefire_sf\"\n",
    "    ]\n",
    ")\n",
    "\n",
    "with open(\"../analysis/studies/vbsvvhjets/vbsvvhjets_bdt/bdt_features.txt\", \"r\") as txt_file:\n",
    "    features = txt_file.read().splitlines()\n",
    "bst = pickle.load(open(\"../analysis/studies/vbsvvhjets/vbsvvhjets_bdt/bdt.pkl\", \"rb\"))\n",
    "vbsvvh.df[\"bdt\"] = bst.predict(xgb.DMatrix(vbsvvh.df[features]))"
   ]
  },
  {
   "cell_type": "code",
   "execution_count": 4,
   "id": "2f411fe3",
   "metadata": {},
   "outputs": [],
   "source": [
    "vbsvvh.make_selection(\n",
    "    \"ST > 1300\"\n",
    "    + \"and hbbfatjet_score > 0.5\"\n",
    "    + \"and ld_vqqfatjet_score > 0.5 and tr_vqqfatjet_score > 0.5\"\n",
    "    + \"and ld_vqqfatjet_mass < 120 and tr_vqqfatjet_mass < 120\"\n",
    "    + \"and hbbfatjet_mass < 150\"\n",
    ")\n",
    "vbsvvh.set_split_column(ratio=0.6, name=\"split\")"
   ]
  },
  {
   "cell_type": "code",
   "execution_count": 5,
   "id": "c0343b56",
   "metadata": {},
   "outputs": [],
   "source": [
    "vbsvvh.make_selection(\"M_jj > 500 and abs(deta_jj) > 3\")"
   ]
  },
  {
   "cell_type": "code",
   "execution_count": 6,
   "id": "07ebbc51",
   "metadata": {},
   "outputs": [
    {
     "data": {
      "text/plain": [
       "(8.805810928567691, 285.5180614380611)"
      ]
     },
     "execution_count": 6,
     "metadata": {},
     "output_type": "execute_result"
    }
   ],
   "source": [
    "vbsvvh.get_event_counts()"
   ]
  },
  {
   "cell_type": "code",
   "execution_count": 7,
   "id": "e3a02448",
   "metadata": {},
   "outputs": [
    {
     "name": "stderr",
     "output_type": "stream",
     "text": [
      "100%|███████████████████████████████████████████████████████████████████████████████████████████████████████████████████████████████████████| 14641/14641 [04:59<00:00, 48.96it/s]\n"
     ]
    }
   ],
   "source": [
    "scans = {\n",
    "    \"bdt\": np.linspace(0.79, 0.99, 11),\n",
    "    \"hbbfatjet_score\": np.linspace(0.75, 0.95, 11),\n",
    "    \"ld_vqqfatjet_score\": np.linspace(0.75, 0.95, 11),\n",
    "    \"tr_vqqfatjet_score\": np.linspace(0.75, 0.95, 11)\n",
    "}\n",
    "\n",
    "cuts = {}\n",
    "for var, wps in scans.items():\n",
    "    cuts[var] = []\n",
    "    for wp in wps:\n",
    "        cuts[var].append(f\"{var} > {wp}\")\n",
    "\n",
    "selections = [\" and \".join(combo) for combo in itertools.product(*cuts.values())]\n",
    "\n",
    "fom = lambda S, B: S/np.sqrt(B) if B > 0 else S/np.sqrt(0.0001)\n",
    "            \n",
    "results = []\n",
    "for sel in tqdm(selections):\n",
    "    sig, bkg = vbsvvh.get_event_counts(selection=sel)\n",
    "    results.append((sel, sig, bkg, fom(sig, bkg)))"
   ]
  },
  {
   "cell_type": "code",
   "execution_count": 8,
   "id": "65f9cd40",
   "metadata": {},
   "outputs": [],
   "source": [
    "results_df = pd.DataFrame(\n",
    "    {\n",
    "        \"selection\": [r[0] for r in results],\n",
    "        \"sig\": [r[1] for r in results],\n",
    "        \"bkg\": [r[2] for r in results],\n",
    "        \"fom\": [r[3] for r in results]\n",
    "    }\n",
    ")"
   ]
  },
  {
   "cell_type": "code",
   "execution_count": 9,
   "id": "60d413fe",
   "metadata": {},
   "outputs": [
    {
     "data": {
      "text/html": [
       "<div>\n",
       "<style scoped>\n",
       "    .dataframe tbody tr th:only-of-type {\n",
       "        vertical-align: middle;\n",
       "    }\n",
       "\n",
       "    .dataframe tbody tr th {\n",
       "        vertical-align: top;\n",
       "    }\n",
       "\n",
       "    .dataframe thead th {\n",
       "        text-align: right;\n",
       "    }\n",
       "</style>\n",
       "<table border=\"1\" class=\"dataframe\">\n",
       "  <thead>\n",
       "    <tr style=\"text-align: right;\">\n",
       "      <th></th>\n",
       "      <th>selection</th>\n",
       "      <th>sig</th>\n",
       "      <th>bkg</th>\n",
       "      <th>fom</th>\n",
       "    </tr>\n",
       "  </thead>\n",
       "  <tbody>\n",
       "    <tr>\n",
       "      <th>5929</th>\n",
       "      <td>bdt &gt; 0.87 and hbbfatjet_score &gt; 0.85 and ld_v...</td>\n",
       "      <td>4.644066</td>\n",
       "      <td>0.543949</td>\n",
       "      <td>6.296791</td>\n",
       "    </tr>\n",
       "    <tr>\n",
       "      <th>6050</th>\n",
       "      <td>bdt &gt; 0.87 and hbbfatjet_score &gt; 0.87 and ld_v...</td>\n",
       "      <td>4.626166</td>\n",
       "      <td>0.543949</td>\n",
       "      <td>6.272522</td>\n",
       "    </tr>\n",
       "    <tr>\n",
       "      <th>6171</th>\n",
       "      <td>bdt &gt; 0.87 and hbbfatjet_score &gt; 0.89 and ld_v...</td>\n",
       "      <td>4.606611</td>\n",
       "      <td>0.543949</td>\n",
       "      <td>6.246007</td>\n",
       "    </tr>\n",
       "    <tr>\n",
       "      <th>5940</th>\n",
       "      <td>bdt &gt; 0.87 and hbbfatjet_score &gt; 0.85 and ld_v...</td>\n",
       "      <td>4.584837</td>\n",
       "      <td>0.539702</td>\n",
       "      <td>6.240892</td>\n",
       "    </tr>\n",
       "    <tr>\n",
       "      <th>6292</th>\n",
       "      <td>bdt &gt; 0.87 and hbbfatjet_score &gt; 0.90999999999...</td>\n",
       "      <td>4.586120</td>\n",
       "      <td>0.543410</td>\n",
       "      <td>6.221306</td>\n",
       "    </tr>\n",
       "    <tr>\n",
       "      <th>6061</th>\n",
       "      <td>bdt &gt; 0.87 and hbbfatjet_score &gt; 0.87 and ld_v...</td>\n",
       "      <td>4.566937</td>\n",
       "      <td>0.539702</td>\n",
       "      <td>6.216527</td>\n",
       "    </tr>\n",
       "    <tr>\n",
       "      <th>6182</th>\n",
       "      <td>bdt &gt; 0.87 and hbbfatjet_score &gt; 0.89 and ld_v...</td>\n",
       "      <td>4.547382</td>\n",
       "      <td>0.539702</td>\n",
       "      <td>6.189908</td>\n",
       "    </tr>\n",
       "    <tr>\n",
       "      <th>5930</th>\n",
       "      <td>bdt &gt; 0.87 and hbbfatjet_score &gt; 0.85 and ld_v...</td>\n",
       "      <td>4.550129</td>\n",
       "      <td>0.542756</td>\n",
       "      <td>6.176199</td>\n",
       "    </tr>\n",
       "    <tr>\n",
       "      <th>6413</th>\n",
       "      <td>bdt &gt; 0.87 and hbbfatjet_score &gt; 0.92999999999...</td>\n",
       "      <td>4.537658</td>\n",
       "      <td>0.541087</td>\n",
       "      <td>6.168764</td>\n",
       "    </tr>\n",
       "    <tr>\n",
       "      <th>6303</th>\n",
       "      <td>bdt &gt; 0.87 and hbbfatjet_score &gt; 0.90999999999...</td>\n",
       "      <td>4.526891</td>\n",
       "      <td>0.539164</td>\n",
       "      <td>6.165095</td>\n",
       "    </tr>\n",
       "  </tbody>\n",
       "</table>\n",
       "</div>"
      ],
      "text/plain": [
       "                                              selection       sig       bkg  \\\n",
       "5929  bdt > 0.87 and hbbfatjet_score > 0.85 and ld_v...  4.644066  0.543949   \n",
       "6050  bdt > 0.87 and hbbfatjet_score > 0.87 and ld_v...  4.626166  0.543949   \n",
       "6171  bdt > 0.87 and hbbfatjet_score > 0.89 and ld_v...  4.606611  0.543949   \n",
       "5940  bdt > 0.87 and hbbfatjet_score > 0.85 and ld_v...  4.584837  0.539702   \n",
       "6292  bdt > 0.87 and hbbfatjet_score > 0.90999999999...  4.586120  0.543410   \n",
       "6061  bdt > 0.87 and hbbfatjet_score > 0.87 and ld_v...  4.566937  0.539702   \n",
       "6182  bdt > 0.87 and hbbfatjet_score > 0.89 and ld_v...  4.547382  0.539702   \n",
       "5930  bdt > 0.87 and hbbfatjet_score > 0.85 and ld_v...  4.550129  0.542756   \n",
       "6413  bdt > 0.87 and hbbfatjet_score > 0.92999999999...  4.537658  0.541087   \n",
       "6303  bdt > 0.87 and hbbfatjet_score > 0.90999999999...  4.526891  0.539164   \n",
       "\n",
       "           fom  \n",
       "5929  6.296791  \n",
       "6050  6.272522  \n",
       "6171  6.246007  \n",
       "5940  6.240892  \n",
       "6292  6.221306  \n",
       "6061  6.216527  \n",
       "6182  6.189908  \n",
       "5930  6.176199  \n",
       "6413  6.168764  \n",
       "6303  6.165095  "
      ]
     },
     "execution_count": 9,
     "metadata": {},
     "output_type": "execute_result"
    }
   ],
   "source": [
    "results_df[(results_df.sig > 4.5) & (results_df.bkg > 0)].sort_values(\"fom\", ascending=False)[:10]"
   ]
  },
  {
   "cell_type": "code",
   "execution_count": null,
   "id": "99b0e3d3",
   "metadata": {},
   "outputs": [],
   "source": []
  }
 ],
 "metadata": {
  "kernelspec": {
   "display_name": "Python 3 (ipykernel)",
   "language": "python",
   "name": "python3"
  },
  "language_info": {
   "codemirror_mode": {
    "name": "ipython",
    "version": 3
   },
   "file_extension": ".py",
   "mimetype": "text/x-python",
   "name": "python",
   "nbconvert_exporter": "python",
   "pygments_lexer": "ipython3",
   "version": "3.9.13"
  }
 },
 "nbformat": 4,
 "nbformat_minor": 5
}

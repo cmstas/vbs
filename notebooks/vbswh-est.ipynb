{
 "cells": [
  {
   "cell_type": "code",
   "execution_count": 1,
   "id": "5bf0bf44",
   "metadata": {},
   "outputs": [],
   "source": [
    "import glob\n",
    "import json\n",
    "import numpy as np\n",
    "from utils.analysis import Extrapolation"
   ]
  },
  {
   "cell_type": "code",
   "execution_count": 2,
   "id": "36715425",
   "metadata": {},
   "outputs": [
    {
     "name": "stdout",
     "output_type": "stream",
     "text": [
      "['../analysis/studies/vbswh/output_kscans/Run2/data.root']\n",
      "['../analysis/studies/vbswh/output_kscans/Run2/VBSWH_mkW.root']\n"
     ]
    },
    {
     "data": {
      "text/plain": [
       "['../analysis/studies/vbswh/output_kscans/Run2/TTX.root',\n",
       " '../analysis/studies/vbswh/output_kscans/Run2/TTbar2L.root',\n",
       " '../analysis/studies/vbswh/output_kscans/Run2/TTbar1L.root',\n",
       " '../analysis/studies/vbswh/output_kscans/Run2/VH.root',\n",
       " '../analysis/studies/vbswh/output_kscans/Run2/EWKWLep.root',\n",
       " '../analysis/studies/vbswh/output_kscans/Run2/Bosons.root',\n",
       " '../analysis/studies/vbswh/output_kscans/Run2/SingleTop.root',\n",
       " '../analysis/studies/vbswh/output_kscans/Run2/WJets.root']"
      ]
     },
     "execution_count": 2,
     "metadata": {},
     "output_type": "execute_result"
    }
   ],
   "source": [
    "# TAG = \"pku\"\n",
    "TAG = \"kscans\"\n",
    "babies = glob.glob(f\"../analysis/studies/vbswh/output_{TAG}/Run2/*.root\")\n",
    "babies = [baby for baby in babies if \"Lambda\" not in baby and \"VBSWH_SM\" not in baby]\n",
    "data_babies = [baby for baby in babies if \"data\" in baby]\n",
    "sig_babies = [baby for baby in babies if \"VBSWH_mkW\" in baby]\n",
    "bkg_babies = list(set(babies) - set(data_babies + sig_babies))\n",
    "print(data_babies)\n",
    "print(sig_babies)\n",
    "bkg_babies"
   ]
  },
  {
   "cell_type": "code",
   "execution_count": 3,
   "id": "68a7a331",
   "metadata": {},
   "outputs": [
    {
     "name": "stderr",
     "output_type": "stream",
     "text": [
      "Loading sig babies: 100%|████████████████████████████████████████████████████████████████████████████████████████████████████████████████████████████████████████████████████████████████████████████████████████████████████████| 1/1 [00:00<00:00,  2.57it/s]\n",
      "Loading bkg babies: 100%|████████████████████████████████████████████████████████████████████████████████████████████████████████████████████████████████████████████████████████████████████████████████████████████████████████| 8/8 [00:41<00:00,  5.24s/it]\n",
      "Loading data babies: 100%|███████████████████████████████████████████████████████████████████████████████████████████████████████████████████████████████████████████████████████████████████████████████████████████████████████| 1/1 [00:01<00:00,  1.19s/it]\n"
     ]
    }
   ],
   "source": [
    "vbswh = Extrapolation(\n",
    "    sig_root_files=sig_babies,\n",
    "    bkg_root_files=bkg_babies,\n",
    "    data_root_files=data_babies,\n",
    "    ttree_name=\"tree\",\n",
    "    weight_columns=[\n",
    "        \"xsec_sf\", \"lep_id_sf\", \"ewkfix_sf\", \n",
    "        \"elec_reco_sf\", \"muon_iso_sf\", \n",
    "        \"btag_sf\", \"pu_sf\", \"prefire_sf\", \"trig_sf\",\n",
    "        \"xbb_sf\" # applied only because Xbb > 0.9 applied everywhere for ABCD\n",
    "    ],\n",
    "    reweight_column=\"reweights\",\n",
    "    plots_dir=f\"/home/users/jguiang/public_html/onelep_plots/{TAG}/val\"\n",
    ")\n",
    "vbswh.df[\"presel_noVBS_noBVeto\"] = vbswh.df.eval(\n",
    "    \"hbbjet_score > 0.3\"\n",
    ")\n",
    "vbswh.df[\"presel_noVBS\"] = vbswh.df.eval(\n",
    "    \"passes_bveto and hbbjet_score > 0.3\"\n",
    ")\n",
    "vbswh.df[\"presel_noDetaJJ\"] = vbswh.df.eval(\n",
    "    \"passes_bveto and M_jj > 500 and hbbjet_score > 0.3\"\n",
    ")\n",
    "vbswh.df[\"presel\"] = vbswh.df.eval(\n",
    "    \"passes_bveto and M_jj > 500 and abs(deta_jj) > 3 and hbbjet_score > 0.3\"\n",
    ")\n",
    "\n",
    "ORIG_EVENT_WEIGHT = vbswh.df.event_weight.values.copy()"
   ]
  },
  {
   "cell_type": "code",
   "execution_count": 4,
   "id": "2028f9ca",
   "metadata": {},
   "outputs": [],
   "source": [
    "SRlike  = \"presel_noDetaJJ and M_jj > 600 and ST > 900 and hbbjet_score > 0.9\"\n",
    "regionA = f\"{SRlike} and abs(deta_jj) > 4 and hbbjet_msoftdrop >= 150\"\n",
    "regionB = f\"{SRlike} and abs(deta_jj) <= 4 and hbbjet_msoftdrop >= 150\"\n",
    "regionC = f\"{SRlike} and abs(deta_jj) <= 4 and hbbjet_msoftdrop < 150\"\n",
    "regionD = f\"{SRlike} and abs(deta_jj) > 4 and hbbjet_msoftdrop < 150\"\n",
    "AN_numbers = {\n",
    "    \"PredBkg\": 0,\n",
    "    \"PredBkgStatErr\": 0,\n",
    "    \"PredBkgSystErr\": 0,\n",
    "    \"ExpSig\": round(vbswh.sig_count(selection=regionD)),\n",
    "    \"ExpSigStatErr\": round(vbswh.sig_error(selection=regionD), 1),\n",
    "    \"ExpSigSystErr\": 0,\n",
    "    \"ExpBkg\": round(vbswh.bkg_count(selection=regionD)),\n",
    "    \"BkgEstABMC\": 0,\n",
    "    \"BkgEstABMCErr\": 0,\n",
    "    \"BkgEstABData\": 0,\n",
    "    \"BkgEstABDataErr\": 0,\n",
    "    \"PredBkgMC\": 0,\n",
    "    \"BkgEstMethodSystErr\": 0,\n",
    "    \"BkgEstBkgCompSystErr\": 0,\n",
    "    \"BkgEstTotalSystErr\": 0,\n",
    "    \"BkgEstStatErr\": 0,\n",
    "    \"BkgEstWJetsUpABMC\": 0,\n",
    "    \"BkgEstWJetsUpABMCErr\": 0,\n",
    "    \"BkgEstWJetsDownABMC\": 0,\n",
    "    \"BkgEstWJetsDownABMCErr\": 0,\n",
    "    \"BkgEstWJetsCompSyst\": 0,\n",
    "    \"BkgEstBosonsUpABMC\": 0,\n",
    "    \"BkgEstBosonsUpABMCErr\": 0,\n",
    "    \"BkgEstBosonsDownABMC\": 0,\n",
    "    \"BkgEstBosonsDownABMCErr\": 0,\n",
    "    \"BkgEstBosonsCompSyst\": 0,\n",
    "    \"SRTwoPredBkg\": 0,\n",
    "    \"SRTwoPredBkgStatErr\": 0,\n",
    "    \"SRTwoPredBkgSystErr\": 0,\n",
    "    \"SRTwoBkgEstStatErr\": 0,\n",
    "    \"SRTwoBkgEstSystErr\": 0,\n",
    "    \"SRTwoExpSig\": round(vbswh.sig_count(selection=f\"{regionD} and ST > 1500\")),\n",
    "    \"SRTwoExpSigStatErr\": round(vbswh.sig_error(selection=f\"{regionD} and ST > 1500\"), 1),\n",
    "    \"SRTwoExpSigSystErr\": 0,\n",
    "    \"LambdaWZeqNegOneExcl\": 0\n",
    "}"
   ]
  },
  {
   "cell_type": "code",
   "execution_count": 5,
   "id": "f0f71384",
   "metadata": {},
   "outputs": [
    {
     "name": "stdout",
     "output_type": "stream",
     "text": [
      "cut,region,bkg_wgt,bkg_err,sig_wgt,sig_err,data,data_err\n",
      "presel_noDetaJJ and M_jj > 600 and ST > 900 and hbbjet_score > 0.9 and abs(deta_jj) > 4 and (not (hbbjet_msoftdrop < 150)),A,185.61913298811191,3.399727612257301,12.569049309149426,1.5489900798891199,146,12.083045973594572\n",
      "presel_noDetaJJ and M_jj > 600 and ST > 900 and hbbjet_score > 0.9 and (not (abs(deta_jj) > 4)) and (not (hbbjet_msoftdrop < 150)),B,242.70142790518247,5.858835154095652,0.9358293965500213,0.42452784077605155,199,14.106735979665885\n",
      "presel_noDetaJJ and M_jj > 600 and ST > 900 and hbbjet_score > 0.9 and (not (abs(deta_jj) > 4)) and hbbjet_msoftdrop < 150,C,182.28043693055704,4.5385021477814265,16.350125430785535,1.7950242528863525,172,13.114877048604\n",
      "presel_noDetaJJ and M_jj > 600 and ST > 900 and hbbjet_score > 0.9 and abs(deta_jj) > 4 and hbbjet_msoftdrop < 150,D,126.91246618586658,4.225780500789866,410.103189913575,8.879494851738098,BLINDED,BLINDED\n",
      "\n",
      "name,extp,rel_err\n",
      "BtoA_MC,0.764804453728343,0.030301908770295528\n",
      "BtoA_data,0.7336683417085427,0.1089699072984549\n"
     ]
    }
   ],
   "source": [
    "pred, stat, syst = vbswh.ABCD( \n",
    "    \"abs(deta_jj) > 4\",\n",
    "    \"hbbjet_msoftdrop < 150\",\n",
    "    \"presel_noDetaJJ and M_jj > 600 and ST > 900 and hbbjet_score > 0.9\",\n",
    "    h_dir=\"left\", v_dir=\"up\", \n",
    "    show_data=True\n",
    ")\n",
    "AN_numbers[\"PredBkg\"] = round(pred)\n",
    "AN_numbers[\"PredBkgStatErr\"] = round(pred*stat, 1)\n",
    "A_bkg_wgt = vbswh.bkg_count(selection=regionA)\n",
    "A_bkg_err = vbswh.bkg_error(selection=regionA)\n",
    "B_bkg_wgt = vbswh.bkg_count(selection=regionB)\n",
    "B_bkg_err = vbswh.bkg_error(selection=regionB)\n",
    "AN_numbers[\"PredBkgMC\"] = round(A_bkg_wgt/B_bkg_wgt*vbswh.bkg_count(selection=regionC), 1)\n",
    "AN_numbers[\"BkgEstABMC\"] = A_bkg_wgt/B_bkg_wgt\n",
    "AN_numbers[\"BkgEstABMCErr\"] = round(np.sqrt((B_bkg_err/B_bkg_wgt)**2 + (A_bkg_err/A_bkg_wgt)**2)*100, 1)\n",
    "AN_numbers[\"BkgEstMethodSystErr\"] = syst*100\n",
    "AN_numbers[\"BkgEstStatErr\"] = stat*100\n",
    "A_data     = vbswh.data_count(selection=regionA)\n",
    "A_data_err = vbswh.data_error(selection=regionA)\n",
    "B_data     = vbswh.data_count(selection=regionB)\n",
    "B_data_err = vbswh.data_error(selection=regionB)\n",
    "AN_numbers[\"BkgEstABData\"] = A_data/B_data\n",
    "AN_numbers[\"BkgEstABDataErr\"] = round(np.sqrt((B_data_err/B_data)**2 + (A_data_err/A_data)**2)*100, 1)"
   ]
  },
  {
   "cell_type": "code",
   "execution_count": 6,
   "id": "eb678e05",
   "metadata": {},
   "outputs": [
    {
     "name": "stdout",
     "output_type": "stream",
     "text": [
      "cut,region,bkg_wgt,bkg_err,sig_wgt,sig_err,data,data_err\n",
      "presel_noDetaJJ and M_jj > 600 and ST > 900 and hbbjet_score > 0.9 and abs(deta_jj) > 4 and (not (hbbjet_msoftdrop < 150)),A,197.7849576784883,3.6375448750125288,12.569049309149426,1.5489900798891199,146,12.083045973594572\n",
      "presel_noDetaJJ and M_jj > 600 and ST > 900 and hbbjet_score > 0.9 and (not (abs(deta_jj) > 4)) and (not (hbbjet_msoftdrop < 150)),B,273.6378546678253,6.011537118312757,0.9358293965500213,0.42452784077605155,199,14.106735979665885\n",
      "presel_noDetaJJ and M_jj > 600 and ST > 900 and hbbjet_score > 0.9 and (not (abs(deta_jj) > 4)) and hbbjet_msoftdrop < 150,C,225.46175098304985,4.851643060855997,16.350125430785535,1.7950242528863525,172,13.114877048604\n",
      "presel_noDetaJJ and M_jj > 600 and ST > 900 and hbbjet_score > 0.9 and abs(deta_jj) > 4 and hbbjet_msoftdrop < 150,D,150.64908538670898,4.884002146987297,410.103189913575,8.879494851738098,BLINDED,BLINDED\n",
      "\n",
      "name,extp,rel_err\n",
      "BtoA_MC,0.7227982324250553,0.028650985431680168\n",
      "BtoA_data,0.7336683417085427,0.1089699072984549\n",
      "\n",
      "cut,region,bkg_wgt,bkg_err,sig_wgt,sig_err,data,data_err\n",
      "presel_noDetaJJ and M_jj > 600 and ST > 900 and hbbjet_score > 0.9 and abs(deta_jj) > 4 and (not (hbbjet_msoftdrop < 150)),A,179.5362206429237,3.3376266444134273,12.569049309149426,1.5489900798891199,146,12.083045973594572\n",
      "presel_noDetaJJ and M_jj > 600 and ST > 900 and hbbjet_score > 0.9 and (not (abs(deta_jj) > 4)) and (not (hbbjet_msoftdrop < 150)),B,227.23321452386105,5.820033683095895,0.9358293965500213,0.42452784077605155,199,14.106735979665885\n",
      "presel_noDetaJJ and M_jj > 600 and ST > 900 and hbbjet_score > 0.9 and (not (abs(deta_jj) > 4)) and hbbjet_msoftdrop < 150,C,160.68977990431065,4.456780461755182,16.350125430785535,1.7950242528863525,172,13.114877048604\n",
      "presel_noDetaJJ and M_jj > 600 and ST > 900 and hbbjet_score > 0.9 and abs(deta_jj) > 4 and hbbjet_msoftdrop < 150,D,115.04415658544539,4.044521826882096,410.103189913575,8.879494851738098,BLINDED,BLINDED\n",
      "\n",
      "name,extp,rel_err\n",
      "BtoA_MC,0.7900967339617121,0.03164811904005155\n",
      "BtoA_data,0.7336683417085427,0.1089699072984549\n"
     ]
    }
   ],
   "source": [
    "vbswh.df.loc[vbswh.df.name == \"WJets\", \"event_weight\"] *= 2\n",
    "vbswh.ABCD( \n",
    "    \"abs(deta_jj) > 4\",\n",
    "    \"hbbjet_msoftdrop < 150\",\n",
    "    \"presel_noDetaJJ and M_jj > 600 and ST > 900 and hbbjet_score > 0.9\",\n",
    "    h_dir=\"left\", v_dir=\"up\", \n",
    "    show_data=True\n",
    ")\n",
    "A_bkg_wgt = vbswh.bkg_count(selection=regionA)\n",
    "A_bkg_err = vbswh.bkg_error(selection=regionA)\n",
    "B_bkg_wgt = vbswh.bkg_count(selection=regionB)\n",
    "B_bkg_err = vbswh.bkg_error(selection=regionB)\n",
    "AN_numbers[\"BkgEstWJetsUpABMC\"] = A_bkg_wgt/B_bkg_wgt\n",
    "AN_numbers[\"BkgEstWJetsUpABMCErr\"] = round(np.sqrt((B_bkg_err/B_bkg_wgt)**2 + (A_bkg_err/A_bkg_wgt)**2)*100, 1)\n",
    "\n",
    "vbswh.df.event_weight = ORIG_EVENT_WEIGHT.copy()\n",
    "print(\"\")\n",
    "\n",
    "vbswh.df.loc[vbswh.df.name == \"WJets\", \"event_weight\"] *= 0.5\n",
    "vbswh.ABCD( \n",
    "    \"abs(deta_jj) > 4\",\n",
    "    \"hbbjet_msoftdrop < 150\",\n",
    "    \"presel_noDetaJJ and M_jj > 600 and ST > 900 and hbbjet_score > 0.9\",\n",
    "    h_dir=\"left\", v_dir=\"up\", \n",
    "    show_data=True\n",
    ")\n",
    "A_bkg_wgt = vbswh.bkg_count(selection=regionA)\n",
    "A_bkg_err = vbswh.bkg_error(selection=regionA)\n",
    "B_bkg_wgt = vbswh.bkg_count(selection=regionB)\n",
    "B_bkg_err = vbswh.bkg_error(selection=regionB)\n",
    "AN_numbers[\"BkgEstWJetsDownABMC\"] = A_bkg_wgt/B_bkg_wgt\n",
    "AN_numbers[\"BkgEstWJetsDownABMCErr\"] = round(np.sqrt((B_bkg_err/B_bkg_wgt)**2 + (A_bkg_err/A_bkg_wgt)**2)*100, 1)\n",
    "AN_numbers[\"BkgEstWJetsCompSyst\"] = 100*max(\n",
    "    abs(1 - AN_numbers[\"BkgEstWJetsUpABMC\"]/AN_numbers[\"BkgEstABMC\"]),\n",
    "    abs(1 - AN_numbers[\"BkgEstWJetsDownABMC\"]/AN_numbers[\"BkgEstABMC\"])\n",
    ")\n",
    "\n",
    "vbswh.df.event_weight = ORIG_EVENT_WEIGHT.copy()"
   ]
  },
  {
   "cell_type": "code",
   "execution_count": 7,
   "id": "79ab83f6",
   "metadata": {},
   "outputs": [
    {
     "name": "stdout",
     "output_type": "stream",
     "text": [
      "cut,region,bkg_wgt,bkg_err,sig_wgt,sig_err,data,data_err\n",
      "presel_noDetaJJ and M_jj > 600 and ST > 900 and hbbjet_score > 0.9 and abs(deta_jj) > 4 and (not (hbbjet_msoftdrop < 150)),A,186.6791696750932,3.609458767516716,12.569049309149426,1.5489900798891199,146,12.083045973594572\n",
      "presel_noDetaJJ and M_jj > 600 and ST > 900 and hbbjet_score > 0.9 and (not (abs(deta_jj) > 4)) and (not (hbbjet_msoftdrop < 150)),B,250.67408538991708,10.056334224830898,0.9358293965500213,0.42452784077605155,199,14.106735979665885\n",
      "presel_noDetaJJ and M_jj > 600 and ST > 900 and hbbjet_score > 0.9 and (not (abs(deta_jj) > 4)) and hbbjet_msoftdrop < 150,C,203.67937604446368,7.4447221654305,16.350125430785535,1.7950242528863525,172,13.114877048604\n",
      "presel_noDetaJJ and M_jj > 600 and ST > 900 and hbbjet_score > 0.9 and abs(deta_jj) > 4 and hbbjet_msoftdrop < 150,D,134.5436353508858,6.735967607423234,410.103189913575,8.879494851738098,BLINDED,BLINDED\n",
      "\n",
      "name,extp,rel_err\n",
      "BtoA_MC,0.7447086897104603,0.04453350271780848\n",
      "BtoA_data,0.7336683417085427,0.1089699072984549\n",
      "\n",
      "cut,region,bkg_wgt,bkg_err,sig_wgt,sig_err,data,data_err\n",
      "presel_noDetaJJ and M_jj > 600 and ST > 900 and hbbjet_score > 0.9 and abs(deta_jj) > 4 and (not (hbbjet_msoftdrop < 150)),A,185.08911464462125,3.345240895410985,12.569049309149426,1.5489900798891199,146,12.083045973594572\n",
      "presel_noDetaJJ and M_jj > 600 and ST > 900 and hbbjet_score > 0.9 and (not (abs(deta_jj) > 4)) and (not (hbbjet_msoftdrop < 150)),B,238.7150991628152,4.198210594194563,0.9358293965500213,0.42452784077605155,199,14.106735979665885\n",
      "presel_noDetaJJ and M_jj > 600 and ST > 900 and hbbjet_score > 0.9 and (not (abs(deta_jj) > 4)) and hbbjet_msoftdrop < 150,C,171.58096737360373,3.4484098004236268,16.350125430785535,1.7950242528863525,172,13.114877048604\n",
      "presel_noDetaJJ and M_jj > 600 and ST > 900 and hbbjet_score > 0.9 and abs(deta_jj) > 4 and hbbjet_msoftdrop < 150,D,123.09688160335696,3.3133383692291436,410.103189913575,8.879494851738098,BLINDED,BLINDED\n",
      "\n",
      "name,extp,rel_err\n",
      "BtoA_MC,0.7753557076772155,0.02521804484714891\n",
      "BtoA_data,0.7336683417085427,0.1089699072984549\n"
     ]
    }
   ],
   "source": [
    "vbswh.df.loc[vbswh.df.name == \"Bosons\", \"event_weight\"] *= 2\n",
    "vbswh.ABCD( \n",
    "    \"abs(deta_jj) > 4\",\n",
    "    \"hbbjet_msoftdrop < 150\",\n",
    "    \"presel_noDetaJJ and M_jj > 600 and ST > 900 and hbbjet_score > 0.9\",\n",
    "    h_dir=\"left\", v_dir=\"up\", \n",
    "    show_data=True\n",
    ")\n",
    "A_bkg_wgt = vbswh.bkg_count(selection=regionA)\n",
    "A_bkg_err = vbswh.bkg_error(selection=regionA)\n",
    "B_bkg_wgt = vbswh.bkg_count(selection=regionB)\n",
    "B_bkg_err = vbswh.bkg_error(selection=regionB)\n",
    "AN_numbers[\"BkgEstBosonsUpABMC\"] = A_bkg_wgt/B_bkg_wgt\n",
    "AN_numbers[\"BkgEstBosonsUpABMCErr\"] = round(np.sqrt((B_bkg_err/B_bkg_wgt)**2 + (A_bkg_err/A_bkg_wgt)**2)*100, 1)\n",
    "\n",
    "vbswh.df.event_weight = ORIG_EVENT_WEIGHT.copy()\n",
    "print(\"\")\n",
    "\n",
    "vbswh.df.loc[vbswh.df.name == \"Bosons\", \"event_weight\"] *= 0.5\n",
    "vbswh.ABCD( \n",
    "    \"abs(deta_jj) > 4\",\n",
    "    \"hbbjet_msoftdrop < 150\",\n",
    "    \"presel_noDetaJJ and M_jj > 600 and ST > 900 and hbbjet_score > 0.9\",\n",
    "    h_dir=\"left\", v_dir=\"up\", \n",
    "    show_data=True\n",
    ")\n",
    "A_bkg_wgt = vbswh.bkg_count(selection=regionA)\n",
    "A_bkg_err = vbswh.bkg_error(selection=regionA)\n",
    "B_bkg_wgt = vbswh.bkg_count(selection=regionB)\n",
    "B_bkg_err = vbswh.bkg_error(selection=regionB)\n",
    "AN_numbers[\"BkgEstBosonsDownABMC\"] = A_bkg_wgt/B_bkg_wgt\n",
    "AN_numbers[\"BkgEstBosonsDownABMCErr\"] = round(np.sqrt((B_bkg_err/B_bkg_wgt)**2 + (A_bkg_err/A_bkg_wgt)**2)*100, 1)\n",
    "AN_numbers[\"BkgEstBosonsCompSyst\"] = 100*max(\n",
    "    abs(1 - AN_numbers[\"BkgEstBosonsUpABMC\"]/AN_numbers[\"BkgEstABMC\"]),\n",
    "    abs(1 - AN_numbers[\"BkgEstBosonsDownABMC\"]/AN_numbers[\"BkgEstABMC\"])\n",
    ")\n",
    "\n",
    "vbswh.df.event_weight = ORIG_EVENT_WEIGHT.copy()"
   ]
  },
  {
   "cell_type": "code",
   "execution_count": 8,
   "id": "89fb1a68",
   "metadata": {},
   "outputs": [],
   "source": [
    "AN_numbers[\"BkgEstBkgCompSystErr\"] = np.sqrt(\n",
    "    AN_numbers[\"BkgEstWJetsCompSyst\"]**2 + AN_numbers[\"BkgEstBosonsCompSyst\"]**2\n",
    ")\n",
    "AN_numbers[\"BkgEstTotalSystErr\"] = np.sqrt(\n",
    "    AN_numbers[\"BkgEstMethodSystErr\"]**2 + AN_numbers[\"BkgEstBkgCompSystErr\"]**2\n",
    ")"
   ]
  },
  {
   "cell_type": "code",
   "execution_count": 9,
   "id": "1dd1a7f2",
   "metadata": {},
   "outputs": [],
   "source": [
    "# SR2 numbers for posterity\n",
    "AN_numbers[\"SRTwoPredBkg\"] = (\n",
    "    AN_numbers[\"PredBkg\"]*vbswh.bkg_count(selection=f\"{regionD} and ST > 1500\")/AN_numbers[\"PredBkgMC\"]\n",
    ")\n",
    "AN_numbers[\"SRTwoBkgEstSystErr\"] = np.sqrt(\n",
    "    (vbswh.data_error(selection=f\"{regionB} and ST > 1500\")/vbswh.data_count(selection=f\"{regionB} and ST > 1500\"))**2\n",
    "    + (AN_numbers[\"BkgEstTotalSystErr\"]/100)**2\n",
    ")\n",
    "AN_numbers[\"SRTwoPredBkgSystErr\"] = round(AN_numbers[\"SRTwoBkgEstSystErr\"]*AN_numbers[\"SRTwoPredBkg\"], 1)\n",
    "AN_numbers[\"SRTwoBkgEstSystErr\"] = round(AN_numbers[\"SRTwoBkgEstSystErr\"]*100, 1)\n",
    "\n",
    "AN_numbers[\"SRTwoBkgEstStatErr\"] = round(AN_numbers[\"BkgEstStatErr\"], 1)\n",
    "AN_numbers[\"SRTwoPredBkgStatErr\"] = round(AN_numbers[\"SRTwoPredBkg\"]*(AN_numbers[\"BkgEstStatErr\"]/100), 1)\n",
    "AN_numbers[\"SRTwoPredBkg\"] = round(AN_numbers[\"SRTwoPredBkg\"])\n",
    "\n",
    "AN_numbers[\"SRTwoExpSig\"] = round(vbswh.sig_count(selection=f\"{regionD} and ST > 1500\"))\n",
    "AN_numbers[\"SRTwoExpSigStatErr\"] = round(vbswh.sig_error(selection=f\"{regionD} and ST > 1500\"), 1)"
   ]
  },
  {
   "cell_type": "code",
   "execution_count": 10,
   "id": "21ffb557",
   "metadata": {},
   "outputs": [],
   "source": [
    "AN_numbers[\"PredBkgSystErr\"] = round(pred*AN_numbers[\"BkgEstTotalSystErr\"]/100, 1)"
   ]
  },
  {
   "cell_type": "code",
   "execution_count": 11,
   "id": "34b54e07",
   "metadata": {},
   "outputs": [],
   "source": [
    "AN_numbers[\"BkgEstABMC\"] = round(AN_numbers[\"BkgEstABMC\"], 2)\n",
    "AN_numbers[\"BkgEstABData\"] = round(AN_numbers[\"BkgEstABData\"], 2)\n",
    "\n",
    "AN_numbers[\"BkgEstWJetsUpABMC\"] = round(AN_numbers[\"BkgEstWJetsUpABMC\"], 2)\n",
    "AN_numbers[\"BkgEstWJetsDownABMC\"] = round(AN_numbers[\"BkgEstWJetsDownABMC\"], 2)\n",
    "AN_numbers[\"BkgEstWJetsCompSyst\"] = round(AN_numbers[\"BkgEstWJetsCompSyst\"], 1)\n",
    "\n",
    "AN_numbers[\"BkgEstBosonsUpABMC\"] = round(AN_numbers[\"BkgEstBosonsUpABMC\"], 2)\n",
    "AN_numbers[\"BkgEstBosonsDownABMC\"] = round(AN_numbers[\"BkgEstBosonsDownABMC\"], 2)\n",
    "AN_numbers[\"BkgEstBosonsCompSyst\"] = round(AN_numbers[\"BkgEstBosonsCompSyst\"], 1)\n",
    "\n",
    "AN_numbers[\"BkgEstBkgCompSystErr\"] = round(AN_numbers[\"BkgEstBkgCompSystErr\"], 1)\n",
    "AN_numbers[\"BkgEstMethodSystErr\"] = round(AN_numbers[\"BkgEstMethodSystErr\"], 1)\n",
    "AN_numbers[\"BkgEstTotalSystErr\"] = round(AN_numbers[\"BkgEstTotalSystErr\"], 1)\n",
    "AN_numbers[\"BkgEstStatErr\"] = round(AN_numbers[\"BkgEstStatErr\"], 1)"
   ]
  },
  {
   "cell_type": "code",
   "execution_count": 12,
   "id": "7dedbec6",
   "metadata": {},
   "outputs": [
    {
     "data": {
      "text/plain": [
       "{'PredBkg': 126,\n",
       " 'PredBkgStatErr': 16.8,\n",
       " 'PredBkgSystErr': 14.6,\n",
       " 'ExpSig': 410,\n",
       " 'ExpSigStatErr': 8.9,\n",
       " 'ExpSigSystErr': 0,\n",
       " 'ExpBkg': 127,\n",
       " 'BkgEstABMC': 0.76,\n",
       " 'BkgEstABMCErr': 3.0,\n",
       " 'BkgEstABData': 0.73,\n",
       " 'BkgEstABDataErr': 10.9,\n",
       " 'PredBkgMC': 139.4,\n",
       " 'BkgEstMethodSystErr': 9.8,\n",
       " 'BkgEstBkgCompSystErr': 6.1,\n",
       " 'BkgEstTotalSystErr': 11.6,\n",
       " 'BkgEstStatErr': 13.3,\n",
       " 'BkgEstWJetsUpABMC': 0.72,\n",
       " 'BkgEstWJetsUpABMCErr': 2.9,\n",
       " 'BkgEstWJetsDownABMC': 0.79,\n",
       " 'BkgEstWJetsDownABMCErr': 3.2,\n",
       " 'BkgEstWJetsCompSyst': 5.5,\n",
       " 'BkgEstBosonsUpABMC': 0.74,\n",
       " 'BkgEstBosonsUpABMCErr': 4.5,\n",
       " 'BkgEstBosonsDownABMC': 0.78,\n",
       " 'BkgEstBosonsDownABMCErr': 2.5,\n",
       " 'BkgEstBosonsCompSyst': 2.6,\n",
       " 'SRTwoPredBkg': 6,\n",
       " 'SRTwoPredBkgStatErr': 0.7,\n",
       " 'SRTwoPredBkgSystErr': 2.0,\n",
       " 'SRTwoBkgEstStatErr': 13.3,\n",
       " 'SRTwoBkgEstSystErr': 35.3,\n",
       " 'SRTwoExpSig': 109,\n",
       " 'SRTwoExpSigStatErr': 4.6,\n",
       " 'SRTwoExpSigSystErr': 0,\n",
       " 'LambdaWZeqNegOneExcl': 0}"
      ]
     },
     "execution_count": 12,
     "metadata": {},
     "output_type": "execute_result"
    }
   ],
   "source": [
    "with open(\"AN_numbers.json\", \"w\") as f_out:\n",
    "    json.dump(AN_numbers, f_out)\n",
    "\n",
    "AN_numbers # completely filled in vbswh-sys.ipynb"
   ]
  }
 ],
 "metadata": {
  "kernelspec": {
   "display_name": "Python 3 (ipykernel)",
   "language": "python",
   "name": "python3"
  },
  "language_info": {
   "codemirror_mode": {
    "name": "ipython",
    "version": 3
   },
   "file_extension": ".py",
   "mimetype": "text/x-python",
   "name": "python",
   "nbconvert_exporter": "python",
   "pygments_lexer": "ipython3",
   "version": "3.9.13"
  }
 },
 "nbformat": 4,
 "nbformat_minor": 5
}

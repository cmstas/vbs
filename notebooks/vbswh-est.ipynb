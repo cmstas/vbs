{
 "cells": [
  {
   "cell_type": "code",
   "execution_count": 1,
   "id": "5bf0bf44",
   "metadata": {},
   "outputs": [],
   "source": [
    "import glob\n",
    "import json\n",
    "import numpy as np\n",
    "from utils.analysis import Extrapolation\n",
    "\n",
    "import pandas as pd\n",
    "import warnings\n",
    "warnings.simplefilter(action=\"ignore\", category=pd.errors.PerformanceWarning)"
   ]
  },
  {
   "cell_type": "code",
   "execution_count": 2,
   "id": "36715425",
   "metadata": {},
   "outputs": [
    {
     "name": "stdout",
     "output_type": "stream",
     "text": [
      "['../analysis/studies/vbswh/output_main/Run2/data.root']\n",
      "['../analysis/studies/vbswh/output_main/Run2/VBSWH_mkW.root']\n"
     ]
    },
    {
     "data": {
      "text/plain": [
       "['../analysis/studies/vbswh/output_main/Run2/TTbar2L.root',\n",
       " '../analysis/studies/vbswh/output_main/Run2/VH.root',\n",
       " '../analysis/studies/vbswh/output_main/Run2/Bosons.root',\n",
       " '../analysis/studies/vbswh/output_main/Run2/SingleTop.root',\n",
       " '../analysis/studies/vbswh/output_main/Run2/TTbar1L.root',\n",
       " '../analysis/studies/vbswh/output_main/Run2/TTX.root',\n",
       " '../analysis/studies/vbswh/output_main/Run2/WJets.root',\n",
       " '../analysis/studies/vbswh/output_main/Run2/EWKWLep.root']"
      ]
     },
     "execution_count": 2,
     "metadata": {},
     "output_type": "execute_result"
    }
   ],
   "source": [
    "TAG = \"main\"\n",
    "# TAG = \"max_detajj\" # DEBUG\n",
    "babies = glob.glob(f\"../analysis/studies/vbswh/output_{TAG}/Run2/*.root\")\n",
    "babies = [baby for baby in babies if \"Lambda\" not in baby and \"VBSWH_SM\" not in baby]\n",
    "data_babies = [baby for baby in babies if \"data\" in baby]\n",
    "sig_babies = [baby for baby in babies if \"VBSWH_mkW\" in baby]\n",
    "bkg_babies = list(set(babies) - set(data_babies + sig_babies))\n",
    "print(data_babies)\n",
    "print(sig_babies)\n",
    "bkg_babies"
   ]
  },
  {
   "cell_type": "code",
   "execution_count": 3,
   "id": "68a7a331",
   "metadata": {},
   "outputs": [
    {
     "name": "stderr",
     "output_type": "stream",
     "text": [
      "Loading sig babies: 100%|█████████████████████████████████████████████████████████████████████████████████████████████████████████████████████████████████████████████████████████████| 1/1 [00:01<00:00,  1.37s/it]\n",
      "Loading bkg babies: 100%|█████████████████████████████████████████████████████████████████████████████████████████████████████████████████████████████████████████████████████████████| 8/8 [01:01<00:00,  7.69s/it]\n",
      "Loading data babies: 100%|████████████████████████████████████████████████████████████████████████████████████████████████████████████████████████████████████████████████████████████| 1/1 [00:01<00:00,  1.57s/it]\n"
     ]
    }
   ],
   "source": [
    "vbswh = Extrapolation(\n",
    "    sig_root_files=sig_babies,\n",
    "    bkg_root_files=bkg_babies,\n",
    "    data_root_files=data_babies,\n",
    "    ttree_name=\"tree\",\n",
    "    weight_columns=[\n",
    "        \"xsec_sf\", \"lep_id_sf\", \"ewkfix_sf\", \n",
    "        \"elec_reco_sf\", \"muon_iso_sf\", \n",
    "        \"btag_sf\", \"pu_sf\", \"prefire_sf\", \"trig_sf\", \"puid_sf\", \n",
    "        \"xbb_sf\" # applied only because Xbb > 0.9 applied everywhere for ABCD\n",
    "    ],\n",
    "    reweight_column=\"reweights\",\n",
    "    plots_dir=f\"/home/users/jguiang/public_html/onelep_plots/{TAG}/val\"\n",
    ")\n",
    "vbswh.df[\"presel_noVBS_noBVeto\"] = vbswh.df.eval(\n",
    "    \"hbbjet_score > 0.3\"\n",
    ")\n",
    "vbswh.df[\"presel_noVBS\"] = vbswh.df.eval(\n",
    "    \"passes_bveto and hbbjet_score > 0.3\"\n",
    ")\n",
    "vbswh.df[\"presel_noDetaJJ\"] = vbswh.df.eval(\n",
    "    \"passes_bveto and M_jj > 500 and hbbjet_score > 0.3\"\n",
    ")\n",
    "vbswh.df[\"presel\"] = vbswh.df.eval(\n",
    "    \"passes_bveto and M_jj > 500 and abs(deta_jj) > 3 and hbbjet_score > 0.3\"\n",
    ")\n",
    "\n",
    "ORIG_EVENT_WEIGHT = vbswh.df.event_weight.values.copy()"
   ]
  },
  {
   "cell_type": "code",
   "execution_count": 4,
   "id": "2028f9ca",
   "metadata": {},
   "outputs": [],
   "source": [
    "SRlike  = \"presel_noDetaJJ and M_jj > 600 and ST > 900 and hbbjet_score > 0.9\"\n",
    "regionA = f\"{SRlike} and abs(deta_jj) > 4 and hbbjet_msoftdrop >= 150\"\n",
    "regionB = f\"{SRlike} and abs(deta_jj) <= 4 and hbbjet_msoftdrop >= 150\"\n",
    "regionC = f\"{SRlike} and abs(deta_jj) <= 4 and hbbjet_msoftdrop < 150\"\n",
    "regionD = f\"{SRlike} and abs(deta_jj) > 4 and hbbjet_msoftdrop < 150\"\n",
    "AN_numbers = {\n",
    "    \"PredBkg\": 0,\n",
    "    \"PredBkgStatErr\": 0,\n",
    "    \"PredBkgSystErr\": 0,\n",
    "    \"ExpSig\": round(vbswh.sig_count(selection=regionD)),\n",
    "    \"ExpSigStatErr\": round(vbswh.sig_error(selection=regionD), 1),\n",
    "    \"ExpSigSystErr\": 0,\n",
    "    \"ExpBkg\": round(vbswh.bkg_count(selection=regionD)),\n",
    "    \"BkgEstABMC\": 0,\n",
    "    \"BkgEstABMCErr\": 0,\n",
    "    \"BkgEstABData\": 0,\n",
    "    \"BkgEstABDataErr\": 0,\n",
    "    \"PredBkgMC\": 0,\n",
    "    \"BkgEstMethodSystErr\": 0,\n",
    "    \"BkgEstBkgCompSystErr\": 0,\n",
    "    \"BkgEstTotalSystErr\": 0,\n",
    "    \"BkgEstStatErr\": 0,\n",
    "    \"BkgEstWJetsUpABMC\": 0,\n",
    "    \"BkgEstWJetsUpABMCErr\": 0,\n",
    "    \"BkgEstWJetsDownABMC\": 0,\n",
    "    \"BkgEstWJetsDownABMCErr\": 0,\n",
    "    \"BkgEstWJetsCompSyst\": 0,\n",
    "    \"BkgEstBosonsUpABMC\": 0,\n",
    "    \"BkgEstBosonsUpABMCErr\": 0,\n",
    "    \"BkgEstBosonsDownABMC\": 0,\n",
    "    \"BkgEstBosonsDownABMCErr\": 0,\n",
    "    \"BkgEstBosonsCompSyst\": 0,\n",
    "    \"PNetSidebandPredData\": 0,\n",
    "    \"PNetSidebandPredDataStatErr\": 0,\n",
    "    \"PNetSidebandData\": 0,\n",
    "    \"PNetSidebandDataStatErr\": 0,\n",
    "    \"SRTwoPredBkg\": 0,\n",
    "    \"SRTwoPredBkgStatErr\": 0,\n",
    "    \"SRTwoPredBkgSystErr\": 0,\n",
    "    \"SRTwoBkgEstStatErr\": 0,\n",
    "    \"SRTwoBkgEstSystErr\": 0,\n",
    "    \"SRTwoExpSig\": round(vbswh.sig_count(selection=f\"{regionD} and ST > 1500\")),\n",
    "    \"SRTwoExpSigStatErr\": round(vbswh.sig_error(selection=f\"{regionD} and ST > 1500\"), 1),\n",
    "    \"SRTwoExpSigSystErr\": 0,\n",
    "    \"LambdaWZeqNegOneExcl\": 0\n",
    "}"
   ]
  },
  {
   "cell_type": "code",
   "execution_count": 5,
   "id": "621affea",
   "metadata": {},
   "outputs": [],
   "source": [
    "def ABCD(A, B, C, D, sample=None, blind=True):\n",
    "    \n",
    "    A_sig_count = vbswh.sig_count(selection=A)\n",
    "    B_sig_count = vbswh.sig_count(selection=B)\n",
    "    C_sig_count = vbswh.sig_count(selection=C)\n",
    "    D_sig_count = vbswh.sig_count(selection=D)\n",
    "\n",
    "    A_sig_error = vbswh.sig_error(selection=A)\n",
    "    B_sig_error = vbswh.sig_error(selection=B)\n",
    "    C_sig_error = vbswh.sig_error(selection=C)\n",
    "    D_sig_error = vbswh.sig_error(selection=D)\n",
    "    \n",
    "    A_data_count = vbswh.data_count(selection=A)\n",
    "    B_data_count = vbswh.data_count(selection=B)\n",
    "    C_data_count = vbswh.data_count(selection=C)\n",
    "    D_data_count = vbswh.data_count(selection=D)\n",
    "        \n",
    "    if sample is None:\n",
    "        A_bkg_count = vbswh.bkg_count(selection=A)\n",
    "        B_bkg_count = vbswh.bkg_count(selection=B)\n",
    "        C_bkg_count = vbswh.bkg_count(selection=C)\n",
    "        D_bkg_count = vbswh.bkg_count(selection=D)\n",
    "        \n",
    "        A_bkg_error = vbswh.bkg_error(selection=A)\n",
    "        B_bkg_error = vbswh.bkg_error(selection=B)\n",
    "        C_bkg_error = vbswh.bkg_error(selection=C)\n",
    "        D_bkg_error = vbswh.bkg_error(selection=D)\n",
    "    else:\n",
    "        A_bkg_count = vbswh.sample_count(sample, selection=A)\n",
    "        B_bkg_count = vbswh.sample_count(sample, selection=B)\n",
    "        C_bkg_count = vbswh.sample_count(sample, selection=C)\n",
    "        D_bkg_count = vbswh.sample_count(sample, selection=D)\n",
    "        \n",
    "        A_bkg_error = vbswh.sample_error(sample, selection=A)\n",
    "        B_bkg_error = vbswh.sample_error(sample, selection=B)\n",
    "        C_bkg_error = vbswh.sample_error(sample, selection=C)\n",
    "        D_bkg_error = vbswh.sample_error(sample, selection=D)\n",
    "        \n",
    "        A_data_count -= (vbswh.bkg_count(selection=A) - A_bkg_count)\n",
    "        B_data_count -= (vbswh.bkg_count(selection=B) - B_bkg_count)\n",
    "        C_data_count -= (vbswh.bkg_count(selection=C) - C_bkg_count)\n",
    "        D_data_count -= (vbswh.bkg_count(selection=D) - D_bkg_count)\n",
    "        \n",
    "    A_data_error = np.sqrt(A_data_count)\n",
    "    B_data_error = np.sqrt(B_data_count)\n",
    "    C_data_error = np.sqrt(C_data_count)\n",
    "    D_data_error = np.sqrt(D_data_count)\n",
    "    \n",
    "    if blind:\n",
    "        D_data_count = 0\n",
    "        D_data_error = 0\n",
    "        \n",
    "    print(\"region,bkg_count,bkg_error,sig_count,sig_error,data_count,data_err\")\n",
    "    print(f\"A,{A_bkg_count:.2f},{A_bkg_error:.2f},{A_sig_count:.2f},{A_sig_error:.2f},{A_data_count:.2f},{A_data_error:.2f}\")\n",
    "    print(f\"B,{B_bkg_count:.2f},{B_bkg_error:.2f},{B_sig_count:.2f},{B_sig_error:.2f},{B_data_count:.2f},{B_data_error:.2f}\")\n",
    "    print(f\"C,{C_bkg_count:.2f},{C_bkg_error:.2f},{C_sig_count:.2f},{C_sig_error:.2f},{C_data_count:.2f},{C_data_error:.2f}\")\n",
    "    print(f\"D,{D_bkg_count:.2f},{D_bkg_error:.2f},{D_sig_count:.2f},{D_sig_error:.2f},{D_data_count:.2f},{D_data_error:.2f}\")\n",
    "        \n",
    "    # Transfer factor\n",
    "    mc_tf = A_bkg_count/B_bkg_count\n",
    "    mc_tf_err = mc_tf*np.sqrt((A_bkg_error/A_bkg_count)**2 + (B_bkg_error/B_bkg_count)**2)\n",
    "    \n",
    "    data_tf = A_data_count/B_data_count\n",
    "    data_tf_err = data_tf*np.sqrt((A_data_error/A_data_count)**2 + (B_data_error/B_data_count)**2)\n",
    "    \n",
    "    # Prediction\n",
    "    D_bkg_pred = mc_tf*C_bkg_count\n",
    "    syst = abs(1 - D_bkg_pred/D_bkg_count)\n",
    "    print(syst)\n",
    "    \n",
    "    # Transfer factor correction\n",
    "    mc_tf_fix = (D_bkg_count/C_bkg_count)/mc_tf\n",
    "    print(f\"Calculated MC TF fix: {mc_tf_fix}\")\n",
    "    \n",
    "    mc_tf *= mc_tf_fix\n",
    "    data_tf *= mc_tf_fix\n",
    "    \n",
    "    # Prediction\n",
    "    D_bkg_pred = mc_tf*C_bkg_count\n",
    "    D_bkg_pred_err = D_bkg_pred*np.sqrt(\n",
    "        (A_bkg_error/A_bkg_count)**2 + (B_bkg_error/B_bkg_count)**2 + (C_bkg_error/C_bkg_count)**2\n",
    "    )\n",
    "    \n",
    "    D_data_pred = data_tf*C_data_count\n",
    "    D_data_pred_err = D_data_pred*np.sqrt(\n",
    "        (A_data_error/A_data_count)**2 + (B_data_error/B_data_count)**2 + (C_data_error/C_data_count)**2\n",
    "    )\n",
    "    \n",
    "    print(f\"D_pred,{D_bkg_pred:.2f},{D_bkg_pred_err:.2f},,,{D_data_pred:.2f},{D_data_pred_err:.2f}\")\n",
    "    \n",
    "    return D_data_pred, D_data_pred_err, syst*D_data_pred"
   ]
  },
  {
   "cell_type": "code",
   "execution_count": 6,
   "id": "b7bac739",
   "metadata": {},
   "outputs": [
    {
     "name": "stdout",
     "output_type": "stream",
     "text": [
      "region,bkg_count,bkg_error,sig_count,sig_error,data_count,data_err\n",
      "A,52.07,3.02,40.85,0.97,56.00,7.48\n",
      "B,90.46,3.46,1.27,0.17,82.00,9.06\n",
      "C,90.64,2.72,10.36,0.49,88.00,9.38\n",
      "D,64.33,2.36,325.46,2.75,0.00,0.00\n",
      "0.18886736534936854\n",
      "Calculated MC TF fix: 1.232843997739922\n",
      "D_pred,64.33,4.87,,,74.09,15.08\n",
      "\n"
     ]
    }
   ],
   "source": [
    "# Doing ABCD only in 50 < MSD < 150\n",
    "\n",
    "sample = None\n",
    "\n",
    "SRlike  = \"presel_noDetaJJ and M_jj > 600 and ST > 900 and hbbjet_score > 0.9 and hbbjet_msoftdrop < 150\"\n",
    "regionA = f\"{SRlike} and abs(deta_jj) > 4 and hbbjet_msoftdrop < 100\"\n",
    "regionB = f\"{SRlike} and abs(deta_jj) <= 4 and hbbjet_msoftdrop < 100\"\n",
    "regionC = f\"{SRlike} and abs(deta_jj) <= 4 and hbbjet_msoftdrop >= 100\"\n",
    "regionD = f\"{SRlike} and abs(deta_jj) > 4 and hbbjet_msoftdrop >= 100\"\n",
    "\n",
    "ABCD(regionA,regionB,regionC,regionD,sample=sample)\n",
    "print()\n",
    "\n",
    "# Reset\n",
    "SRlike  = \"presel_noDetaJJ and M_jj > 600 and ST > 900 and hbbjet_score > 0.9\"\n",
    "regionA = f\"{SRlike} and abs(deta_jj) > 4 and hbbjet_msoftdrop >= 150\"\n",
    "regionB = f\"{SRlike} and abs(deta_jj) <= 4 and hbbjet_msoftdrop >= 150\"\n",
    "regionC = f\"{SRlike} and abs(deta_jj) <= 4 and hbbjet_msoftdrop < 150\"\n",
    "regionD = f\"{SRlike} and abs(deta_jj) > 4 and hbbjet_msoftdrop < 150\""
   ]
  },
  {
   "cell_type": "code",
   "execution_count": 7,
   "id": "322e343c",
   "metadata": {},
   "outputs": [
    {
     "name": "stdout",
     "output_type": "stream",
     "text": [
      "region,bkg_count,bkg_error,sig_count,sig_error,data_count,data_err\n",
      "A,172.97,3.25,6.92,0.40,142.00,11.92\n",
      "B,241.93,5.83,0.27,0.08,201.00,14.18\n",
      "C,181.10,4.40,11.62,0.52,170.00,13.04\n",
      "D,116.41,3.84,366.30,2.92,0.00,0.00\n",
      "0.1122552957372065\n",
      "Calculated MC TF fix: 0.8990741638476054\n",
      "D_pred,116.41,4.54,,,107.98,14.45\n",
      "\n",
      "region,bkg_count,bkg_error,sig_count,sig_error,data_count,data_err\n",
      "A,41.76,1.71,0.29,0.08,28.00,5.29\n",
      "B,96.05,4.41,0.03,0.02,70.00,8.37\n",
      "C,145.88,3.81,0.24,0.08,131.00,11.45\n",
      "D,131.20,2.76,6.63,0.39,114.00,10.68\n",
      "0.5165590905399182\n",
      "Calculated MC TF fix: 2.0685051273729065\n",
      "D_pred,131.20,8.77,,,108.39,26.02\n",
      "\n",
      "region,bkg_count,bkg_error,sig_count,sig_error,data_count,data_err\n",
      "A,26.70,1.23,0.18,0.06,22.00,4.69\n",
      "B,54.62,4.16,0.02,0.02,40.00,6.32\n",
      "C,145.88,3.81,0.24,0.08,131.00,11.45\n",
      "D,131.20,2.76,6.63,0.39,114.00,10.68\n",
      "0.4565744410524356\n",
      "Calculated MC TF fix: 1.8401784449312053\n",
      "D_pred,131.20,12.18,,,132.58,37.05\n",
      "\n",
      "region,bkg_count,bkg_error,sig_count,sig_error,data_count,data_err\n",
      "A,86.17,2.20,0.28,0.08,66.00,8.12\n",
      "B,118.88,5.22,0.02,0.02,104.00,10.20\n",
      "C,81.62,2.15,0.24,0.08,67.00,8.19\n",
      "D,71.73,2.07,6.53,0.39,70.00,8.37\n",
      "0.17530235082243584\n",
      "Calculated MC TF fix: 1.2125656002502947\n",
      "D_pred,71.73,4.10,,,51.56,10.27\n",
      "\n"
     ]
    }
   ],
   "source": [
    "sample = None\n",
    "\n",
    "# Regular ABCD\n",
    "SRlike  = \"presel_noDetaJJ and M_jj > 600 and ST > 900 and hbbjet_score > 0.9\"\n",
    "regionA = f\"{SRlike} and abs(deta_jj) > 4 and hbbjet_msoftdrop >= 150\"\n",
    "regionB = f\"{SRlike} and abs(deta_jj) <= 4 and hbbjet_msoftdrop >= 150\"\n",
    "regionC = f\"{SRlike} and abs(deta_jj) <= 4 and hbbjet_msoftdrop < 150\"\n",
    "regionD = f\"{SRlike} and abs(deta_jj) > 4 and hbbjet_msoftdrop < 150\"\n",
    "\n",
    "ABCD(regionA,regionB,regionC,regionD,sample=sample)\n",
    "print()\n",
    "\n",
    "# Doing ABCD for MSD > 150\n",
    "SRlike  = \"presel_noDetaJJ and M_jj > 600 and ST > 900 and hbbjet_score > 0.9\"\n",
    "regionA = f\"{SRlike} and abs(deta_jj) > 4 and hbbjet_msoftdrop >= 200\"  # A1\n",
    "regionB = f\"{SRlike} and abs(deta_jj) <= 4 and hbbjet_msoftdrop >= 200\" # B1\n",
    "regionC = f\"{SRlike} and abs(deta_jj) <= 4 and hbbjet_msoftdrop >= 150 and hbbjet_msoftdrop < 200\"  # B2\n",
    "regionD = f\"{SRlike} and abs(deta_jj) > 4 and hbbjet_msoftdrop >= 150 and hbbjet_msoftdrop < 200\"   # A2\n",
    "\n",
    "ABCD(regionA,regionB,regionC,regionD,sample=sample,blind=False)\n",
    "print()\n",
    "\n",
    "SRlike  = \"presel_noDetaJJ and M_jj > 600 and ST > 900 and hbbjet_score > 0.9 and hbbjet_msoftdrop < 250\"\n",
    "regionA = f\"{SRlike} and abs(deta_jj) > 4 and hbbjet_msoftdrop >= 200\"  # A1\n",
    "regionB = f\"{SRlike} and abs(deta_jj) <= 4 and hbbjet_msoftdrop >= 200\" # B1\n",
    "regionC = f\"{SRlike} and abs(deta_jj) <= 4 and hbbjet_msoftdrop >= 150 and hbbjet_msoftdrop < 200\"  # B2\n",
    "regionD = f\"{SRlike} and abs(deta_jj) > 4 and hbbjet_msoftdrop >= 150 and hbbjet_msoftdrop < 200\"   # A2\n",
    "\n",
    "ABCD(regionA,regionB,regionC,regionD,sample=sample,blind=False)\n",
    "print()\n",
    "\n",
    "SRlike  = \"presel_noDetaJJ and M_jj > 600 and ST > 900 and hbbjet_score > 0.9 and hbbjet_msoftdrop < 250\"\n",
    "regionA = f\"{SRlike} and abs(deta_jj) > 4 and hbbjet_msoftdrop >= 180\"  # A1\n",
    "regionB = f\"{SRlike} and abs(deta_jj) <= 4 and hbbjet_msoftdrop >= 180\" # B1\n",
    "regionC = f\"{SRlike} and abs(deta_jj) <= 4 and hbbjet_msoftdrop >= 150 and hbbjet_msoftdrop < 180\"  # B2\n",
    "regionD = f\"{SRlike} and abs(deta_jj) > 4 and hbbjet_msoftdrop >= 150 and hbbjet_msoftdrop < 180\"   # A2\n",
    "\n",
    "ABCD(regionA,regionB,regionC,regionD,sample=sample,blind=False)\n",
    "print()\n",
    "\n",
    "# Reset\n",
    "SRlike  = \"presel_noDetaJJ and M_jj > 600 and ST > 900 and hbbjet_score > 0.9\"\n",
    "regionA = f\"{SRlike} and abs(deta_jj) > 4 and hbbjet_msoftdrop >= 150\"\n",
    "regionB = f\"{SRlike} and abs(deta_jj) <= 4 and hbbjet_msoftdrop >= 150\"\n",
    "regionC = f\"{SRlike} and abs(deta_jj) <= 4 and hbbjet_msoftdrop < 150\"\n",
    "regionD = f\"{SRlike} and abs(deta_jj) > 4 and hbbjet_msoftdrop < 150\""
   ]
  },
  {
   "cell_type": "code",
   "execution_count": 8,
   "id": "49f16637",
   "metadata": {},
   "outputs": [
    {
     "name": "stdout",
     "output_type": "stream",
     "text": [
      "region,bkg_count,bkg_error,sig_count,sig_error,data_count,data_err\n",
      "A,136.74,2.63,6.92,0.40,105.78,10.28\n",
      "B,169.11,2.84,0.27,0.08,128.17,11.32\n",
      "C,59.39,1.69,11.62,0.52,48.29,6.95\n",
      "D,49.95,1.58,366.30,2.92,0.00,0.00\n",
      "0.03846793363152079\n",
      "Calculated MC TF fix: 1.0400069170618582\n",
      "D_pred,49.95,1.91,,,41.45,8.08\n",
      "\n",
      "region,bkg_count,bkg_error,sig_count,sig_error,data_count,data_err\n",
      "A,109.73,2.36,6.63,0.39,92.53,9.62\n",
      "B,109.48,2.31,0.24,0.08,94.60,9.73\n",
      "C,59.39,1.69,11.62,0.52,48.29,6.95\n",
      "D,49.95,1.58,366.30,2.92,0.00,0.00\n",
      "0.19185248778038555\n",
      "Calculated MC TF fix: 0.8390300060222412\n",
      "D_pred,49.95,2.07,,,39.63,8.13\n",
      "\n",
      "region,bkg_count,bkg_error,sig_count,sig_error,data_count,data_err\n",
      "A,26.92,1.15,0.29,0.08,13.26,3.64\n",
      "B,59.41,1.65,0.03,0.02,33.64,5.80\n",
      "C,59.39,1.69,11.62,0.52,48.29,6.95\n",
      "D,49.95,1.58,366.30,2.92,0.00,0.00\n",
      "0.4612460615584768\n",
      "Calculated MC TF fix: 1.8561349229162822\n",
      "D_pred,49.95,2.91,,,35.33,12.53\n",
      "\n",
      "region,bkg_count,bkg_error,sig_count,sig_error,data_count,data_err\n",
      "A,27.01,1.15,0.29,0.08,13.25,3.64\n",
      "B,59.63,1.65,0.03,0.02,33.58,5.79\n",
      "C,109.48,2.31,0.24,0.08,94.60,9.73\n",
      "D,109.73,2.36,6.63,0.39,92.53,9.62\n",
      "0.548020653102163\n",
      "Calculated MC TF fix: 2.21249047520314\n",
      "D_pred,109.73,6.03,,,82.59,28.11\n"
     ]
    }
   ],
   "source": [
    "sample = \"TTbar1L\"\n",
    "\n",
    "SRlike  = \"presel_noDetaJJ and M_jj > 600 and ST > 900 and hbbjet_score > 0.9\"\n",
    "regionA = f\"{SRlike} and abs(deta_jj) > 4 and hbbjet_msoftdrop >= 150\"\n",
    "regionB = f\"{SRlike} and abs(deta_jj) <= 4 and hbbjet_msoftdrop >= 150\"\n",
    "regionC = f\"{SRlike} and abs(deta_jj) <= 4 and hbbjet_msoftdrop < 150\"\n",
    "regionD = f\"{SRlike} and abs(deta_jj) > 4 and hbbjet_msoftdrop < 150\"\n",
    "\n",
    "ABCD(regionA,regionB,regionC,regionD,sample=sample)\n",
    "print()\n",
    "\n",
    "SRlike  = \"presel_noDetaJJ and M_jj > 600 and ST > 900 and hbbjet_score > 0.9 and hbbjet_msoftdrop < 200\"\n",
    "regionA = f\"{SRlike} and abs(deta_jj) > 4 and hbbjet_msoftdrop >= 150\"\n",
    "regionB = f\"{SRlike} and abs(deta_jj) <= 4 and hbbjet_msoftdrop >= 150\"\n",
    "regionC = f\"{SRlike} and abs(deta_jj) <= 4 and hbbjet_msoftdrop < 150\"\n",
    "regionD = f\"{SRlike} and abs(deta_jj) > 4 and hbbjet_msoftdrop < 150\"\n",
    "\n",
    "ABCD(regionA,regionB,regionC,regionD,sample=sample)\n",
    "print()\n",
    "\n",
    "SRlike  = \"presel_noDetaJJ and M_jj > 600 and ST > 900 and hbbjet_score > 0.9 and (hbbjet_msoftdrop > 200 or hbbjet_msoftdrop < 150)\"\n",
    "regionA = f\"{SRlike} and abs(deta_jj) > 4 and hbbjet_msoftdrop >= 150\"\n",
    "regionB = f\"{SRlike} and abs(deta_jj) <= 4 and hbbjet_msoftdrop >= 150\"\n",
    "regionC = f\"{SRlike} and abs(deta_jj) <= 4 and hbbjet_msoftdrop < 150\"\n",
    "regionD = f\"{SRlike} and abs(deta_jj) > 4 and hbbjet_msoftdrop < 150\"\n",
    "\n",
    "ABCD(regionA,regionB,regionC,regionD,sample=sample)\n",
    "print()\n",
    "\n",
    "\n",
    "SRlike  = \"presel_noDetaJJ and M_jj > 600 and ST > 900 and hbbjet_score > 0.9\"\n",
    "regionA = f\"{SRlike} and abs(deta_jj) > 4 and hbbjet_msoftdrop >= 200\"  # A1\n",
    "regionB = f\"{SRlike} and abs(deta_jj) <= 4 and hbbjet_msoftdrop >= 200\" # B1\n",
    "regionC = f\"{SRlike} and abs(deta_jj) <= 4 and hbbjet_msoftdrop >= 150 and hbbjet_msoftdrop < 200\"  # B2\n",
    "regionD = f\"{SRlike} and abs(deta_jj) > 4 and hbbjet_msoftdrop >= 150 and hbbjet_msoftdrop < 200\"   # A2\n",
    "\n",
    "ABCD(regionA,regionB,regionC,regionD,sample=sample,blind=False)\n",
    "\n",
    "# Reset\n",
    "SRlike  = \"presel_noDetaJJ and M_jj > 600 and ST > 900 and hbbjet_score > 0.9\"\n",
    "regionA = f\"{SRlike} and abs(deta_jj) > 4 and hbbjet_msoftdrop >= 150\"\n",
    "regionB = f\"{SRlike} and abs(deta_jj) <= 4 and hbbjet_msoftdrop >= 150\"\n",
    "regionC = f\"{SRlike} and abs(deta_jj) <= 4 and hbbjet_msoftdrop < 150\"\n",
    "regionD = f\"{SRlike} and abs(deta_jj) > 4 and hbbjet_msoftdrop < 150\""
   ]
  },
  {
   "cell_type": "code",
   "execution_count": 9,
   "id": "46fa5a1c",
   "metadata": {
    "scrolled": true
   },
   "outputs": [
    {
     "name": "stdout",
     "output_type": "stream",
     "text": [
      "cut,region,bkg_wgt,bkg_err,sig_wgt,sig_err,data,data_err\n",
      "presel_noDetaJJ and M_jj > 600 and ST > 900 and hbbjet_score > 0.9 and ((is_data or is_signal) or (name == 'TTbar1L')) and abs(deta_jj) > 4 and (not (hbbjet_msoftdrop < 150)),A,136.7437246819876,2.625319769465052,6.922700925844113,0.39741721099955374,142,11.916375287812984\n",
      "presel_noDetaJJ and M_jj > 600 and ST > 900 and hbbjet_score > 0.9 and ((is_data or is_signal) or (name == 'TTbar1L')) and (not (abs(deta_jj) > 4)) and (not (hbbjet_msoftdrop < 150)),B,169.1066296395771,2.840797400309562,0.2728229361420638,0.0843215664975972,201,14.177446878757825\n",
      "presel_noDetaJJ and M_jj > 600 and ST > 900 and hbbjet_score > 0.9 and ((is_data or is_signal) or (name == 'TTbar1L')) and (not (abs(deta_jj) > 4)) and hbbjet_msoftdrop < 150,C,59.389843911136694,1.688793572473669,11.623110701742963,0.5219428213060152,170,13.038404810405298\n",
      "presel_noDetaJJ and M_jj > 600 and ST > 900 and hbbjet_score > 0.9 and ((is_data or is_signal) or (name == 'TTbar1L')) and abs(deta_jj) > 4 and hbbjet_msoftdrop < 150,D,49.945364034767564,1.58467141972717,366.30367883174995,2.915976282353836,BLINDED,BLINDED\n",
      "\n",
      "name,extp,rel_err\n",
      "BtoA_MC,0.808624268447868,0.025510715435582535\n",
      "BtoA_data,0.7064676616915423,0.1096238017003434\n"
     ]
    }
   ],
   "source": [
    "pred, stat, syst = vbswh.ABCD( \n",
    "    \"abs(deta_jj) > 4\",\n",
    "    \"hbbjet_msoftdrop < 150\",\n",
    "#     SRlike,\n",
    "    \"presel_noDetaJJ and M_jj > 600 and ST > 900 and hbbjet_score > 0.9 and ((is_data or is_signal) or (name == 'TTbar1L'))\",\n",
    "#     \"presel_noDetaJJ and M_jj > 600 and ST > 900 and hbbjet_score > 0.9 and (hbbjet_msoftdrop > 200 or hbbjet_msoftdrop < 150)\",\n",
    "    h_dir=\"left\", v_dir=\"up\", \n",
    "    show_data=True\n",
    ")"
   ]
  },
  {
   "cell_type": "markdown",
   "id": "32b60bfb",
   "metadata": {},
   "source": [
    "# Calculations for review"
   ]
  },
  {
   "cell_type": "code",
   "execution_count": 10,
   "id": "67ae0df0",
   "metadata": {},
   "outputs": [],
   "source": [
    "def get_closure_data(regionA, regionB, regionC, regionD):\n",
    "    # Counts\n",
    "    A_count = vbswh.data_count(selection=regionA)\n",
    "    B_count = vbswh.data_count(selection=regionB)\n",
    "    C_count = vbswh.data_count(selection=regionC)\n",
    "    D_count = vbswh.data_count(selection=regionD)\n",
    "    \n",
    "    # Errors\n",
    "    A_error = vbswh.data_error(selection=regionA)\n",
    "    B_error = vbswh.data_error(selection=regionB)\n",
    "    C_error = vbswh.data_error(selection=regionC)\n",
    "    D_error = vbswh.data_error(selection=regionD)\n",
    "        \n",
    "    # Transfer factor\n",
    "    tf = A_count/B_count\n",
    "    tf_err = tf*np.sqrt((A_error/A_count)**2 + (B_error/B_count)**2)\n",
    "    \n",
    "    # Prediction\n",
    "    D_pred = tf*C_count\n",
    "    D_pred_err = D_pred*np.sqrt((A_error/A_count)**2 + (B_error/B_count)**2 + (C_error/C_count)**2)\n",
    "    \n",
    "    print(\"For cross check with vbswh.ABCD:\")\n",
    "    print(\"A\", A_count)\n",
    "    print(\"B\", B_count)\n",
    "    print(\"C\", C_count)\n",
    "    \n",
    "    return D_count, D_error, D_pred, D_pred_err"
   ]
  },
  {
   "cell_type": "code",
   "execution_count": 11,
   "id": "4e0ad988",
   "metadata": {},
   "outputs": [
    {
     "name": "stdout",
     "output_type": "stream",
     "text": [
      "cut,region,bkg_wgt,bkg_err,sig_wgt,sig_err,data,data_err\n",
      "presel_noDetaJJ and M_jj > 600 and ST > 900 and hbbjet_score > 0.9 and hbbjet_msoftdrop >= 150 and abs(deta_jj) > 4 and (not (hbbjet_msoftdrop < 200)),A,41.764499330043776,1.714211180298156,0.28888284342762005,0.08420035903428198,28,5.291502622129181\n",
      "presel_noDetaJJ and M_jj > 600 and ST > 900 and hbbjet_score > 0.9 and hbbjet_msoftdrop >= 150 and (not (abs(deta_jj) > 4)) and (not (hbbjet_msoftdrop < 200)),B,96.0539085941475,4.406398084194562,0.02902564212143425,0.01692882925349821,70,8.366600265340756\n",
      "presel_noDetaJJ and M_jj > 600 and ST > 900 and hbbjet_score > 0.9 and hbbjet_msoftdrop >= 150 and (not (abs(deta_jj) > 4)) and hbbjet_msoftdrop < 200,C,145.88028965313845,3.8104878863266167,0.24379729402062955,0.08260472938467028,131,11.445523142259598\n",
      "presel_noDetaJJ and M_jj > 600 and ST > 900 and hbbjet_score > 0.9 and hbbjet_msoftdrop >= 150 and abs(deta_jj) > 4 and hbbjet_msoftdrop < 200,D,131.20351087028484,2.760690516111737,6.633818082416495,0.38839508124738376,BLINDED,BLINDED\n",
      "\n",
      "name,extp,rel_err\n",
      "BtoA_MC,0.43480270549436506,0.0615557559082951\n",
      "BtoA_data,0.4,0.22360679774997896\n"
     ]
    }
   ],
   "source": [
    "pred, stat, syst = vbswh.ABCD( \n",
    "    \"abs(deta_jj) > 4\",\n",
    "    \"hbbjet_msoftdrop < 200\",\n",
    "    \"presel_noDetaJJ and M_jj > 600 and ST > 900 and hbbjet_score > 0.9 and hbbjet_msoftdrop >= 150\",\n",
    "    h_dir=\"left\", v_dir=\"up\", \n",
    "    show_data=True\n",
    ")"
   ]
  },
  {
   "cell_type": "code",
   "execution_count": 12,
   "id": "0c9ac756",
   "metadata": {},
   "outputs": [
    {
     "name": "stdout",
     "output_type": "stream",
     "text": [
      "For cross check with vbswh.ABCD:\n",
      "A 28\n",
      "B 70\n",
      "C 131\n",
      "(114, 10.677078252031311, 52.400000000000006, 12.57966613229461)\n"
     ]
    }
   ],
   "source": [
    "# Test closure in data in AB\n",
    "SRlike  = \"presel_noDetaJJ and M_jj > 600 and ST > 900 and hbbjet_score > 0.9\"\n",
    "regionA = f\"{SRlike} and abs(deta_jj) > 4 and hbbjet_msoftdrop >= 200\"  # A1\n",
    "regionB = f\"{SRlike} and abs(deta_jj) <= 4 and hbbjet_msoftdrop >= 200\" # B1\n",
    "regionC = f\"{SRlike} and abs(deta_jj) <= 4 and hbbjet_msoftdrop >= 150 and hbbjet_msoftdrop < 200\"  # B2\n",
    "regionD = f\"{SRlike} and abs(deta_jj) > 4 and hbbjet_msoftdrop >= 150 and hbbjet_msoftdrop < 200\"   # A2\n",
    "print(get_closure_data(regionA, regionB, regionC, regionD))\n",
    "\n",
    "# Reset\n",
    "SRlike  = \"presel_noDetaJJ and M_jj > 600 and ST > 900 and hbbjet_score > 0.9\"\n",
    "regionA = f\"{SRlike} and abs(deta_jj) > 4 and hbbjet_msoftdrop >= 150\"\n",
    "regionB = f\"{SRlike} and abs(deta_jj) <= 4 and hbbjet_msoftdrop >= 150\"\n",
    "regionC = f\"{SRlike} and abs(deta_jj) <= 4 and hbbjet_msoftdrop < 150\"\n",
    "regionD = f\"{SRlike} and abs(deta_jj) > 4 and hbbjet_msoftdrop < 150\""
   ]
  },
  {
   "cell_type": "code",
   "execution_count": 13,
   "id": "671bf411",
   "metadata": {},
   "outputs": [
    {
     "name": "stdout",
     "output_type": "stream",
     "text": [
      "cut,region,bkg_wgt,bkg_err,sig_wgt,sig_err,data,data_err\n",
      "presel_noDetaJJ and M_jj > 600 and ST > 900 and hbbjet_score <= 0.5 and hbbjet_score > 0.3 and abs(deta_jj) > 4 and (not (hbbjet_msoftdrop < 150)),A,80.13847261270763,2.6816135654763578,0.08432259475889595,0.039495855428519695,87,9.327379053088816\n",
      "presel_noDetaJJ and M_jj > 600 and ST > 900 and hbbjet_score <= 0.5 and hbbjet_score > 0.3 and (not (abs(deta_jj) > 4)) and (not (hbbjet_msoftdrop < 150)),B,119.61053554308243,2.6484914913282003,0.03545809722221798,0.03545809722221798,119,10.908712114635714\n",
      "presel_noDetaJJ and M_jj > 600 and ST > 900 and hbbjet_score <= 0.5 and hbbjet_score > 0.3 and (not (abs(deta_jj) > 4)) and hbbjet_msoftdrop < 150,C,164.07787245080965,7.259507711411256,0.06196954418901307,0.03641677545529165,188,13.711309200802088\n",
      "presel_noDetaJJ and M_jj > 600 and ST > 900 and hbbjet_score <= 0.5 and hbbjet_score > 0.3 and abs(deta_jj) > 4 and hbbjet_msoftdrop < 150,D,96.88083927555962,4.0487005970492955,5.463165849701192,0.3450759994857886,BLINDED,BLINDED\n",
      "\n",
      "name,extp,rel_err\n",
      "BtoA_MC,0.6699950990842493,0.0401250305775876\n",
      "BtoA_data,0.7310924369747899,0.14105890336345675\n"
     ]
    }
   ],
   "source": [
    "vbswh.df.event_weight /= vbswh.df.xbb_sf\n",
    "\n",
    "pred, stat, syst = vbswh.ABCD( \n",
    "    \"abs(deta_jj) > 4\",\n",
    "    \"hbbjet_msoftdrop < 150\",\n",
    "    \"presel_noDetaJJ and M_jj > 600 and ST > 900 and hbbjet_score <= 0.5 and hbbjet_score > 0.3\",\n",
    "    h_dir=\"left\", v_dir=\"up\", \n",
    "    show_data=True\n",
    ")\n",
    "\n",
    "vbswh.df.event_weight = ORIG_EVENT_WEIGHT.copy()"
   ]
  },
  {
   "cell_type": "code",
   "execution_count": 14,
   "id": "16f09cba",
   "metadata": {},
   "outputs": [
    {
     "name": "stdout",
     "output_type": "stream",
     "text": [
      "Region & Total bkg. (MC) &    Total sig.   &   Total data    \\\\\n",
      "\\hline\n",
      "  A    & $ 80.1 \\pm 2.7 $ & $ 0.1 \\pm 0.0 $ & $ 87 \\pm 9.3 $ \\\\\n",
      "  B    & $119.6 \\pm 2.6 $ & $ 0.0 \\pm 0.0 $ & $119 \\pm 10.9$ \\\\\n",
      "  C    & $164.1 \\pm 7.3 $ & $ 0.1 \\pm 0.0 $ & $188 \\pm 13.7$ \\\\\n",
      "  D    & $ 96.9 \\pm 4.0 $ & $ 5.5 \\pm 0.3 $ &       --       \\\\\n"
     ]
    }
   ],
   "source": [
    "table = \"\"\"\n",
    "cut,region,bkg_wgt,bkg_err,sig_wgt,sig_err,data,data_err\n",
    "presel_noDetaJJ and M_jj > 600 and ST > 900 and hbbjet_score <= 0.5 and hbbjet_score > 0.3 and abs(deta_jj) > 4 and (not (hbbjet_msoftdrop < 150)),A,80.13847261270763,2.6816135654763578,0.08432259475889595,0.039495855428519695,87,9.327379053088816\n",
    "presel_noDetaJJ and M_jj > 600 and ST > 900 and hbbjet_score <= 0.5 and hbbjet_score > 0.3 and (not (abs(deta_jj) > 4)) and (not (hbbjet_msoftdrop < 150)),B,119.61053554308242,2.6484914913282003,0.03545809722221798,0.03545809722221798,119,10.908712114635714\n",
    "presel_noDetaJJ and M_jj > 600 and ST > 900 and hbbjet_score <= 0.5 and hbbjet_score > 0.3 and (not (abs(deta_jj) > 4)) and hbbjet_msoftdrop < 150,C,164.07787245080965,7.259507711411256,0.06196954418901307,0.03641677545529165,188,13.711309200802088\n",
    "presel_noDetaJJ and M_jj > 600 and ST > 900 and hbbjet_score <= 0.5 and hbbjet_score > 0.3 and abs(deta_jj) > 4 and hbbjet_msoftdrop < 150,D,96.88083927555962,4.048700597049295,5.463165849701192,0.3450759994857886,BLINDED,BLINDED\n",
    "\"\"\"\n",
    "\n",
    "print(\"Region & Total bkg. (MC) &    Total sig.   &   Total data    \\\\\\\\\")\n",
    "print(\"\\\\hline\")\n",
    "for line in table.splitlines()[2:]:\n",
    "    cut, region, bkg_wgt, bkg_err, sig_wgt, sig_err, data, data_err = line.split(\",\")\n",
    "    bkg_wgt, bkg_err = (float(bkg_wgt), float(bkg_err))\n",
    "    sig_wgt, sig_err = (float(sig_wgt), float(sig_err))\n",
    "    if region == \"D\":\n",
    "        print(f\"{region:^6} & ${bkg_wgt:>5.1f} \\pm {bkg_err:<4.1f}$ & ${sig_wgt:>4.1f} \\pm {sig_err:<4.1f}$ & {'--':^14} \\\\\\\\\")\n",
    "    else:\n",
    "        data, data_err = (int(data), float(data_err))\n",
    "        print(f\"{region:^6} & ${bkg_wgt:>5.1f} \\pm {bkg_err:<4.1f}$ & ${sig_wgt:>4.1f} \\pm {sig_err:<4.1f}$ & ${data:>3} \\pm {data_err:<4.1f}$ \\\\\\\\\")"
   ]
  },
  {
   "cell_type": "code",
   "execution_count": 15,
   "id": "36c65b84",
   "metadata": {},
   "outputs": [
    {
     "name": "stdout",
     "output_type": "stream",
     "text": [
      "For cross check with vbswh.ABCD:\n",
      "A 87\n",
      "B 119\n",
      "C 188\n",
      "118 10.862780491200215 137.44537815126048 21.8260331349876\n"
     ]
    }
   ],
   "source": [
    "# Test closure in data in PNet sideband\n",
    "# SRlike = \"presel_noDetaJJ and M_jj > 600 and ST > 900 and hbbjet_score <= 0.9 and hbbjet_score > 0.7\"\n",
    "SRlike = \"presel_noDetaJJ and M_jj > 600 and ST > 900 and hbbjet_score <= 0.5 and hbbjet_score > 0.3\"\n",
    "regionA = f\"{SRlike} and abs(deta_jj) > 4 and hbbjet_msoftdrop >= 150\"\n",
    "regionB = f\"{SRlike} and abs(deta_jj) <= 4 and hbbjet_msoftdrop >= 150\"\n",
    "regionC = f\"{SRlike} and abs(deta_jj) <= 4 and hbbjet_msoftdrop < 150\"\n",
    "regionD = f\"{SRlike} and abs(deta_jj) > 4 and hbbjet_msoftdrop < 150\"\n",
    "D, D_err, D_pred, D_pred_err = get_closure_data(regionA, regionB, regionC, regionD)\n",
    "print(D, D_err, D_pred, D_pred_err)\n",
    "\n",
    "AN_numbers[\"PNetSidebandPredData\"] = round(D_pred, 1)\n",
    "AN_numbers[\"PNetSidebandPredDataStatErr\"] = round(D_pred_err, 1)\n",
    "AN_numbers[\"PNetSidebandData\"] = D\n",
    "AN_numbers[\"PNetSidebandDataStatErr\"] = round(D_err, 1)\n",
    "\n",
    "# Reset\n",
    "SRlike  = \"presel_noDetaJJ and M_jj > 600 and ST > 900 and hbbjet_score > 0.9\"\n",
    "regionA = f\"{SRlike} and abs(deta_jj) > 4 and hbbjet_msoftdrop >= 150\"\n",
    "regionB = f\"{SRlike} and abs(deta_jj) <= 4 and hbbjet_msoftdrop >= 150\"\n",
    "regionC = f\"{SRlike} and abs(deta_jj) <= 4 and hbbjet_msoftdrop < 150\"\n",
    "regionD = f\"{SRlike} and abs(deta_jj) > 4 and hbbjet_msoftdrop < 150\""
   ]
  },
  {
   "cell_type": "code",
   "execution_count": 16,
   "id": "500d067b",
   "metadata": {},
   "outputs": [
    {
     "name": "stdout",
     "output_type": "stream",
     "text": [
      "Sample           & Transfer factor & $D_{MC}^{pred}$   & $D_{MC}$          & $|1 - D_{MC}^{pred}/D_{MC}|$\n",
      "\\hline\n",
      "Total bkg.       & $0.71 \\pm 0.02$ & $ 129.5 \\pm 5.1 $ & $ 116.4 \\pm 3.8 $ & $ 11.2$\n",
      "$t\\bar{t}+1\\ell$ & $0.81 \\pm 0.02$ & $  48.0 \\pm 1.8 $ & $  49.9 \\pm 1.6 $ & $  3.8$\n",
      "$t\\bar{t}+2\\ell$ & $0.33 \\pm 0.03$ & $  12.7 \\pm 1.3 $ & $  21.4 \\pm 0.9 $ & $ 40.6$\n",
      "W+jets           & $0.37 \\pm 0.03$ & $  15.8 \\pm 1.1 $ & $  21.2 \\pm 1.3 $ & $ 25.5$\n",
      "Single top       & $1.17 \\pm 0.16$ & $  17.1 \\pm 3.0 $ & $  13.1 \\pm 1.4 $ & $ 30.6$\n",
      "Bosons           & $0.13 \\pm 0.11$ & $   2.7 \\pm 2.5 $ & $   6.0 \\pm 2.6 $ & $ 54.8$\n"
     ]
    }
   ],
   "source": [
    "def get_closure_numbers(regionA, regionB, regionC, region_D, sample=None):\n",
    "    if sample is None:\n",
    "        A_count = vbswh.bkg_count(selection=regionA)\n",
    "        B_count = vbswh.bkg_count(selection=regionB)\n",
    "        C_count = vbswh.bkg_count(selection=regionC)\n",
    "        D_count = vbswh.bkg_count(selection=regionD)\n",
    "        \n",
    "        A_error = vbswh.bkg_error(selection=regionA)\n",
    "        B_error = vbswh.bkg_error(selection=regionB)\n",
    "        C_error = vbswh.bkg_error(selection=regionC)\n",
    "        D_error = vbswh.bkg_error(selection=regionD)\n",
    "    else:\n",
    "        A_count = vbswh.sample_count(sample, selection=regionA)\n",
    "        B_count = vbswh.sample_count(sample, selection=regionB)\n",
    "        C_count = vbswh.sample_count(sample, selection=regionC)\n",
    "        D_count = vbswh.sample_count(sample, selection=regionD)\n",
    "        \n",
    "        A_error = vbswh.sample_error(sample, selection=regionA)\n",
    "        B_error = vbswh.sample_error(sample, selection=regionB)\n",
    "        C_error = vbswh.sample_error(sample, selection=regionC)\n",
    "        D_error = vbswh.sample_error(sample, selection=regionD)\n",
    "        \n",
    "    # Transfer factor\n",
    "    tf = A_count/B_count\n",
    "    tf_err = tf*np.sqrt((A_error/A_count)**2 + (B_error/B_count)**2)\n",
    "    \n",
    "    # Prediction\n",
    "    D_pred = tf*C_count\n",
    "    D_pred_err = D_pred*np.sqrt((A_error/A_count)**2 + (B_error/B_count)**2 + (C_error/C_count)**2)\n",
    "    \n",
    "    # Systematic\n",
    "    syst = abs(1 - D_pred/D_count)\n",
    "    \n",
    "    return tf, tf_err, D_pred, D_pred_err, D_count, D_error, syst\n",
    "\n",
    "sample_tex = {\n",
    "    \"TTbar1L\": \"$t\\\\bar{t}+1\\\\ell$\",\n",
    "    \"TTbar2L\": \"$t\\\\bar{t}+2\\\\ell$\",\n",
    "    \"WJets\": \"W+jets\",\n",
    "    \"SingleTop\": \"Single top\"\n",
    "}\n",
    "\n",
    "print(\"Sample           & Transfer factor & $D_{MC}^{pred}$   & $D_{MC}$          & $|1 - D_{MC}^{pred}/D_{MC}|$\")\n",
    "print(\"\\\\hline\")\n",
    "for sample in [None, \"TTbar1L\", \"TTbar2L\", \"WJets\", \"SingleTop\", \"Bosons\"]:\n",
    "    tf, tf_err, D_pred, D_pred_err, D, D_err, syst = get_closure_numbers(\n",
    "        regionA, regionB, regionC, regionD, sample=sample\n",
    "    )\n",
    "    if sample is None:\n",
    "        sample = \"Total bkg.\"\n",
    "    print(\n",
    "        f\"{sample_tex.get(sample, sample):<16}\"\n",
    "        f\" & ${tf:.2f} \\pm {tf_err:.2f}$\"\n",
    "        f\" & ${D_pred:>6.1f} \\pm {D_pred_err:<4.1f}$\"\n",
    "        f\" & ${D:>6.1f} \\pm {D_err:<4.1f}$\"\n",
    "        f\" & ${syst*100:>5.1f}$\"\n",
    "    )"
   ]
  },
  {
   "cell_type": "markdown",
   "id": "c3f4f053",
   "metadata": {},
   "source": [
    "# Main ABCD"
   ]
  },
  {
   "cell_type": "code",
   "execution_count": 17,
   "id": "b09bde2a",
   "metadata": {},
   "outputs": [
    {
     "name": "stdout",
     "output_type": "stream",
     "text": [
      "region,bkg_count,bkg_error,sig_count,sig_error,data_count,data_err\n",
      "A,172.97,3.25,6.92,0.40,142.00,11.92\n",
      "B,241.93,5.83,0.27,0.08,201.00,14.18\n",
      "C,181.10,4.40,11.62,0.52,170.00,13.04\n",
      "D,116.41,3.84,366.30,2.92,0.00,0.00\n",
      "0.1122552957372065\n",
      "Calculated MC TF fix: 0.8990741638476054\n",
      "D_pred,116.41,4.54,,,107.98,14.45\n",
      "107.97835977751838 14.446411333162647 12.121142710043808\n"
     ]
    }
   ],
   "source": [
    "D_pred, D_pred_stat_err, D_pred_syst_err = ABCD(regionA, regionB, regionC, regionD)\n",
    "\n",
    "print(D_pred, D_pred_stat_err, D_pred_syst_err)\n",
    "\n",
    "AN_numbers[\"PredBkg\"] = round(D_pred)\n",
    "AN_numbers[\"PredBkgStatErr\"] = round(D_pred_stat_err, 1)"
   ]
  },
  {
   "cell_type": "code",
   "execution_count": 18,
   "id": "f0f71384",
   "metadata": {},
   "outputs": [
    {
     "name": "stdout",
     "output_type": "stream",
     "text": [
      "cut,region,bkg_wgt,bkg_err,sig_wgt,sig_err,data,data_err\n",
      "presel_noDetaJJ and M_jj > 600 and ST > 900 and hbbjet_score > 0.9 and abs(deta_jj) > 4 and (not (hbbjet_msoftdrop < 150)),A,172.96801020032862,3.2496049138946854,6.922700925844113,0.39741721099955374,142,11.916375287812984\n",
      "presel_noDetaJJ and M_jj > 600 and ST > 900 and hbbjet_score > 0.9 and (not (abs(deta_jj) > 4)) and (not (hbbjet_msoftdrop < 150)),B,241.93419824728596,5.825475260288674,0.2728229361420638,0.0843215664975972,201,14.177446878757825\n",
      "presel_noDetaJJ and M_jj > 600 and ST > 900 and hbbjet_score > 0.9 and (not (abs(deta_jj) > 4)) and hbbjet_msoftdrop < 150,C,181.09960266319064,4.4037606061757675,11.623110701742963,0.5219428213060152,170,13.038404810405298\n",
      "presel_noDetaJJ and M_jj > 600 and ST > 900 and hbbjet_score > 0.9 and abs(deta_jj) > 4 and hbbjet_msoftdrop < 150,D,116.4076556171012,3.8367571247557883,366.30367883174995,2.915976282353836,BLINDED,BLINDED\n",
      "\n",
      "name,extp,rel_err\n",
      "BtoA_MC,0.7149382412796988,0.030540955007641767\n",
      "BtoA_data,0.7064676616915423,0.1096238017003434\n"
     ]
    }
   ],
   "source": [
    "pred, stat, syst = vbswh.ABCD( \n",
    "    \"abs(deta_jj) > 4\",\n",
    "    \"hbbjet_msoftdrop < 150\",\n",
    "    SRlike,\n",
    "    h_dir=\"left\", v_dir=\"up\", \n",
    "    show_data=True\n",
    ")\n",
    "AN_numbers[\"PredBkgNoCorrection\"] = round(pred)\n",
    "AN_numbers[\"PredBkgNoCorrectionStatErr\"] = round(pred*stat, 1)\n",
    "A_bkg_wgt = vbswh.bkg_count(selection=regionA)\n",
    "A_bkg_err = vbswh.bkg_error(selection=regionA)\n",
    "B_bkg_wgt = vbswh.bkg_count(selection=regionB)\n",
    "B_bkg_err = vbswh.bkg_error(selection=regionB)\n",
    "AN_numbers[\"PredBkgMC\"] = round(A_bkg_wgt/B_bkg_wgt*vbswh.bkg_count(selection=regionC), 1)\n",
    "AN_numbers[\"BkgEstABMC\"] = A_bkg_wgt/B_bkg_wgt\n",
    "AN_numbers[\"BkgEstABMCErr\"] = round(np.sqrt((B_bkg_err/B_bkg_wgt)**2 + (A_bkg_err/A_bkg_wgt)**2)*100, 1)\n",
    "AN_numbers[\"BkgEstMethodSystErr\"] = syst*100\n",
    "AN_numbers[\"BkgEstStatErr\"] = stat*100\n",
    "A_data     = vbswh.data_count(selection=regionA)\n",
    "A_data_err = vbswh.data_error(selection=regionA)\n",
    "B_data     = vbswh.data_count(selection=regionB)\n",
    "B_data_err = vbswh.data_error(selection=regionB)\n",
    "AN_numbers[\"BkgEstABData\"] = A_data/B_data\n",
    "AN_numbers[\"BkgEstABDataErr\"] = round(np.sqrt((B_data_err/B_data)**2 + (A_data_err/A_data)**2)*100, 1)"
   ]
  },
  {
   "cell_type": "code",
   "execution_count": 29,
   "id": "c524a38a",
   "metadata": {},
   "outputs": [
    {
     "name": "stdout",
     "output_type": "stream",
     "text": [
      "Region & Total bkg. (MC) &    Total sig.   &   Total data   \\\\\n",
      "\\hline\n",
      "  A    & $173.0 \\pm 3.2$ & $  6.9 \\pm 0.4$ & $142 \\pm 11.9$ \\\\\n",
      "  B    & $241.9 \\pm 5.8$ & $  0.3 \\pm 0.1$ & $201 \\pm 14.2$ \\\\\n",
      "  C    & $181.1 \\pm 4.4$ & $ 11.6 \\pm 0.5$ & $170 \\pm 13.0$ \\\\\n",
      "  D    & $116.4 \\pm 3.8$ & $366.3 \\pm 2.9$ &       --       \\\\\n"
     ]
    }
   ],
   "source": [
    "table = \"\"\"cut,region,bkg_wgt,bkg_err,sig_wgt,sig_err,data,data_err\n",
    "presel_noDetaJJ and M_jj > 600 and ST > 900 and hbbjet_score > 0.9 and abs(deta_jj) > 4 and (not (hbbjet_msoftdrop < 150)),A,172.96801020032862,3.2496049138946854,6.922700925844113,0.39741721099955374,142,11.916375287812984\n",
    "presel_noDetaJJ and M_jj > 600 and ST > 900 and hbbjet_score > 0.9 and (not (abs(deta_jj) > 4)) and (not (hbbjet_msoftdrop < 150)),B,241.93419824728596,5.825475260288674,0.2728229361420638,0.0843215664975972,201,14.177446878757825\n",
    "presel_noDetaJJ and M_jj > 600 and ST > 900 and hbbjet_score > 0.9 and (not (abs(deta_jj) > 4)) and hbbjet_msoftdrop < 150,C,181.09960266319064,4.4037606061757675,11.623110701742963,0.5219428213060152,170,13.038404810405298\n",
    "presel_noDetaJJ and M_jj > 600 and ST > 900 and hbbjet_score > 0.9 and abs(deta_jj) > 4 and hbbjet_msoftdrop < 150,D,116.4076556171012,3.8367571247557883,366.30367883174995,2.915976282353836,BLINDED,BLINDED\n",
    "\"\"\"\n",
    "\n",
    "print(\"Region & Total bkg. (MC) &    Total sig.   &   Total data   \\\\\\\\\")\n",
    "print(\"\\\\hline\")\n",
    "for line in table.splitlines()[1:]:\n",
    "    cut, region, bkg_wgt, bkg_err, sig_wgt, sig_err, data, data_err = line.split(\",\")\n",
    "    bkg_wgt, bkg_err = (float(bkg_wgt), float(bkg_err))\n",
    "    sig_wgt, sig_err = (float(sig_wgt), float(sig_err))\n",
    "    if region == \"D\":\n",
    "        print(f\"{region:^6} & ${bkg_wgt:.1f} \\pm {bkg_err:.1f}$ & ${sig_wgt:.1f} \\pm {sig_err:.1f}$ & {'--':^14} \\\\\\\\\")\n",
    "    else:\n",
    "        data, data_err = (int(data), float(data_err))\n",
    "        print(f\"{region:^6} & ${bkg_wgt:.1f} \\pm {bkg_err:.1f}$ & ${sig_wgt:>5.1f} \\pm {sig_err:.1f}$ & ${data} \\pm {data_err:.1f}$ \\\\\\\\\")"
   ]
  },
  {
   "cell_type": "markdown",
   "id": "2876a216",
   "metadata": {},
   "source": [
    "# W+jets systematic"
   ]
  },
  {
   "cell_type": "code",
   "execution_count": 20,
   "id": "eb678e05",
   "metadata": {},
   "outputs": [
    {
     "name": "stdout",
     "output_type": "stream",
     "text": [
      "cut,region,bkg_wgt,bkg_err,sig_wgt,sig_err,data,data_err\n",
      "presel_noDetaJJ and M_jj > 600 and ST > 900 and hbbjet_score > 0.9 and abs(deta_jj) > 4 and (not (hbbjet_msoftdrop < 150)),A,184.25640179685288,3.4823729135553605,6.922700925844113,0.39741721099955374,142,11.916375287812984\n",
      "presel_noDetaJJ and M_jj > 600 and ST > 900 and hbbjet_score > 0.9 and (not (abs(deta_jj) > 4)) and (not (hbbjet_msoftdrop < 150)),B,272.50360034858056,5.975932487186179,0.2728229361420638,0.0843215664975972,201,14.177446878757825\n",
      "presel_noDetaJJ and M_jj > 600 and ST > 900 and hbbjet_score > 0.9 and (not (abs(deta_jj) > 4)) and hbbjet_msoftdrop < 150,C,223.95092961983713,4.724667057374665,11.623110701742963,0.5219428213060152,170,13.038404810405298\n",
      "presel_noDetaJJ and M_jj > 600 and ST > 900 and hbbjet_score > 0.9 and abs(deta_jj) > 4 and hbbjet_msoftdrop < 150,D,137.63535367359418,4.415761139294962,366.30367883174995,2.915976282353836,BLINDED,BLINDED\n",
      "\n",
      "name,extp,rel_err\n",
      "BtoA_MC,0.6761613481845972,0.028950101983744547\n",
      "BtoA_data,0.7064676616915423,0.1096238017003434\n",
      "\n",
      "cut,region,bkg_wgt,bkg_err,sig_wgt,sig_err,data,data_err\n",
      "presel_noDetaJJ and M_jj > 600 and ST > 900 and hbbjet_score > 0.9 and abs(deta_jj) > 4 and (not (hbbjet_msoftdrop < 150)),A,167.3238144020665,3.1887591384807656,6.922700925844113,0.39741721099955374,142,11.916375287812984\n",
      "presel_noDetaJJ and M_jj > 600 and ST > 900 and hbbjet_score > 0.9 and (not (abs(deta_jj) > 4)) and (not (hbbjet_msoftdrop < 150)),B,226.6494971966387,5.787249799122416,0.2728229361420638,0.0843215664975972,201,14.177446878757825\n",
      "presel_noDetaJJ and M_jj > 600 and ST > 900 and hbbjet_score > 0.9 and (not (abs(deta_jj) > 4)) and hbbjet_msoftdrop < 150,C,159.67393918486738,4.319810718639373,11.623110701742963,0.5219428213060152,170,13.038404810405298\n",
      "presel_noDetaJJ and M_jj > 600 and ST > 900 and hbbjet_score > 0.9 and abs(deta_jj) > 4 and hbbjet_msoftdrop < 150,D,105.7938065888547,3.6777907679921777,366.30367883174995,2.915976282353836,BLINDED,BLINDED\n",
      "\n",
      "name,extp,rel_err\n",
      "BtoA_MC,0.738249219484913,0.03186166991511027\n",
      "BtoA_data,0.7064676616915423,0.1096238017003434\n"
     ]
    }
   ],
   "source": [
    "vbswh.df.loc[vbswh.df.name == \"WJets\", \"event_weight\"] *= 2\n",
    "vbswh.ABCD( \n",
    "    \"abs(deta_jj) > 4\",\n",
    "    \"hbbjet_msoftdrop < 150\",\n",
    "    SRlike,\n",
    "    h_dir=\"left\", v_dir=\"up\", \n",
    "    show_data=True\n",
    ")\n",
    "A_bkg_wgt = vbswh.bkg_count(selection=regionA)\n",
    "A_bkg_err = vbswh.bkg_error(selection=regionA)\n",
    "B_bkg_wgt = vbswh.bkg_count(selection=regionB)\n",
    "B_bkg_err = vbswh.bkg_error(selection=regionB)\n",
    "AN_numbers[\"BkgEstWJetsUpABMC\"] = A_bkg_wgt/B_bkg_wgt\n",
    "AN_numbers[\"BkgEstWJetsUpABMCErr\"] = round(np.sqrt((B_bkg_err/B_bkg_wgt)**2 + (A_bkg_err/A_bkg_wgt)**2)*100, 1)\n",
    "\n",
    "vbswh.df.event_weight = ORIG_EVENT_WEIGHT.copy()\n",
    "print(\"\")\n",
    "\n",
    "vbswh.df.loc[vbswh.df.name == \"WJets\", \"event_weight\"] *= 0.5\n",
    "vbswh.ABCD( \n",
    "    \"abs(deta_jj) > 4\",\n",
    "    \"hbbjet_msoftdrop < 150\",\n",
    "    SRlike,\n",
    "    h_dir=\"left\", v_dir=\"up\", \n",
    "    show_data=True\n",
    ")\n",
    "A_bkg_wgt = vbswh.bkg_count(selection=regionA)\n",
    "A_bkg_err = vbswh.bkg_error(selection=regionA)\n",
    "B_bkg_wgt = vbswh.bkg_count(selection=regionB)\n",
    "B_bkg_err = vbswh.bkg_error(selection=regionB)\n",
    "AN_numbers[\"BkgEstWJetsDownABMC\"] = A_bkg_wgt/B_bkg_wgt\n",
    "AN_numbers[\"BkgEstWJetsDownABMCErr\"] = round(np.sqrt((B_bkg_err/B_bkg_wgt)**2 + (A_bkg_err/A_bkg_wgt)**2)*100, 1)\n",
    "AN_numbers[\"BkgEstWJetsCompSyst\"] = 100*max(\n",
    "    abs(1 - AN_numbers[\"BkgEstWJetsUpABMC\"]/AN_numbers[\"BkgEstABMC\"]),\n",
    "    abs(1 - AN_numbers[\"BkgEstWJetsDownABMC\"]/AN_numbers[\"BkgEstABMC\"])\n",
    ")\n",
    "\n",
    "vbswh.df.event_weight = ORIG_EVENT_WEIGHT.copy()"
   ]
  },
  {
   "cell_type": "markdown",
   "id": "fe8dcbfb",
   "metadata": {},
   "source": [
    "# Bosons systematic"
   ]
  },
  {
   "cell_type": "code",
   "execution_count": 21,
   "id": "79ab83f6",
   "metadata": {},
   "outputs": [
    {
     "name": "stdout",
     "output_type": "stream",
     "text": [
      "cut,region,bkg_wgt,bkg_err,sig_wgt,sig_err,data,data_err\n",
      "presel_noDetaJJ and M_jj > 600 and ST > 900 and hbbjet_score > 0.9 and abs(deta_jj) > 4 and (not (hbbjet_msoftdrop < 150)),A,173.96489523776356,3.4563270082954083,6.922700925844113,0.39741721099955374,142,11.916375287812984\n",
      "presel_noDetaJJ and M_jj > 600 and ST > 900 and hbbjet_score > 0.9 and (not (abs(deta_jj) > 4)) and (not (hbbjet_msoftdrop < 150)),B,249.86936238562845,9.9929460766949,0.2728229361420638,0.0843215664975972,201,14.177446878757825\n",
      "presel_noDetaJJ and M_jj > 600 and ST > 900 and hbbjet_score > 0.9 and (not (abs(deta_jj) > 4)) and hbbjet_msoftdrop < 150,C,202.62920229973548,7.167156595446391,11.623110701742963,0.5219428213060152,170,13.038404810405298\n",
      "presel_noDetaJJ and M_jj > 600 and ST > 900 and hbbjet_score > 0.9 and abs(deta_jj) > 4 and hbbjet_msoftdrop < 150,D,122.39083663442076,5.971976534453302,366.30367883174995,2.915976282353836,BLINDED,BLINDED\n",
      "\n",
      "name,extp,rel_err\n",
      "BtoA_MC,0.6962233928034762,0.04465591066847087\n",
      "BtoA_data,0.7064676616915423,0.1096238017003434\n",
      "\n",
      "cut,region,bkg_wgt,bkg_err,sig_wgt,sig_err,data,data_err\n",
      "presel_noDetaJJ and M_jj > 600 and ST > 900 and hbbjet_score > 0.9 and abs(deta_jj) > 4 and (not (hbbjet_msoftdrop < 150)),A,172.46956768161115,3.195835731611144,6.922700925844113,0.39741721099955374,142,11.916375287812984\n",
      "presel_noDetaJJ and M_jj > 600 and ST > 900 and hbbjet_score > 0.9 and (not (abs(deta_jj) > 4)) and (not (hbbjet_msoftdrop < 150)),B,237.96661617811475,4.177973155414147,0.2728229361420638,0.0843215664975972,201,14.177446878757825\n",
      "presel_noDetaJJ and M_jj > 600 and ST > 900 and hbbjet_score > 0.9 and (not (abs(deta_jj) > 4)) and hbbjet_msoftdrop < 150,C,170.33480284491822,3.376292482845537,11.623110701742963,0.5219428213060152,170,13.038404810405298\n",
      "presel_noDetaJJ and M_jj > 600 and ST > 900 and hbbjet_score > 0.9 and abs(deta_jj) > 4 and hbbjet_msoftdrop < 150,D,113.41606510844142,3.0797330421548166,366.30367883174995,2.915976282353836,BLINDED,BLINDED\n",
      "\n",
      "name,extp,rel_err\n",
      "BtoA_MC,0.7247637103538929,0.025526509904993114\n",
      "BtoA_data,0.7064676616915423,0.1096238017003434\n"
     ]
    }
   ],
   "source": [
    "vbswh.df.loc[vbswh.df.name == \"Bosons\", \"event_weight\"] *= 2\n",
    "vbswh.ABCD( \n",
    "    \"abs(deta_jj) > 4\",\n",
    "    \"hbbjet_msoftdrop < 150\",\n",
    "    SRlike,\n",
    "    h_dir=\"left\", v_dir=\"up\", \n",
    "    show_data=True\n",
    ")\n",
    "A_bkg_wgt = vbswh.bkg_count(selection=regionA)\n",
    "A_bkg_err = vbswh.bkg_error(selection=regionA)\n",
    "B_bkg_wgt = vbswh.bkg_count(selection=regionB)\n",
    "B_bkg_err = vbswh.bkg_error(selection=regionB)\n",
    "AN_numbers[\"BkgEstBosonsUpABMC\"] = A_bkg_wgt/B_bkg_wgt\n",
    "AN_numbers[\"BkgEstBosonsUpABMCErr\"] = round(np.sqrt((B_bkg_err/B_bkg_wgt)**2 + (A_bkg_err/A_bkg_wgt)**2)*100, 1)\n",
    "\n",
    "vbswh.df.event_weight = ORIG_EVENT_WEIGHT.copy()\n",
    "print(\"\")\n",
    "\n",
    "vbswh.df.loc[vbswh.df.name == \"Bosons\", \"event_weight\"] *= 0.5\n",
    "vbswh.ABCD( \n",
    "    \"abs(deta_jj) > 4\",\n",
    "    \"hbbjet_msoftdrop < 150\",\n",
    "    SRlike,\n",
    "    h_dir=\"left\", v_dir=\"up\", \n",
    "    show_data=True\n",
    ")\n",
    "A_bkg_wgt = vbswh.bkg_count(selection=regionA)\n",
    "A_bkg_err = vbswh.bkg_error(selection=regionA)\n",
    "B_bkg_wgt = vbswh.bkg_count(selection=regionB)\n",
    "B_bkg_err = vbswh.bkg_error(selection=regionB)\n",
    "AN_numbers[\"BkgEstBosonsDownABMC\"] = A_bkg_wgt/B_bkg_wgt\n",
    "AN_numbers[\"BkgEstBosonsDownABMCErr\"] = round(np.sqrt((B_bkg_err/B_bkg_wgt)**2 + (A_bkg_err/A_bkg_wgt)**2)*100, 1)\n",
    "AN_numbers[\"BkgEstBosonsCompSyst\"] = 100*max(\n",
    "    abs(1 - AN_numbers[\"BkgEstBosonsUpABMC\"]/AN_numbers[\"BkgEstABMC\"]),\n",
    "    abs(1 - AN_numbers[\"BkgEstBosonsDownABMC\"]/AN_numbers[\"BkgEstABMC\"])\n",
    ")\n",
    "\n",
    "vbswh.df.event_weight = ORIG_EVENT_WEIGHT.copy()"
   ]
  },
  {
   "cell_type": "markdown",
   "id": "85955fdd",
   "metadata": {},
   "source": [
    "# AN numbers"
   ]
  },
  {
   "cell_type": "code",
   "execution_count": 22,
   "id": "05546611",
   "metadata": {},
   "outputs": [
    {
     "data": {
      "text/plain": [
       "2.6176874302770714"
      ]
     },
     "execution_count": 22,
     "metadata": {},
     "output_type": "execute_result"
    }
   ],
   "source": [
    "AN_numbers[\"BkgEstBosonsCompSyst\"]"
   ]
  },
  {
   "cell_type": "code",
   "execution_count": 23,
   "id": "89fb1a68",
   "metadata": {},
   "outputs": [],
   "source": [
    "AN_numbers[\"BkgEstBkgCompSystErr\"] = np.sqrt(\n",
    "    AN_numbers[\"BkgEstWJetsCompSyst\"]**2 + AN_numbers[\"BkgEstBosonsCompSyst\"]**2\n",
    ")\n",
    "AN_numbers[\"BkgEstTotalSystErr\"] = np.sqrt(\n",
    "    AN_numbers[\"BkgEstMethodSystErr\"]**2 + AN_numbers[\"BkgEstBkgCompSystErr\"]**2\n",
    ")"
   ]
  },
  {
   "cell_type": "code",
   "execution_count": 24,
   "id": "d2c26a2f",
   "metadata": {},
   "outputs": [
    {
     "data": {
      "text/plain": [
       "6.0224583291886615"
      ]
     },
     "execution_count": 24,
     "metadata": {},
     "output_type": "execute_result"
    }
   ],
   "source": [
    "AN_numbers[\"BkgEstBkgCompSystErr\"]"
   ]
  },
  {
   "cell_type": "code",
   "execution_count": 25,
   "id": "1dd1a7f2",
   "metadata": {},
   "outputs": [],
   "source": [
    "# SR2 numbers for posterity\n",
    "AN_numbers[\"SRTwoPredBkg\"] = (\n",
    "    AN_numbers[\"PredBkg\"]*vbswh.bkg_count(selection=f\"{regionD} and ST > 1500\")/AN_numbers[\"PredBkgMC\"]\n",
    ")\n",
    "AN_numbers[\"SRTwoBkgEstSystErr\"] = np.sqrt(\n",
    "    (vbswh.data_error(selection=f\"{regionB} and ST > 1500\")/vbswh.data_count(selection=f\"{regionB} and ST > 1500\"))**2\n",
    "    + (AN_numbers[\"BkgEstTotalSystErr\"]/100)**2\n",
    ")\n",
    "AN_numbers[\"SRTwoPredBkgSystErr\"] = round(AN_numbers[\"SRTwoBkgEstSystErr\"]*AN_numbers[\"SRTwoPredBkg\"], 1)\n",
    "AN_numbers[\"SRTwoBkgEstSystErr\"] = round(AN_numbers[\"SRTwoBkgEstSystErr\"]*100, 1)\n",
    "\n",
    "AN_numbers[\"SRTwoBkgEstStatErr\"] = round(AN_numbers[\"BkgEstStatErr\"], 1)\n",
    "AN_numbers[\"SRTwoPredBkgStatErr\"] = round(AN_numbers[\"SRTwoPredBkg\"]*(AN_numbers[\"BkgEstStatErr\"]/100), 1)\n",
    "AN_numbers[\"SRTwoPredBkg\"] = round(AN_numbers[\"SRTwoPredBkg\"])\n",
    "\n",
    "AN_numbers[\"SRTwoExpSig\"] = round(vbswh.sig_count(selection=f\"{regionD} and ST > 1500\"))\n",
    "AN_numbers[\"SRTwoExpSigStatErr\"] = round(vbswh.sig_error(selection=f\"{regionD} and ST > 1500\"), 1)"
   ]
  },
  {
   "cell_type": "code",
   "execution_count": 26,
   "id": "21ffb557",
   "metadata": {},
   "outputs": [
    {
     "name": "stdout",
     "output_type": "stream",
     "text": [
      "cut,region,bkg_wgt,bkg_err,sig_wgt,sig_err,data,data_err\n",
      "presel_noDetaJJ and M_jj > 600 and ST > 900 and hbbjet_score > 0.9 and abs(deta_jj) > 4 and (not (hbbjet_msoftdrop < 150)),A,172.96801020032862,3.2496049138946854,6.922700925844113,0.39741721099955374,142,11.916375287812984\n",
      "presel_noDetaJJ and M_jj > 600 and ST > 900 and hbbjet_score > 0.9 and (not (abs(deta_jj) > 4)) and (not (hbbjet_msoftdrop < 150)),B,241.93419824728596,5.825475260288674,0.2728229361420638,0.0843215664975972,201,14.177446878757825\n",
      "presel_noDetaJJ and M_jj > 600 and ST > 900 and hbbjet_score > 0.9 and (not (abs(deta_jj) > 4)) and hbbjet_msoftdrop < 150,C,181.09960266319064,4.4037606061757675,11.623110701742963,0.5219428213060152,170,13.038404810405298\n",
      "presel_noDetaJJ and M_jj > 600 and ST > 900 and hbbjet_score > 0.9 and abs(deta_jj) > 4 and hbbjet_msoftdrop < 150,D,116.4076556171012,3.8367571247557883,366.30367883174995,2.915976282353836,BLINDED,BLINDED\n",
      "\n",
      "name,extp,rel_err\n",
      "BtoA_MC,0.7149382412796988,0.030540955007641767\n",
      "BtoA_data,0.7064676616915423,0.1096238017003434\n",
      "region,bkg_count,bkg_error,sig_count,sig_error,data_count,data_err\n",
      "A,172.97,3.25,6.92,0.40,142.00,11.92\n",
      "B,241.93,5.83,0.27,0.08,201.00,14.18\n",
      "C,181.10,4.40,11.62,0.52,170.00,13.04\n",
      "D,116.41,3.84,366.30,2.92,0.00,0.00\n",
      "0.1122552957372065\n",
      "Calculated MC TF fix: 0.8990741638476054\n",
      "D_pred,116.41,4.54,,,107.98,14.45\n"
     ]
    }
   ],
   "source": [
    "pred, stat, syst = vbswh.ABCD( \n",
    "    \"abs(deta_jj) > 4\",\n",
    "    \"hbbjet_msoftdrop < 150\",\n",
    "    SRlike,\n",
    "    h_dir=\"left\", v_dir=\"up\", \n",
    "    show_data=True\n",
    ")\n",
    "\n",
    "AN_numbers[\"PredBkgNoCorrectionSystErr\"] = round(pred*AN_numbers[\"BkgEstTotalSystErr\"]/100, 1)\n",
    "\n",
    "D_pred, D_pred_stat_err, D_pred_syst_err = ABCD(regionA, regionB, regionC, regionD)\n",
    "AN_numbers[\"PredBkgSystErr\"] = round(D_pred*AN_numbers[\"BkgEstTotalSystErr\"]/100, 1)"
   ]
  },
  {
   "cell_type": "code",
   "execution_count": 27,
   "id": "34b54e07",
   "metadata": {},
   "outputs": [],
   "source": [
    "AN_numbers[\"BkgEstABMC\"] = round(AN_numbers[\"BkgEstABMC\"], 2)\n",
    "AN_numbers[\"BkgEstABData\"] = round(AN_numbers[\"BkgEstABData\"], 2)\n",
    "\n",
    "AN_numbers[\"BkgEstWJetsUpABMC\"] = round(AN_numbers[\"BkgEstWJetsUpABMC\"], 2)\n",
    "AN_numbers[\"BkgEstWJetsDownABMC\"] = round(AN_numbers[\"BkgEstWJetsDownABMC\"], 2)\n",
    "AN_numbers[\"BkgEstWJetsCompSyst\"] = round(AN_numbers[\"BkgEstWJetsCompSyst\"], 1)\n",
    "\n",
    "AN_numbers[\"BkgEstBosonsUpABMC\"] = round(AN_numbers[\"BkgEstBosonsUpABMC\"], 2)\n",
    "AN_numbers[\"BkgEstBosonsDownABMC\"] = round(AN_numbers[\"BkgEstBosonsDownABMC\"], 2)\n",
    "AN_numbers[\"BkgEstBosonsCompSyst\"] = round(AN_numbers[\"BkgEstBosonsCompSyst\"], 1)\n",
    "\n",
    "AN_numbers[\"BkgEstBkgCompSystErr\"] = round(AN_numbers[\"BkgEstBkgCompSystErr\"], 1)\n",
    "AN_numbers[\"BkgEstMethodSystErr\"] = round(AN_numbers[\"BkgEstMethodSystErr\"], 1)\n",
    "AN_numbers[\"BkgEstTotalSystErr\"] = round(AN_numbers[\"BkgEstTotalSystErr\"], 1)\n",
    "AN_numbers[\"BkgEstStatErr\"] = round(AN_numbers[\"BkgEstStatErr\"], 1)"
   ]
  },
  {
   "cell_type": "code",
   "execution_count": 28,
   "id": "7dedbec6",
   "metadata": {},
   "outputs": [
    {
     "data": {
      "text/plain": [
       "{'PredBkg': 108,\n",
       " 'PredBkgStatErr': 14.4,\n",
       " 'PredBkgSystErr': 13.8,\n",
       " 'ExpSig': 366,\n",
       " 'ExpSigStatErr': 2.9,\n",
       " 'ExpSigSystErr': 0,\n",
       " 'ExpBkg': 116,\n",
       " 'BkgEstABMC': 0.71,\n",
       " 'BkgEstABMCErr': 3.1,\n",
       " 'BkgEstABData': 0.71,\n",
       " 'BkgEstABDataErr': 11.0,\n",
       " 'PredBkgMC': 129.5,\n",
       " 'BkgEstMethodSystErr': 11.2,\n",
       " 'BkgEstBkgCompSystErr': 6.0,\n",
       " 'BkgEstTotalSystErr': 12.7,\n",
       " 'BkgEstStatErr': 13.4,\n",
       " 'BkgEstWJetsUpABMC': 0.68,\n",
       " 'BkgEstWJetsUpABMCErr': 2.9,\n",
       " 'BkgEstWJetsDownABMC': 0.74,\n",
       " 'BkgEstWJetsDownABMCErr': 3.2,\n",
       " 'BkgEstWJetsCompSyst': 5.4,\n",
       " 'BkgEstBosonsUpABMC': 0.7,\n",
       " 'BkgEstBosonsUpABMCErr': 4.5,\n",
       " 'BkgEstBosonsDownABMC': 0.72,\n",
       " 'BkgEstBosonsDownABMCErr': 2.6,\n",
       " 'BkgEstBosonsCompSyst': 2.6,\n",
       " 'PNetSidebandPredData': 137.4,\n",
       " 'PNetSidebandPredDataStatErr': 21.8,\n",
       " 'PNetSidebandData': 118,\n",
       " 'PNetSidebandDataStatErr': 10.9,\n",
       " 'SRTwoPredBkg': 5,\n",
       " 'SRTwoPredBkgStatErr': 0.6,\n",
       " 'SRTwoPredBkgSystErr': 1.7,\n",
       " 'SRTwoBkgEstStatErr': 13.4,\n",
       " 'SRTwoBkgEstSystErr': 35.7,\n",
       " 'SRTwoExpSig': 99,\n",
       " 'SRTwoExpSigStatErr': 1.5,\n",
       " 'SRTwoExpSigSystErr': 0,\n",
       " 'LambdaWZeqNegOneExcl': 0,\n",
       " 'PredBkgNoCorrection': 120,\n",
       " 'PredBkgNoCorrectionStatErr': 16.1,\n",
       " 'PredBkgNoCorrectionSystErr': 15.3}"
      ]
     },
     "execution_count": 28,
     "metadata": {},
     "output_type": "execute_result"
    }
   ],
   "source": [
    "with open(\"AN_numbers.json\", \"w\") as f_out:\n",
    "    json.dump(AN_numbers, f_out)\n",
    "\n",
    "AN_numbers # must run vbswh-sys.ipynb to fill completely"
   ]
  }
 ],
 "metadata": {
  "kernelspec": {
   "display_name": "Python 3 (ipykernel)",
   "language": "python",
   "name": "python3"
  },
  "language_info": {
   "codemirror_mode": {
    "name": "ipython",
    "version": 3
   },
   "file_extension": ".py",
   "mimetype": "text/x-python",
   "name": "python",
   "nbconvert_exporter": "python",
   "pygments_lexer": "ipython3",
   "version": "3.9.13"
  }
 },
 "nbformat": 4,
 "nbformat_minor": 5
}

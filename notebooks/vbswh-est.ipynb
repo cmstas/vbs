{
 "cells": [
  {
   "cell_type": "code",
   "execution_count": 1,
   "id": "5bf0bf44",
   "metadata": {},
   "outputs": [],
   "source": [
    "import glob\n",
    "from utils.analysis import Extrapolation"
   ]
  },
  {
   "cell_type": "code",
   "execution_count": 2,
   "id": "36715425",
   "metadata": {},
   "outputs": [
    {
     "name": "stdout",
     "output_type": "stream",
     "text": [
      "['../analysis/studies/vbswh/output_pku/Run2/data.root']\n",
      "['../analysis/studies/vbswh/output_pku/Run2/VBSWH_mkW.root']\n"
     ]
    },
    {
     "data": {
      "text/plain": [
       "['../analysis/studies/vbswh/output_pku/Run2/WJets.root',\n",
       " '../analysis/studies/vbswh/output_pku/Run2/TTbar1L.root',\n",
       " '../analysis/studies/vbswh/output_pku/Run2/SingleTop.root',\n",
       " '../analysis/studies/vbswh/output_pku/Run2/VH.root',\n",
       " '../analysis/studies/vbswh/output_pku/Run2/EWKWLep.root',\n",
       " '../analysis/studies/vbswh/output_pku/Run2/TTbar2L.root',\n",
       " '../analysis/studies/vbswh/output_pku/Run2/TTX.root',\n",
       " '../analysis/studies/vbswh/output_pku/Run2/VBSWH_SM.root',\n",
       " '../analysis/studies/vbswh/output_pku/Run2/Bosons.root']"
      ]
     },
     "execution_count": 2,
     "metadata": {},
     "output_type": "execute_result"
    }
   ],
   "source": [
    "TAG = \"pku\"\n",
    "babies = glob.glob(f\"../analysis/studies/vbswh/output_{TAG}/Run2/*.root\")\n",
    "data_babies = [baby for baby in babies if \"data\" in baby]\n",
    "sig_babies = [baby for baby in babies if \"VBSWH_mkW\" in baby]\n",
    "bkg_babies = list(set(babies) - set(data_babies + sig_babies))\n",
    "print(data_babies)\n",
    "print(sig_babies)\n",
    "bkg_babies"
   ]
  },
  {
   "cell_type": "code",
   "execution_count": 3,
   "id": "68a7a331",
   "metadata": {},
   "outputs": [
    {
     "name": "stderr",
     "output_type": "stream",
     "text": [
      "Loading sig babies: 100%|████████████████████████████████████████████████████████████████████████████████████████████████████████████████████████████████████████████████████████████████████████████████| 1/1 [00:00<00:00,  3.42it/s]\n",
      "Loading bkg babies: 100%|████████████████████████████████████████████████████████████████████████████████████████████████████████████████████████████████████████████████████████████████████████████████| 9/9 [00:34<00:00,  3.87s/it]\n",
      "Loading data babies: 100%|███████████████████████████████████████████████████████████████████████████████████████████████████████████████████████████████████████████████████████████████████████████████| 1/1 [00:01<00:00,  1.02s/it]\n"
     ]
    }
   ],
   "source": [
    "vbswh = Extrapolation(\n",
    "    sig_root_files=sig_babies,\n",
    "    bkg_root_files=bkg_babies,\n",
    "    data_root_files=data_babies,\n",
    "    ttree_name=\"tree\",\n",
    "    weight_columns=[\n",
    "        \"xsec_sf\", \"lep_id_sf\", \"ewkfix_sf\", \n",
    "        \"elec_reco_sf\", \"muon_iso_sf\", \n",
    "        \"btag_sf\", \"pu_sf\", \"prefire_sf\", \"trig_sf\",\n",
    "        \"xbb_sf\" # applied only because Xbb > 0.9 applied everywhere for ABCD\n",
    "    ],\n",
    "    vector_branches=[\"reweights\"],\n",
    "    plots_dir=f\"/home/users/jguiang/public_html/onelep_plots/{TAG}/val\"\n",
    ")\n",
    "vbswh.df[\"presel_noVBS_noBVeto\"] = vbswh.df.eval(\n",
    "    \"hbbjet_score > 0.3\"\n",
    ")\n",
    "vbswh.df[\"presel_noVBS\"] = vbswh.df.eval(\n",
    "    \"passes_bveto and hbbjet_score > 0.3\"\n",
    ")\n",
    "vbswh.df[\"presel_noDetaJJ\"] = vbswh.df.eval(\n",
    "    \"passes_bveto and M_jj > 500 and hbbjet_score > 0.3\"\n",
    ")\n",
    "vbswh.df[\"presel\"] = vbswh.df.eval(\n",
    "    \"passes_bveto and M_jj > 500 and abs(deta_jj) > 3 and hbbjet_score > 0.3\"\n",
    ")"
   ]
  },
  {
   "cell_type": "code",
   "execution_count": 4,
   "id": "f0f71384",
   "metadata": {},
   "outputs": [
    {
     "name": "stdout",
     "output_type": "stream",
     "text": [
      "cut,region,bkg_wgt,bkg_err,sig_wgt,sig_err,data,data_err\n",
      "presel_noDetaJJ and M_jj > 600 and ST > 900 and hbbjet_score > 0.9 and abs(deta_jj) > 4 and (not (hbbjet_msoftdrop < 150)),A,191.58877151477816,3.4765962898983576,12.575618070528835,1.5501084806797052,148,12.165525060596439\n",
      "presel_noDetaJJ and M_jj > 600 and ST > 900 and hbbjet_score > 0.9 and (not (abs(deta_jj) > 4)) and (not (hbbjet_msoftdrop < 150)),B,247.43083943707134,5.896755757207026,0.9358456593097984,0.4245346407758773,200,14.142135623730951\n",
      "presel_noDetaJJ and M_jj > 600 and ST > 900 and hbbjet_score > 0.9 and (not (abs(deta_jj) > 4)) and hbbjet_msoftdrop < 150,C,187.10214355172735,4.571668448909117,16.598751180296134,1.8126197245657985,172,13.114877048604\n",
      "presel_noDetaJJ and M_jj > 600 and ST > 900 and hbbjet_score > 0.9 and abs(deta_jj) > 4 and hbbjet_msoftdrop < 150,D,136.0351543922096,4.273106035197079,415.2361991222051,8.934268470281937,BLINDED,BLINDED\n",
      "\n",
      "name,extp,rel_err\n",
      "BtoA_MC,0.7743124177675702,0.02995402251914416\n",
      "BtoA_data,0.74,0.10842857905901358\n"
     ]
    },
    {
     "data": {
      "text/plain": [
       "(127.28, 0.13255455573132463, 0.06498583980237438)"
      ]
     },
     "execution_count": 4,
     "metadata": {},
     "output_type": "execute_result"
    }
   ],
   "source": [
    "vbswh.ABCD( \n",
    "    \"abs(deta_jj) > 4\",\n",
    "    \"hbbjet_msoftdrop < 150\",\n",
    "    \"presel_noDetaJJ and M_jj > 600 and ST > 900 and hbbjet_score > 0.9\",\n",
    "#     \"presel_noDetaJJ and M_jj > 600 and LT > 400 and ST > 900 and hbbjet_score > 0.9\",\n",
    "    h_dir=\"left\", v_dir=\"up\", \n",
    "#     show_raw=True,\n",
    "    show_data=True\n",
    ")"
   ]
  },
  {
   "cell_type": "code",
   "execution_count": 5,
   "id": "2929c496",
   "metadata": {
    "scrolled": false
   },
   "outputs": [
    {
     "name": "stdout",
     "output_type": "stream",
     "text": [
      "WARNING: Region A is signal polluted, blinding this region\n",
      "cut,region,bkg_wgt,bkg_err,sig_wgt,sig_err,data,data_err\n",
      "presel_noDetaJJ and M_jj > 600 and ST > 1500 and hbbjet_score > 0.9 and abs(deta_jj) > 4 and (not (hbbjet_msoftdrop < 150)),A,9.306263280998776,0.957475317587146,2.4238075400788777,0.6618365443533443,BLINDED,BLINDED\n",
      "presel_noDetaJJ and M_jj > 600 and ST > 1500 and hbbjet_score > 0.9 and (not (abs(deta_jj) > 4)) and (not (hbbjet_msoftdrop < 150)),B,18.688287964906564,3.981822215840757,0.0,0.0,9,3.0\n",
      "presel_noDetaJJ and M_jj > 600 and ST > 1500 and hbbjet_score > 0.9 and (not (abs(deta_jj) > 4)) and hbbjet_msoftdrop < 150,C,11.771737401030055,1.3361317161970179,2.314292838353241,0.6587124449640572,10,3.1622776601683795\n",
      "presel_noDetaJJ and M_jj > 600 and ST > 1500 and hbbjet_score > 0.9 and abs(deta_jj) > 4 and hbbjet_msoftdrop < 150,D,6.716926590616621,1.450442777396856,111.08788612896467,4.6470153428215255,BLINDED,BLINDED\n",
      "\n",
      "name,extp,rel_err\n",
      "BtoA_MC,0.49797302452072445,0.23660531596889547\n",
      "BtoA_data,None,None\n"
     ]
    },
    {
     "data": {
      "text/plain": [
       "(None, None, None)"
      ]
     },
     "execution_count": 5,
     "metadata": {},
     "output_type": "execute_result"
    }
   ],
   "source": [
    "vbswh.ABCD( \n",
    "    \"abs(deta_jj) > 4\",\n",
    "    \"hbbjet_msoftdrop < 150\",\n",
    "    \"presel_noDetaJJ and M_jj > 600 and ST > 1500 and hbbjet_score > 0.9\",\n",
    "#     \"presel_noDetaJJ and M_jj > 600 and LT > 400 and ST > 1500 and hbbjet_score > 0.9\",\n",
    "    h_dir=\"left\", v_dir=\"up\", \n",
    "#     show_raw=True,\n",
    "    show_data=True\n",
    ")"
   ]
  },
  {
   "cell_type": "code",
   "execution_count": 6,
   "id": "eb678e05",
   "metadata": {},
   "outputs": [
    {
     "name": "stdout",
     "output_type": "stream",
     "text": [
      "cut,region,bkg_wgt,bkg_err,sig_wgt,sig_err,data,data_err\n",
      "presel_noDetaJJ and M_jj > 600 and ST > 900 and hbbjet_score > 0.9 and abs(deta_jj) > 4 and (not (hbbjet_msoftdrop < 150)),A,204.00069994170286,3.713186500295668,12.575618070528835,1.5501084806797052,148,12.165525060596439\n",
      "presel_noDetaJJ and M_jj > 600 and ST > 900 and hbbjet_score > 0.9 and (not (abs(deta_jj) > 4)) and (not (hbbjet_msoftdrop < 150)),B,278.37310429567157,6.047931174716017,0.9358456593097984,0.4245346407758773,200,14.142135623730951\n",
      "presel_noDetaJJ and M_jj > 600 and ST > 900 and hbbjet_score > 0.9 and (not (abs(deta_jj) > 4)) and hbbjet_msoftdrop < 150,C,230.3081200274547,4.883037512010847,16.598751180296134,1.8126197245657985,172,13.114877048604\n",
      "presel_noDetaJJ and M_jj > 600 and ST > 900 and hbbjet_score > 0.9 and abs(deta_jj) > 4 and hbbjet_msoftdrop < 150,D,160.24079410806115,4.9329256148918175,415.2361991222051,8.934268470281937,BLINDED,BLINDED\n",
      "\n",
      "name,extp,rel_err\n",
      "BtoA_MC,0.7328319323731265,0.02834299417660739\n",
      "BtoA_data,0.74,0.10842857905901358\n",
      "\n",
      "cut,region,bkg_wgt,bkg_err,sig_wgt,sig_err,data,data_err\n",
      "presel_noDetaJJ and M_jj > 600 and ST > 900 and hbbjet_score > 0.9 and abs(deta_jj) > 4 and (not (hbbjet_msoftdrop < 150)),A,185.3828073013158,3.414888535102469,12.575618070528835,1.5501084806797052,148,12.165525060596439\n",
      "presel_noDetaJJ and M_jj > 600 and ST > 900 and hbbjet_score > 0.9 and (not (abs(deta_jj) > 4)) and (not (hbbjet_msoftdrop < 150)),B,231.95970700777124,5.858352387972857,0.9358456593097984,0.4245346407758773,200,14.142135623730951\n",
      "presel_noDetaJJ and M_jj > 600 and ST > 900 and hbbjet_score > 0.9 and (not (abs(deta_jj) > 4)) and hbbjet_msoftdrop < 150,C,165.49915531386367,4.490453949492478,16.598751180296134,1.8126197245657985,172,13.114877048604\n",
      "presel_noDetaJJ and M_jj > 600 and ST > 900 and hbbjet_score > 0.9 and abs(deta_jj) > 4 and hbbjet_msoftdrop < 150,D,123.93233453428378,4.091559018825609,415.2361991222051,8.934268470281937,BLINDED,BLINDED\n",
      "\n",
      "name,extp,rel_err\n",
      "BtoA_MC,0.799202627442123,0.031259949162762084\n",
      "BtoA_data,0.74,0.10842857905901358\n"
     ]
    },
    {
     "data": {
      "text/plain": [
       "(127.28, 0.13255455573132463, 0.06725464555581584)"
      ]
     },
     "execution_count": 6,
     "metadata": {},
     "output_type": "execute_result"
    }
   ],
   "source": [
    "vbswh.df.loc[vbswh.df.name == \"WJets\", \"event_weight\"] *= 2\n",
    "vbswh.ABCD( \n",
    "    \"abs(deta_jj) > 4\",\n",
    "    \"hbbjet_msoftdrop < 150\",\n",
    "    \"presel_noDetaJJ and M_jj > 600 and ST > 900 and hbbjet_score > 0.9\",\n",
    "#     \"presel_noDetaJJ and M_jj > 600 and LT > 400 and ST > 900 and hbbjet_score > 0.9\",\n",
    "    h_dir=\"left\", v_dir=\"up\", \n",
    "#     show_raw=True,\n",
    "    show_data=True\n",
    ")\n",
    "\n",
    "vbswh.df.loc[vbswh.df.name == \"WJets\", \"event_weight\"] *= 0.5\n",
    "print(\"\")\n",
    "\n",
    "vbswh.df.loc[vbswh.df.name == \"WJets\", \"event_weight\"] *= 0.5\n",
    "vbswh.ABCD( \n",
    "    \"abs(deta_jj) > 4\",\n",
    "    \"hbbjet_msoftdrop < 150\",\n",
    "    \"presel_noDetaJJ and M_jj > 600 and ST > 900 and hbbjet_score > 0.9\",\n",
    "#     \"presel_noDetaJJ and M_jj > 600 and LT > 400 and ST > 900 and hbbjet_score > 0.9\",\n",
    "    h_dir=\"left\", v_dir=\"up\", \n",
    "#     show_raw=True,\n",
    "    show_data=True\n",
    ")"
   ]
  }
 ],
 "metadata": {
  "kernelspec": {
   "display_name": "Python 3 (ipykernel)",
   "language": "python",
   "name": "python3"
  },
  "language_info": {
   "codemirror_mode": {
    "name": "ipython",
    "version": 3
   },
   "file_extension": ".py",
   "mimetype": "text/x-python",
   "name": "python",
   "nbconvert_exporter": "python",
   "pygments_lexer": "ipython3",
   "version": "3.9.13"
  }
 },
 "nbformat": 4,
 "nbformat_minor": 5
}

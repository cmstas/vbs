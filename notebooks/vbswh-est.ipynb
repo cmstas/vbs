{
 "cells": [
  {
   "cell_type": "code",
   "execution_count": 1,
   "id": "5bf0bf44",
   "metadata": {},
   "outputs": [],
   "source": [
    "import glob\n",
    "import json\n",
    "import numpy as np\n",
    "from utils.analysis import Extrapolation"
   ]
  },
  {
   "cell_type": "code",
   "execution_count": 2,
   "id": "36715425",
   "metadata": {},
   "outputs": [
    {
     "name": "stdout",
     "output_type": "stream",
     "text": [
      "['../analysis/studies/vbswh/output_kscans/Run2/data.root']\n",
      "['../analysis/studies/vbswh/output_kscans/Run2/VBSWH_mkW.root']\n"
     ]
    },
    {
     "data": {
      "text/plain": [
       "['../analysis/studies/vbswh/output_kscans/Run2/VBSWH_SM.root',\n",
       " '../analysis/studies/vbswh/output_kscans/Run2/WJets.root',\n",
       " '../analysis/studies/vbswh/output_kscans/Run2/EWKWLep.root',\n",
       " '../analysis/studies/vbswh/output_kscans/Run2/TTbar2L.root',\n",
       " '../analysis/studies/vbswh/output_kscans/Run2/TTbar1L.root',\n",
       " '../analysis/studies/vbswh/output_kscans/Run2/Bosons.root',\n",
       " '../analysis/studies/vbswh/output_kscans/Run2/VH.root',\n",
       " '../analysis/studies/vbswh/output_kscans/Run2/SingleTop.root',\n",
       " '../analysis/studies/vbswh/output_kscans/Run2/TTX.root']"
      ]
     },
     "execution_count": 2,
     "metadata": {},
     "output_type": "execute_result"
    }
   ],
   "source": [
    "# TAG = \"pku\"\n",
    "TAG = \"kscans\"\n",
    "babies = glob.glob(f\"../analysis/studies/vbswh/output_{TAG}/Run2/*.root\")\n",
    "babies = [baby for baby in babies if \"Lambda\" not in baby]\n",
    "data_babies = [baby for baby in babies if \"data\" in baby]\n",
    "sig_babies = [baby for baby in babies if \"VBSWH_mkW\" in baby]\n",
    "bkg_babies = list(set(babies) - set(data_babies + sig_babies))\n",
    "print(data_babies)\n",
    "print(sig_babies)\n",
    "bkg_babies"
   ]
  },
  {
   "cell_type": "code",
   "execution_count": 3,
   "id": "68a7a331",
   "metadata": {},
   "outputs": [
    {
     "name": "stderr",
     "output_type": "stream",
     "text": [
      "Loading sig babies: 100%|████████████████████████████████████████████████████████████████████████████████████████████████████████████████████████████████████████████████████████████████████████████████████████████████████████████████████████████████████| 1/1 [00:00<00:00,  2.64it/s]\n",
      "Loading bkg babies: 100%|████████████████████████████████████████████████████████████████████████████████████████████████████████████████████████████████████████████████████████████████████████████████████████████████████████████████████████████████████| 9/9 [00:38<00:00,  4.33s/it]\n",
      "Loading data babies: 100%|███████████████████████████████████████████████████████████████████████████████████████████████████████████████████████████████████████████████████████████████████████████████████████████████████████████████████████████████████| 1/1 [00:01<00:00,  1.15s/it]\n"
     ]
    }
   ],
   "source": [
    "vbswh = Extrapolation(\n",
    "    sig_root_files=sig_babies,\n",
    "    bkg_root_files=bkg_babies,\n",
    "    data_root_files=data_babies,\n",
    "    ttree_name=\"tree\",\n",
    "    weight_columns=[\n",
    "        \"xsec_sf\", \"lep_id_sf\", \"ewkfix_sf\", \n",
    "        \"elec_reco_sf\", \"muon_iso_sf\", \n",
    "        \"btag_sf\", \"pu_sf\", \"prefire_sf\", \"trig_sf\",\n",
    "        \"xbb_sf\" # applied only because Xbb > 0.9 applied everywhere for ABCD\n",
    "    ],\n",
    "    reweight_column=\"reweights\",\n",
    "    plots_dir=f\"/home/users/jguiang/public_html/onelep_plots/{TAG}/val\"\n",
    ")\n",
    "vbswh.df[\"presel_noVBS_noBVeto\"] = vbswh.df.eval(\n",
    "    \"hbbjet_score > 0.3\"\n",
    ")\n",
    "vbswh.df[\"presel_noVBS\"] = vbswh.df.eval(\n",
    "    \"passes_bveto and hbbjet_score > 0.3\"\n",
    ")\n",
    "vbswh.df[\"presel_noDetaJJ\"] = vbswh.df.eval(\n",
    "    \"passes_bveto and M_jj > 500 and hbbjet_score > 0.3\"\n",
    ")\n",
    "vbswh.df[\"presel\"] = vbswh.df.eval(\n",
    "    \"passes_bveto and M_jj > 500 and abs(deta_jj) > 3 and hbbjet_score > 0.3\"\n",
    ")\n",
    "\n",
    "ORIG_EVENT_WEIGHT = vbswh.df.event_weight.values.copy()"
   ]
  },
  {
   "cell_type": "code",
   "execution_count": 4,
   "id": "2028f9ca",
   "metadata": {},
   "outputs": [],
   "source": [
    "SRlike  = \"presel_noDetaJJ and M_jj > 600 and ST > 900 and hbbjet_score > 0.9\"\n",
    "regionA = f\"{SRlike} and abs(deta_jj) > 4 and hbbjet_msoftdrop >= 150\"\n",
    "regionB = f\"{SRlike} and abs(deta_jj) <= 4 and hbbjet_msoftdrop >= 150\"\n",
    "regionC = f\"{SRlike} and abs(deta_jj) <= 4 and hbbjet_msoftdrop < 150\"\n",
    "regionD = f\"{SRlike} and abs(deta_jj) > 4 and hbbjet_msoftdrop < 150\"\n",
    "AN_numbers = {\n",
    "    \"PredBkg\": 0,\n",
    "    \"PredBkgStatErr\": 0,\n",
    "    \"PredBkgSystErr\": 0,\n",
    "    \"ExpSig\": round(vbswh.sig_count(selection=regionD)),\n",
    "    \"ExpSigStatErr\": round(vbswh.sig_error(selection=regionD), 1),\n",
    "    \"ExpSigSystErr\": 0,\n",
    "    \"ExpBkg\": round(vbswh.bkg_count(selection=regionD)),\n",
    "    \"BkgEstABMC\": 0,\n",
    "    \"BkgEstABMCErr\": 0,\n",
    "    \"BkgEstABData\": 0,\n",
    "    \"BkgEstABDataErr\": 0,\n",
    "    \"PredBkgMC\": 0,\n",
    "    \"BkgEstMethodSystErr\": 0,\n",
    "    \"BkgEstBkgCompSystErr\": 0,\n",
    "    \"BkgEstTotalSystErr\": 0,\n",
    "    \"BkgEstStatErr\": 0,\n",
    "    \"BkgEstWJetsUpABMC\": 0,\n",
    "    \"BkgEstWJetsUpABMCErr\": 0,\n",
    "    \"BkgEstWJetsDownABMC\": 0,\n",
    "    \"BkgEstWJetsDownABMCErr\": 0,\n",
    "    \"BkgEstWJetsCompSyst\": 0,\n",
    "    \"BkgEstBosonsUpABMC\": 0,\n",
    "    \"BkgEstBosonsUpABMCErr\": 0,\n",
    "    \"BkgEstBosonsDownABMC\": 0,\n",
    "    \"BkgEstBosonsDownABMCErr\": 0,\n",
    "    \"BkgEstBosonsCompSyst\": 0,\n",
    "    \"SRTwoPredBkg\": 0,\n",
    "    \"SRTwoPredBkgStatErr\": 0,\n",
    "    \"SRTwoPredBkgSystErr\": 0,\n",
    "    \"SRTwoExpSig\": 0,\n",
    "    \"SRTwoExpSigStatErr\": 0,\n",
    "    \"SRTwoExpSigSystErr\": 0,\n",
    "}"
   ]
  },
  {
   "cell_type": "code",
   "execution_count": 5,
   "id": "f0f71384",
   "metadata": {},
   "outputs": [
    {
     "name": "stdout",
     "output_type": "stream",
     "text": [
      "cut,region,bkg_wgt,bkg_err,sig_wgt,sig_err,data,data_err\n",
      "presel_noDetaJJ and M_jj > 600 and ST > 900 and hbbjet_score > 0.9 and abs(deta_jj) > 4 and (not (hbbjet_msoftdrop < 150)),A,186.50176049483372,3.4065824779873086,12.568182456706838,1.5489432782437886,148,12.165525060596439\n",
      "presel_noDetaJJ and M_jj > 600 and ST > 900 and hbbjet_score > 0.9 and (not (abs(deta_jj) > 4)) and (not (hbbjet_msoftdrop < 150)),B,241.6673538568511,5.854033430391243,0.9358281716332852,0.4245276027409975,199,14.106735979665885\n",
      "presel_noDetaJJ and M_jj > 600 and ST > 900 and hbbjet_score > 0.9 and (not (abs(deta_jj) > 4)) and hbbjet_msoftdrop < 150,C,183.41844058171293,4.531383787449446,16.34544715690842,1.7948482186077253,172,13.114877048604\n",
      "presel_noDetaJJ and M_jj > 600 and ST > 900 and hbbjet_score > 0.9 and abs(deta_jj) > 4 and hbbjet_msoftdrop < 150,D,136.55738310058857,4.235047777507667,413.3360243909275,8.90573577705255,BLINDED,BLINDED\n",
      "\n",
      "name,extp,rel_err\n",
      "BtoA_MC,0.7717292282899987,0.03033832680150509\n",
      "BtoA_data,0.7437185929648241,0.1085443797941536\n"
     ]
    }
   ],
   "source": [
    "pred, stat, syst = vbswh.ABCD( \n",
    "    \"abs(deta_jj) > 4\",\n",
    "    \"hbbjet_msoftdrop < 150\",\n",
    "    \"presel_noDetaJJ and M_jj > 600 and ST > 900 and hbbjet_score > 0.9\",\n",
    "    h_dir=\"left\", v_dir=\"up\", \n",
    "    show_data=True\n",
    ")\n",
    "AN_numbers[\"PredBkg\"] = round(pred)\n",
    "AN_numbers[\"PredBkgStatErr\"] = round(pred*stat, 1)\n",
    "AN_numbers[\"PredBkgSystErr\"] = round(pred*syst, 1)\n",
    "A_bkg_wgt = vbswh.bkg_count(selection=regionA)\n",
    "A_bkg_err = vbswh.bkg_error(selection=regionA)\n",
    "B_bkg_wgt = vbswh.bkg_count(selection=regionB)\n",
    "B_bkg_err = vbswh.bkg_error(selection=regionB)\n",
    "AN_numbers[\"PredBkgMC\"] = round(A_bkg_wgt/B_bkg_wgt*vbswh.bkg_count(selection=regionC), 1)\n",
    "AN_numbers[\"BkgEstABMC\"] = A_bkg_wgt/B_bkg_wgt\n",
    "AN_numbers[\"BkgEstABMCErr\"] = round(np.sqrt((B_bkg_err/B_bkg_wgt)**2 + (A_bkg_err/A_bkg_wgt)**2)*100, 1)\n",
    "AN_numbers[\"BkgEstMethodSystErr\"] = syst*100\n",
    "AN_numbers[\"BkgEstStatErr\"] = stat*100\n",
    "A_data     = vbswh.data_count(selection=regionA)\n",
    "A_data_err = vbswh.data_error(selection=regionA)\n",
    "B_data     = vbswh.data_count(selection=regionB)\n",
    "B_data_err = vbswh.data_error(selection=regionB)\n",
    "AN_numbers[\"BkgEstABData\"] = A_data/B_data\n",
    "AN_numbers[\"BkgEstABDataErr\"] = round(np.sqrt((B_data_err/B_data)**2 + (A_data_err/A_data)**2)*100, 1)"
   ]
  },
  {
   "cell_type": "code",
   "execution_count": 6,
   "id": "eb678e05",
   "metadata": {},
   "outputs": [
    {
     "name": "stdout",
     "output_type": "stream",
     "text": [
      "cut,region,bkg_wgt,bkg_err,sig_wgt,sig_err,data,data_err\n",
      "presel_noDetaJJ and M_jj > 600 and ST > 900 and hbbjet_score > 0.9 and abs(deta_jj) > 4 and (not (hbbjet_msoftdrop < 150)),A,198.82469600720674,3.64613876487425,12.568182456706838,1.5489432782437886,148,12.165525060596439\n",
      "presel_noDetaJJ and M_jj > 600 and ST > 900 and hbbjet_score > 0.9 and (not (abs(deta_jj) > 4)) and (not (hbbjet_msoftdrop < 150)),B,272.47373312441835,6.0061801157638675,0.9358281716332852,0.4245276027409975,199,14.106735979665885\n",
      "presel_noDetaJJ and M_jj > 600 and ST > 900 and hbbjet_score > 0.9 and (not (abs(deta_jj) > 4)) and hbbjet_msoftdrop < 150,C,226.5390184849875,4.84509125434271,16.34544715690842,1.7948482186077253,172,13.114877048604\n",
      "presel_noDetaJJ and M_jj > 600 and ST > 900 and hbbjet_score > 0.9 and abs(deta_jj) > 4 and hbbjet_msoftdrop < 150,D,160.6099222951183,4.896435052340458,413.3360243909275,8.90573577705255,BLINDED,BLINDED\n",
      "\n",
      "name,extp,rel_err\n",
      "BtoA_MC,0.7297022495611288,0.02867402488778965\n",
      "BtoA_data,0.7437185929648241,0.1085443797941536\n",
      "\n",
      "cut,region,bkg_wgt,bkg_err,sig_wgt,sig_err,data,data_err\n",
      "presel_noDetaJJ and M_jj > 600 and ST > 900 and hbbjet_score > 0.9 and abs(deta_jj) > 4 and (not (hbbjet_msoftdrop < 150)),A,180.34029273864718,3.344013045875122,12.568182456706838,1.5489432782437886,148,12.165525060596439\n",
      "presel_noDetaJJ and M_jj > 600 and ST > 900 and hbbjet_score > 0.9 and (not (abs(deta_jj) > 4)) and (not (hbbjet_msoftdrop < 150)),B,226.2641642230675,5.815374825359369,0.9358281716332852,0.4245276027409975,199,14.106735979665885\n",
      "presel_noDetaJJ and M_jj > 600 and ST > 900 and hbbjet_score > 0.9 and (not (abs(deta_jj) > 4)) and hbbjet_msoftdrop < 150,C,161.8581516300756,4.449502384618144,16.34544715690842,1.7948482186077253,172,13.114877048604\n",
      "presel_noDetaJJ and M_jj > 600 and ST > 900 and hbbjet_score > 0.9 and abs(deta_jj) > 4 and hbbjet_msoftdrop < 150,D,124.53111350332371,4.05287157972822,413.3360243909275,8.90573577705255,BLINDED,BLINDED\n",
      "\n",
      "name,extp,rel_err\n",
      "BtoA_MC,0.7970342690274839,0.03169247363587748\n",
      "BtoA_data,0.7437185929648241,0.1085443797941536\n"
     ]
    }
   ],
   "source": [
    "vbswh.df.loc[vbswh.df.name == \"WJets\", \"event_weight\"] *= 2\n",
    "vbswh.ABCD( \n",
    "    \"abs(deta_jj) > 4\",\n",
    "    \"hbbjet_msoftdrop < 150\",\n",
    "    \"presel_noDetaJJ and M_jj > 600 and ST > 900 and hbbjet_score > 0.9\",\n",
    "    h_dir=\"left\", v_dir=\"up\", \n",
    "    show_data=True\n",
    ")\n",
    "A_bkg_wgt = vbswh.bkg_count(selection=regionA)\n",
    "A_bkg_err = vbswh.bkg_error(selection=regionA)\n",
    "B_bkg_wgt = vbswh.bkg_count(selection=regionB)\n",
    "B_bkg_err = vbswh.bkg_error(selection=regionB)\n",
    "AN_numbers[\"BkgEstWJetsUpABMC\"] = A_bkg_wgt/B_bkg_wgt\n",
    "AN_numbers[\"BkgEstWJetsUpABMCErr\"] = round(np.sqrt((B_bkg_err/B_bkg_wgt)**2 + (A_bkg_err/A_bkg_wgt)**2)*100, 1)\n",
    "\n",
    "vbswh.df.event_weight = ORIG_EVENT_WEIGHT.copy()\n",
    "print(\"\")\n",
    "\n",
    "vbswh.df.loc[vbswh.df.name == \"WJets\", \"event_weight\"] *= 0.5\n",
    "vbswh.ABCD( \n",
    "    \"abs(deta_jj) > 4\",\n",
    "    \"hbbjet_msoftdrop < 150\",\n",
    "    \"presel_noDetaJJ and M_jj > 600 and ST > 900 and hbbjet_score > 0.9\",\n",
    "    h_dir=\"left\", v_dir=\"up\", \n",
    "    show_data=True\n",
    ")\n",
    "A_bkg_wgt = vbswh.bkg_count(selection=regionA)\n",
    "A_bkg_err = vbswh.bkg_error(selection=regionA)\n",
    "B_bkg_wgt = vbswh.bkg_count(selection=regionB)\n",
    "B_bkg_err = vbswh.bkg_error(selection=regionB)\n",
    "AN_numbers[\"BkgEstWJetsDownABMC\"] = A_bkg_wgt/B_bkg_wgt\n",
    "AN_numbers[\"BkgEstWJetsDownABMCErr\"] = round(np.sqrt((B_bkg_err/B_bkg_wgt)**2 + (A_bkg_err/A_bkg_wgt)**2)*100, 1)\n",
    "AN_numbers[\"BkgEstWJetsCompSyst\"] = 100*max(\n",
    "    abs(1 - AN_numbers[\"BkgEstWJetsUpABMC\"]/AN_numbers[\"BkgEstABMC\"]),\n",
    "    abs(1 - AN_numbers[\"BkgEstWJetsDownABMC\"]/AN_numbers[\"BkgEstABMC\"])\n",
    ")\n",
    "\n",
    "vbswh.df.event_weight = ORIG_EVENT_WEIGHT.copy()"
   ]
  },
  {
   "cell_type": "code",
   "execution_count": 7,
   "id": "79ab83f6",
   "metadata": {},
   "outputs": [
    {
     "name": "stdout",
     "output_type": "stream",
     "text": [
      "cut,region,bkg_wgt,bkg_err,sig_wgt,sig_err,data,data_err\n",
      "presel_noDetaJJ and M_jj > 600 and ST > 900 and hbbjet_score > 0.9 and abs(deta_jj) > 4 and (not (hbbjet_msoftdrop < 150)),A,187.57767068077456,3.6149805281362957,12.568182456706838,1.5489432782437886,148,12.165525060596439\n",
      "presel_noDetaJJ and M_jj > 600 and ST > 900 and hbbjet_score > 0.9 and (not (abs(deta_jj) > 4)) and (not (hbbjet_msoftdrop < 150)),B,249.66143723028875,10.053235201993042,0.9358281716332852,0.4245276027409975,199,14.106735979665885\n",
      "presel_noDetaJJ and M_jj > 600 and ST > 900 and hbbjet_score > 0.9 and (not (abs(deta_jj) > 4)) and hbbjet_msoftdrop < 150,C,204.89057389037592,7.431089786991426,16.34544715690842,1.7948482186077253,172,13.114877048604\n",
      "presel_noDetaJJ and M_jj > 600 and ST > 900 and hbbjet_score > 0.9 and abs(deta_jj) > 4 and hbbjet_msoftdrop < 150,D,144.45612227695597,6.741645631137145,413.3360243909275,8.90573577705255,BLINDED,BLINDED\n",
      "\n",
      "name,extp,rel_err\n",
      "BtoA_MC,0.7513281697074913,0.04464163991341533\n",
      "BtoA_data,0.7437185929648241,0.1085443797941536\n",
      "\n",
      "cut,region,bkg_wgt,bkg_err,sig_wgt,sig_err,data,data_err\n",
      "presel_noDetaJJ and M_jj > 600 and ST > 900 and hbbjet_score > 0.9 and abs(deta_jj) > 4 and (not (hbbjet_msoftdrop < 150)),A,185.96380540186328,3.352459421001475,12.568182456706838,1.5489432782437886,148,12.165525060596439\n",
      "presel_noDetaJJ and M_jj > 600 and ST > 900 and hbbjet_score > 0.9 and (not (abs(deta_jj) > 4)) and (not (hbbjet_msoftdrop < 150)),B,237.67031217013226,4.191688174056463,0.9358281716332852,0.4245276027409975,199,14.106735979665885\n",
      "presel_noDetaJJ and M_jj > 600 and ST > 900 and hbbjet_score > 0.9 and (not (abs(deta_jj) > 4)) and hbbjet_msoftdrop < 150,C,172.6823739273814,3.4440564645295155,16.34544715690842,1.7948482186077253,172,13.114877048604\n",
      "presel_noDetaJJ and M_jj > 600 and ST > 900 and hbbjet_score > 0.9 and abs(deta_jj) > 4 and hbbjet_msoftdrop < 150,D,132.60801351240488,3.3252203901783934,413.3360243909275,8.90573577705255,BLINDED,BLINDED\n",
      "\n",
      "name,extp,rel_err\n",
      "BtoA_MC,0.7824444025164752,0.025219806169690696\n",
      "BtoA_data,0.7437185929648241,0.1085443797941536\n"
     ]
    }
   ],
   "source": [
    "vbswh.df.loc[vbswh.df.name == \"Bosons\", \"event_weight\"] *= 2\n",
    "vbswh.ABCD( \n",
    "    \"abs(deta_jj) > 4\",\n",
    "    \"hbbjet_msoftdrop < 150\",\n",
    "    \"presel_noDetaJJ and M_jj > 600 and ST > 900 and hbbjet_score > 0.9\",\n",
    "    h_dir=\"left\", v_dir=\"up\", \n",
    "    show_data=True\n",
    ")\n",
    "A_bkg_wgt = vbswh.bkg_count(selection=regionA)\n",
    "A_bkg_err = vbswh.bkg_error(selection=regionA)\n",
    "B_bkg_wgt = vbswh.bkg_count(selection=regionB)\n",
    "B_bkg_err = vbswh.bkg_error(selection=regionB)\n",
    "AN_numbers[\"BkgEstBosonsUpABMC\"] = A_bkg_wgt/B_bkg_wgt\n",
    "AN_numbers[\"BkgEstBosonsUpABMCErr\"] = round(np.sqrt((B_bkg_err/B_bkg_wgt)**2 + (A_bkg_err/A_bkg_wgt)**2)*100, 1)\n",
    "\n",
    "vbswh.df.event_weight = ORIG_EVENT_WEIGHT.copy()\n",
    "print(\"\")\n",
    "\n",
    "vbswh.df.loc[vbswh.df.name == \"Bosons\", \"event_weight\"] *= 0.5\n",
    "vbswh.ABCD( \n",
    "    \"abs(deta_jj) > 4\",\n",
    "    \"hbbjet_msoftdrop < 150\",\n",
    "    \"presel_noDetaJJ and M_jj > 600 and ST > 900 and hbbjet_score > 0.9\",\n",
    "    h_dir=\"left\", v_dir=\"up\", \n",
    "    show_data=True\n",
    ")\n",
    "A_bkg_wgt = vbswh.bkg_count(selection=regionA)\n",
    "A_bkg_err = vbswh.bkg_error(selection=regionA)\n",
    "B_bkg_wgt = vbswh.bkg_count(selection=regionB)\n",
    "B_bkg_err = vbswh.bkg_error(selection=regionB)\n",
    "AN_numbers[\"BkgEstBosonsDownABMC\"] = A_bkg_wgt/B_bkg_wgt\n",
    "AN_numbers[\"BkgEstBosonsDownABMCErr\"] = round(np.sqrt((B_bkg_err/B_bkg_wgt)**2 + (A_bkg_err/A_bkg_wgt)**2)*100, 1)\n",
    "AN_numbers[\"BkgEstBosonsCompSyst\"] = 100*max(\n",
    "    abs(1 - AN_numbers[\"BkgEstBosonsUpABMC\"]/AN_numbers[\"BkgEstABMC\"]),\n",
    "    abs(1 - AN_numbers[\"BkgEstBosonsDownABMC\"]/AN_numbers[\"BkgEstABMC\"])\n",
    ")\n",
    "\n",
    "vbswh.df.event_weight = ORIG_EVENT_WEIGHT.copy()"
   ]
  },
  {
   "cell_type": "code",
   "execution_count": 8,
   "id": "89fb1a68",
   "metadata": {},
   "outputs": [],
   "source": [
    "AN_numbers[\"BkgEstBkgCompSystErr\"] = np.sqrt(\n",
    "    AN_numbers[\"BkgEstWJetsCompSyst\"]**2 + AN_numbers[\"BkgEstBosonsCompSyst\"]**2\n",
    ")\n",
    "AN_numbers[\"BkgEstTotalSystErr\"] = np.sqrt(\n",
    "    AN_numbers[\"BkgEstMethodSystErr\"]**2 + AN_numbers[\"BkgEstBkgCompSystErr\"]**2\n",
    ")"
   ]
  },
  {
   "cell_type": "code",
   "execution_count": 9,
   "id": "34b54e07",
   "metadata": {},
   "outputs": [],
   "source": [
    "AN_numbers[\"BkgEstABMC\"] = round(AN_numbers[\"BkgEstABMC\"], 2)\n",
    "AN_numbers[\"BkgEstABData\"] = round(AN_numbers[\"BkgEstABData\"], 2)\n",
    "\n",
    "AN_numbers[\"BkgEstWJetsUpABMC\"] = round(AN_numbers[\"BkgEstWJetsUpABMC\"], 2)\n",
    "AN_numbers[\"BkgEstWJetsDownABMC\"] = round(AN_numbers[\"BkgEstWJetsDownABMC\"], 2)\n",
    "AN_numbers[\"BkgEstWJetsCompSyst\"] = round(AN_numbers[\"BkgEstWJetsCompSyst\"], 1)\n",
    "\n",
    "AN_numbers[\"BkgEstBosonsUpABMC\"] = round(AN_numbers[\"BkgEstBosonsUpABMC\"], 2)\n",
    "AN_numbers[\"BkgEstBosonsDownABMC\"] = round(AN_numbers[\"BkgEstBosonsDownABMC\"], 2)\n",
    "AN_numbers[\"BkgEstBosonsCompSyst\"] = round(AN_numbers[\"BkgEstBosonsCompSyst\"], 1)\n",
    "\n",
    "AN_numbers[\"BkgEstBkgCompSystErr\"] = round(AN_numbers[\"BkgEstBkgCompSystErr\"], 1)\n",
    "AN_numbers[\"BkgEstMethodSystErr\"] = round(AN_numbers[\"BkgEstMethodSystErr\"], 1)\n",
    "AN_numbers[\"BkgEstTotalSystErr\"] = round(AN_numbers[\"BkgEstTotalSystErr\"], 1)\n",
    "AN_numbers[\"BkgEstStatErr\"] = round(AN_numbers[\"BkgEstStatErr\"], 1)"
   ]
  },
  {
   "cell_type": "code",
   "execution_count": 10,
   "id": "7dedbec6",
   "metadata": {},
   "outputs": [
    {
     "data": {
      "text/plain": [
       "{'PredBkg': 128,\n",
       " 'PredBkgStatErr': 17.0,\n",
       " 'PredBkgSystErr': 4.7,\n",
       " 'ExpSig': 413,\n",
       " 'ExpSigStatErr': 8.9,\n",
       " 'ExpSigSystErr': 0,\n",
       " 'ExpBkg': 137,\n",
       " 'BkgEstABMC': 0.77,\n",
       " 'BkgEstABMCErr': 3.0,\n",
       " 'BkgEstABData': 0.74,\n",
       " 'BkgEstABDataErr': 10.9,\n",
       " 'PredBkgMC': 141.5,\n",
       " 'BkgEstMethodSystErr': 3.7,\n",
       " 'BkgEstBkgCompSystErr': 6.1,\n",
       " 'BkgEstTotalSystErr': 7.1,\n",
       " 'BkgEstStatErr': 13.3,\n",
       " 'BkgEstWJetsUpABMC': 0.73,\n",
       " 'BkgEstWJetsUpABMCErr': 2.9,\n",
       " 'BkgEstWJetsDownABMC': 0.8,\n",
       " 'BkgEstWJetsDownABMCErr': 3.2,\n",
       " 'BkgEstWJetsCompSyst': 5.4,\n",
       " 'BkgEstBosonsUpABMC': 0.75,\n",
       " 'BkgEstBosonsUpABMCErr': 4.5,\n",
       " 'BkgEstBosonsDownABMC': 0.78,\n",
       " 'BkgEstBosonsDownABMCErr': 2.5,\n",
       " 'BkgEstBosonsCompSyst': 2.6,\n",
       " 'SRTwoPredBkg': 0,\n",
       " 'SRTwoPredBkgStatErr': 0,\n",
       " 'SRTwoPredBkgSystErr': 0,\n",
       " 'SRTwoExpSig': 0,\n",
       " 'SRTwoExpSigStatErr': 0,\n",
       " 'SRTwoExpSigSystErr': 0}"
      ]
     },
     "execution_count": 10,
     "metadata": {},
     "output_type": "execute_result"
    }
   ],
   "source": [
    "with open(\"AN_numbers.json\", \"w\") as f_out:\n",
    "    json.dump(AN_numbers, f_out)\n",
    "\n",
    "AN_numbers # completely filled in vbswh-sys.ipynb"
   ]
  }
 ],
 "metadata": {
  "kernelspec": {
   "display_name": "Python 3 (ipykernel)",
   "language": "python",
   "name": "python3"
  },
  "language_info": {
   "codemirror_mode": {
    "name": "ipython",
    "version": 3
   },
   "file_extension": ".py",
   "mimetype": "text/x-python",
   "name": "python",
   "nbconvert_exporter": "python",
   "pygments_lexer": "ipython3",
   "version": "3.9.13"
  }
 },
 "nbformat": 4,
 "nbformat_minor": 5
}

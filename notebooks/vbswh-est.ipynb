{
 "cells": [
  {
   "cell_type": "code",
   "execution_count": 1,
   "id": "5bf0bf44",
   "metadata": {},
   "outputs": [],
   "source": [
    "import glob\n",
    "from utils.analysis import Extrapolation"
   ]
  },
  {
   "cell_type": "code",
   "execution_count": 2,
   "id": "36715425",
   "metadata": {},
   "outputs": [
    {
     "name": "stdout",
     "output_type": "stream",
     "text": [
      "['../analysis/studies/vbswh/output_pku/Run2/data.root']\n",
      "['../analysis/studies/vbswh/output_pku/Run2/VBSWH_mkW.root']\n"
     ]
    },
    {
     "data": {
      "text/plain": [
       "['../analysis/studies/vbswh/output_pku/Run2/EWKWLep.root',\n",
       " '../analysis/studies/vbswh/output_pku/Run2/Bosons.root',\n",
       " '../analysis/studies/vbswh/output_pku/Run2/TTbar1L.root',\n",
       " '../analysis/studies/vbswh/output_pku/Run2/WJets.root',\n",
       " '../analysis/studies/vbswh/output_pku/Run2/TTbar2L.root',\n",
       " '../analysis/studies/vbswh/output_pku/Run2/TTX.root',\n",
       " '../analysis/studies/vbswh/output_pku/Run2/VH.root',\n",
       " '../analysis/studies/vbswh/output_pku/Run2/SingleTop.root']"
      ]
     },
     "execution_count": 2,
     "metadata": {},
     "output_type": "execute_result"
    }
   ],
   "source": [
    "TAG = \"pku\"\n",
    "babies = glob.glob(f\"../analysis/studies/vbswh/output_{TAG}/Run2/*.root\")\n",
    "data_babies = [baby for baby in babies if \"data\" in baby]\n",
    "sig_babies = [baby for baby in babies if \"VBSWH_mkW\" in baby]\n",
    "bkg_babies = list(set(babies) - set(data_babies + sig_babies))\n",
    "print(data_babies)\n",
    "print(sig_babies)\n",
    "bkg_babies"
   ]
  },
  {
   "cell_type": "code",
   "execution_count": 3,
   "id": "68a7a331",
   "metadata": {},
   "outputs": [],
   "source": [
    "vbswh = Extrapolation(\n",
    "    sig_root_files=sig_babies,\n",
    "    bkg_root_files=bkg_babies,\n",
    "    data_root_files=data_babies,\n",
    "    ttree_name=\"tree\",\n",
    "    weight_columns=[\"xsec_sf\", \"lep_sf\", \"btag_sf\"],\n",
    "    plots_dir=f\"/home/users/jguiang/public_html/onelep_plots/{TAG}/val\"\n",
    ")\n",
    "vbswh.df[\"presel_noVBS_noBVeto\"] = vbswh.df.eval(\n",
    "    \"hbbjet_score > 0.3\"\n",
    ")\n",
    "vbswh.df[\"presel_noVBS\"] = vbswh.df.eval(\n",
    "    \"passes_bveto and hbbjet_score > 0.3\"\n",
    ")\n",
    "vbswh.df[\"presel_noDetaJJ\"] = vbswh.df.eval(\n",
    "    \"passes_bveto and M_jj > 500 and hbbjet_score > 0.3\"\n",
    ")\n",
    "vbswh.df[\"presel\"] = vbswh.df.eval(\n",
    "    \"passes_bveto and M_jj > 500 and abs(deta_jj) > 3 and hbbjet_score > 0.3\"\n",
    ")"
   ]
  },
  {
   "cell_type": "code",
   "execution_count": 4,
   "id": "f0f71384",
   "metadata": {},
   "outputs": [
    {
     "name": "stdout",
     "output_type": "stream",
     "text": [
      "cut,region,bkg_wgt,bkg_err,sig_wgt,sig_err,data,data_err\n",
      "presel_noDetaJJ and M_jj > 600 and ST > 900 and hbbjet_score > 0.9 and abs(deta_jj) > 4 and (not (hbbjet_msoftdrop < 150)),A,202.10857867741984,3.6103742602363678,11.230803607061898,1.3966806081207974,148,12.165525060596439\n",
      "presel_noDetaJJ and M_jj > 600 and ST > 900 and hbbjet_score > 0.9 and (not (abs(deta_jj) > 4)) and (not (hbbjet_msoftdrop < 150)),B,263.3382171032529,6.08436294502786,0.9246911028554529,0.45582975134082687,200,14.142135623730951\n",
      "presel_noDetaJJ and M_jj > 600 and ST > 900 and hbbjet_score > 0.9 and (not (abs(deta_jj) > 4)) and hbbjet_msoftdrop < 150,C,204.81192919775825,4.817905474605206,16.188206154606853,1.6879951206435762,181,13.45362404707371\n",
      "presel_noDetaJJ and M_jj > 600 and ST > 900 and hbbjet_score > 0.9 and abs(deta_jj) > 4 and hbbjet_msoftdrop < 150,D,140.29909364289,4.356119847562057,425.433362227746,8.888392997964642,BLINDED,BLINDED\n",
      "\n",
      "name,extp,rel_err\n",
      "AtoB,1.3029541785238123,0.02920505662163772\n",
      "BtoC,0.7777523955721667,0.03297252139536602\n",
      "CtoD,0.685014267442512,0.03895364425265714\n"
     ]
    }
   ],
   "source": [
    "vbswh.ABCD( \n",
    "    \"abs(deta_jj) > 4\",\n",
    "    \"hbbjet_msoftdrop < 150\",\n",
    "    \"presel_noDetaJJ and M_jj > 600 and ST > 900 and hbbjet_score > 0.9\",\n",
    "#     \"presel_noDetaJJ and M_jj > 600 and LT > 400 and ST > 900 and hbbjet_score > 0.9\",\n",
    "    h_dir=\"left\", v_dir=\"up\", \n",
    "#     show_raw=True,\n",
    "    show_data=True\n",
    ")"
   ]
  },
  {
   "cell_type": "code",
   "execution_count": 5,
   "id": "2929c496",
   "metadata": {},
   "outputs": [
    {
     "name": "stdout",
     "output_type": "stream",
     "text": [
      "WARNING: Region A is signal polluted, blinding this region\n",
      "WARNING: Region C is signal polluted, blinding this region\n",
      "cut,region,bkg_wgt,bkg_err,sig_wgt,sig_err,data,data_err\n",
      "presel_noDetaJJ and M_jj > 600 and ST > 1500 and hbbjet_score > 0.9 and abs(deta_jj) > 4 and (not (hbbjet_msoftdrop < 150)),A,9.496714295747807,0.985751744414441,2.630401572644729,0.66472704003939,BLINDED,BLINDED\n",
      "presel_noDetaJJ and M_jj > 600 and ST > 1500 and hbbjet_score > 0.9 and (not (abs(deta_jj) > 4)) and (not (hbbjet_msoftdrop < 150)),B,19.69456272647612,4.096366802192926,0.0,0.0,9,3.0\n",
      "presel_noDetaJJ and M_jj > 600 and ST > 1500 and hbbjet_score > 0.9 and (not (abs(deta_jj) > 4)) and hbbjet_msoftdrop < 150,C,12.567410931764416,1.336882682044473,3.94434888343905,0.8265752064164101,BLINDED,BLINDED\n",
      "presel_noDetaJJ and M_jj > 600 and ST > 1500 and hbbjet_score > 0.9 and abs(deta_jj) > 4 and hbbjet_msoftdrop < 150,D,6.582688826744839,1.379090062704561,120.43521728734709,4.770373319671058,BLINDED,BLINDED\n",
      "\n",
      "name,extp,rel_err\n",
      "AtoB,2.073829127964231,0.23245671203241278\n",
      "BtoC,0.6381157635386129,0.23361911971118532\n",
      "CtoD,0.52379037038623,0.23496248453997856\n"
     ]
    }
   ],
   "source": [
    "vbswh.ABCD( \n",
    "    \"abs(deta_jj) > 4\",\n",
    "    \"hbbjet_msoftdrop < 150\",\n",
    "    \"presel_noDetaJJ and M_jj > 600 and ST > 1500 and hbbjet_score > 0.9\",\n",
    "#     \"presel_noDetaJJ and M_jj > 600 and LT > 400 and ST > 1500 and hbbjet_score > 0.9\",\n",
    "    h_dir=\"left\", v_dir=\"up\", \n",
    "#     show_raw=True,\n",
    "    show_data=True\n",
    ")"
   ]
  },
  {
   "cell_type": "code",
   "execution_count": 6,
   "id": "eb678e05",
   "metadata": {},
   "outputs": [
    {
     "name": "stdout",
     "output_type": "stream",
     "text": [
      "cut,region,bkg_wgt,bkg_err,sig_wgt,sig_err,data,data_err\n",
      "presel_noDetaJJ and M_jj > 600 and ST > 900 and hbbjet_score > 0.9 and abs(deta_jj) > 4 and (not (hbbjet_msoftdrop < 150)),A,215.05965544042851,3.8488656601004028,11.230803607061898,1.3966806081207974,148,12.165525060596439\n",
      "presel_noDetaJJ and M_jj > 600 and ST > 900 and hbbjet_score > 0.9 and (not (abs(deta_jj) > 4)) and (not (hbbjet_msoftdrop < 150)),B,296.0422685547973,6.239641303962464,0.9246911028554529,0.45582975134082687,200,14.142135623730951\n",
      "presel_noDetaJJ and M_jj > 600 and ST > 900 and hbbjet_score > 0.9 and (not (abs(deta_jj) > 4)) and hbbjet_msoftdrop < 150,C,252.2708176136411,5.1522548553288505,16.188206154606853,1.6879951206435762,181,13.45362404707371\n",
      "presel_noDetaJJ and M_jj > 600 and ST > 900 and hbbjet_score > 0.9 and abs(deta_jj) > 4 and hbbjet_msoftdrop < 150,D,166.12133841634198,5.054924840478127,425.433362227746,8.888392997964642,BLINDED,BLINDED\n",
      "\n",
      "name,extp,rel_err\n",
      "AtoB,1.3765588340989459,0.027650083727433557\n",
      "BtoC,0.8521445901801886,0.029348827106079157\n",
      "CtoD,0.6585039838843384,0.036647653581875064\n",
      "\n",
      "cut,region,bkg_wgt,bkg_err,sig_wgt,sig_err,data,data_err\n",
      "presel_noDetaJJ and M_jj > 600 and ST > 900 and hbbjet_score > 0.9 and abs(deta_jj) > 4 and (not (hbbjet_msoftdrop < 150)),A,195.6330402959155,3.548247617676449,11.230803607061898,1.3966806081207974,148,12.165525060596439\n",
      "presel_noDetaJJ and M_jj > 600 and ST > 900 and hbbjet_score > 0.9 and (not (abs(deta_jj) > 4)) and (not (hbbjet_msoftdrop < 150)),B,246.98619137748062,6.044920153153929,0.9246911028554529,0.45582975134082687,200,14.142135623730951\n",
      "presel_noDetaJJ and M_jj > 600 and ST > 900 and hbbjet_score > 0.9 and (not (abs(deta_jj) > 4)) and hbbjet_msoftdrop < 150,C,181.08248498981683,4.730627223658993,16.188206154606853,1.6879951206435762,181,13.45362404707371\n",
      "presel_noDetaJJ and M_jj > 600 and ST > 900 and hbbjet_score > 0.9 and abs(deta_jj) > 4 and hbbjet_msoftdrop < 150,D,127.38797125616402,4.163130897796079,425.433362227746,8.888392997964642,BLINDED,BLINDED\n",
      "\n",
      "name,extp,rel_err\n",
      "AtoB,1.2624973317589303,0.03046264312533707\n",
      "BtoC,0.7331684576368075,0.03579782027212673\n",
      "CtoD,0.7034803573814865,0.04183899100689413\n"
     ]
    }
   ],
   "source": [
    "vbswh.df.loc[vbswh.df.name == \"WJets\", \"event_weight\"] *= 2\n",
    "vbswh.ABCD( \n",
    "    \"abs(deta_jj) > 4\",\n",
    "    \"hbbjet_msoftdrop < 150\",\n",
    "    \"presel_noDetaJJ and M_jj > 600 and ST > 900 and hbbjet_score > 0.9\",\n",
    "#     \"presel_noDetaJJ and M_jj > 600 and LT > 400 and ST > 900 and hbbjet_score > 0.9\",\n",
    "    h_dir=\"left\", v_dir=\"up\", \n",
    "#     show_raw=True,\n",
    "    show_data=True\n",
    ")\n",
    "\n",
    "vbswh.df.loc[vbswh.df.name == \"WJets\", \"event_weight\"] *= 0.5\n",
    "print(\"\")\n",
    "\n",
    "vbswh.df.loc[vbswh.df.name == \"WJets\", \"event_weight\"] *= 0.5\n",
    "vbswh.ABCD( \n",
    "    \"abs(deta_jj) > 4\",\n",
    "    \"hbbjet_msoftdrop < 150\",\n",
    "    \"presel_noDetaJJ and M_jj > 600 and ST > 900 and hbbjet_score > 0.9\",\n",
    "#     \"presel_noDetaJJ and M_jj > 600 and LT > 400 and ST > 900 and hbbjet_score > 0.9\",\n",
    "    h_dir=\"left\", v_dir=\"up\", \n",
    "#     show_raw=True,\n",
    "    show_data=True\n",
    ")"
   ]
  },
  {
   "cell_type": "code",
   "execution_count": null,
   "id": "dacdabcd",
   "metadata": {},
   "outputs": [],
   "source": []
  }
 ],
 "metadata": {
  "kernelspec": {
   "display_name": "Python 3 (ipykernel)",
   "language": "python",
   "name": "python3"
  },
  "language_info": {
   "codemirror_mode": {
    "name": "ipython",
    "version": 3
   },
   "file_extension": ".py",
   "mimetype": "text/x-python",
   "name": "python",
   "nbconvert_exporter": "python",
   "pygments_lexer": "ipython3",
   "version": "3.9.13"
  }
 },
 "nbformat": 4,
 "nbformat_minor": 5
}

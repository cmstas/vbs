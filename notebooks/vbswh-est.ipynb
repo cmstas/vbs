{
 "cells": [
  {
   "cell_type": "code",
   "execution_count": 1,
   "id": "5bf0bf44",
   "metadata": {},
   "outputs": [],
   "source": [
    "import glob\n",
    "from utils.analysis import Extrapolation"
   ]
  },
  {
   "cell_type": "code",
   "execution_count": 2,
   "id": "36715425",
   "metadata": {},
   "outputs": [
    {
     "name": "stdout",
     "output_type": "stream",
     "text": [
      "['../analysis/studies/vbswh/output_pku/Run2/data.root']\n",
      "['../analysis/studies/vbswh/output_pku/Run2/VBSWH_mkW.root']\n"
     ]
    },
    {
     "data": {
      "text/plain": [
       "['../analysis/studies/vbswh/output_pku/Run2/WJets.root',\n",
       " '../analysis/studies/vbswh/output_pku/Run2/EWKWLep.root',\n",
       " '../analysis/studies/vbswh/output_pku/Run2/TTX.root',\n",
       " '../analysis/studies/vbswh/output_pku/Run2/Bosons.root',\n",
       " '../analysis/studies/vbswh/output_pku/Run2/TTbar2L.root',\n",
       " '../analysis/studies/vbswh/output_pku/Run2/SingleTop.root',\n",
       " '../analysis/studies/vbswh/output_pku/Run2/VH.root',\n",
       " '../analysis/studies/vbswh/output_pku/Run2/TTbar1L.root']"
      ]
     },
     "execution_count": 2,
     "metadata": {},
     "output_type": "execute_result"
    }
   ],
   "source": [
    "TAG = \"pku\"\n",
    "babies = glob.glob(f\"../analysis/studies/vbswh/output_{TAG}/Run2/*.root\")\n",
    "data_babies = [baby for baby in babies if \"data\" in baby]\n",
    "sig_babies = [baby for baby in babies if \"VBSWH_mkW\" in baby]\n",
    "bkg_babies = list(set(babies) - set(data_babies + sig_babies))\n",
    "print(data_babies)\n",
    "print(sig_babies)\n",
    "bkg_babies"
   ]
  },
  {
   "cell_type": "code",
   "execution_count": 3,
   "id": "68a7a331",
   "metadata": {},
   "outputs": [
    {
     "name": "stderr",
     "output_type": "stream",
     "text": [
      "Loading sig babies: 100%|████████████████████████████████████████████████████████████████████████████████████████████████████████████████████████████████████████████████████████████████████████████████| 1/1 [00:00<00:00,  2.76it/s]\n",
      "Loading bkg babies: 100%|████████████████████████████████████████████████████████████████████████████████████████████████████████████████████████████████████████████████████████████████████████████████| 8/8 [00:29<00:00,  3.66s/it]\n",
      "Loading data babies: 100%|███████████████████████████████████████████████████████████████████████████████████████████████████████████████████████████████████████████████████████████████████████████████| 1/1 [00:01<00:00,  1.19s/it]\n"
     ]
    }
   ],
   "source": [
    "vbswh = Extrapolation(\n",
    "    sig_root_files=sig_babies,\n",
    "    bkg_root_files=bkg_babies,\n",
    "    data_root_files=data_babies,\n",
    "    ttree_name=\"tree\",\n",
    "    weight_columns=[\n",
    "        \"xsec_sf\", \"lep_id_sf\", \"elec_reco_sf\", \"muon_iso_sf\", \n",
    "        \"btag_sf\", \"pu_sf\", \"prefire_sf\", \"trig_sf\"\n",
    "    ],\n",
    "    plots_dir=f\"/home/users/jguiang/public_html/onelep_plots/{TAG}/val\"\n",
    ")\n",
    "vbswh.df[\"presel_noVBS_noBVeto\"] = vbswh.df.eval(\n",
    "    \"hbbjet_score > 0.3\"\n",
    ")\n",
    "vbswh.df[\"presel_noVBS\"] = vbswh.df.eval(\n",
    "    \"passes_bveto and hbbjet_score > 0.3\"\n",
    ")\n",
    "vbswh.df[\"presel_noDetaJJ\"] = vbswh.df.eval(\n",
    "    \"passes_bveto and M_jj > 500 and hbbjet_score > 0.3\"\n",
    ")\n",
    "vbswh.df[\"presel\"] = vbswh.df.eval(\n",
    "    \"passes_bveto and M_jj > 500 and abs(deta_jj) > 3 and hbbjet_score > 0.3\"\n",
    ")"
   ]
  },
  {
   "cell_type": "code",
   "execution_count": 4,
   "id": "f0f71384",
   "metadata": {},
   "outputs": [
    {
     "name": "stdout",
     "output_type": "stream",
     "text": [
      "cut,region,bkg_wgt,bkg_err,sig_wgt,sig_err,data,data_err\n",
      "presel_noDetaJJ and M_jj > 600 and ST > 900 and hbbjet_score > 0.9 and abs(deta_jj) > 4 and (not (hbbjet_msoftdrop < 150)),A,190.3782778440434,3.4755115093738826,10.085911672694348,1.3074765499057894,148,12.165525060596439\n",
      "presel_noDetaJJ and M_jj > 600 and ST > 900 and hbbjet_score > 0.9 and (not (abs(deta_jj) > 4)) and (not (hbbjet_msoftdrop < 150)),B,247.28131394309912,5.902043357451355,0.8942036641677474,0.43743234037268064,200,14.142135623730951\n",
      "presel_noDetaJJ and M_jj > 600 and ST > 900 and hbbjet_score > 0.9 and (not (abs(deta_jj) > 4)) and hbbjet_msoftdrop < 150,C,186.08351580171507,4.569764026092275,14.609793838496916,1.565042260872111,175,13.228756555322953\n",
      "presel_noDetaJJ and M_jj > 600 and ST > 900 and hbbjet_score > 0.9 and abs(deta_jj) > 4 and hbbjet_msoftdrop < 150,D,130.71028066470666,4.271186609164921,393.5290419056911,8.434121881951622,BLINDED,BLINDED\n",
      "\n",
      "name,extp,rel_err\n",
      "AtoB,1.2988945836860144,0.03004901718103003\n",
      "BtoC,0.7525174985301719,0.034245350952020255\n",
      "CtoD,0.70242804743644,0.040875974525328505\n"
     ]
    }
   ],
   "source": [
    "vbswh.ABCD( \n",
    "    \"abs(deta_jj) > 4\",\n",
    "    \"hbbjet_msoftdrop < 150\",\n",
    "    \"presel_noDetaJJ and M_jj > 600 and ST > 900 and hbbjet_score > 0.9\",\n",
    "#     \"presel_noDetaJJ and M_jj > 600 and LT > 400 and ST > 900 and hbbjet_score > 0.9\",\n",
    "    h_dir=\"left\", v_dir=\"up\", \n",
    "#     show_raw=True,\n",
    "    show_data=True\n",
    ")"
   ]
  },
  {
   "cell_type": "code",
   "execution_count": 5,
   "id": "2929c496",
   "metadata": {},
   "outputs": [
    {
     "name": "stdout",
     "output_type": "stream",
     "text": [
      "WARNING: Region A is signal polluted, blinding this region\n",
      "WARNING: Region C is signal polluted, blinding this region\n",
      "cut,region,bkg_wgt,bkg_err,sig_wgt,sig_err,data,data_err\n",
      "presel_noDetaJJ and M_jj > 600 and ST > 1500 and hbbjet_score > 0.9 and abs(deta_jj) > 4 and (not (hbbjet_msoftdrop < 150)),A,9.013904660083458,0.9561465942007488,2.3242513157526883,0.6191868265369841,BLINDED,BLINDED\n",
      "presel_noDetaJJ and M_jj > 600 and ST > 1500 and hbbjet_score > 0.9 and (not (abs(deta_jj) > 4)) and (not (hbbjet_msoftdrop < 150)),B,18.676956734430444,3.9892026320353797,0.0,0.0,9,3.0\n",
      "presel_noDetaJJ and M_jj > 600 and ST > 1500 and hbbjet_score > 0.9 and (not (abs(deta_jj) > 4)) and hbbjet_msoftdrop < 150,C,11.687424654201495,1.3361661060480508,3.4935710564344795,0.7378926693408709,BLINDED,BLINDED\n",
      "presel_noDetaJJ and M_jj > 600 and ST > 1500 and hbbjet_score > 0.9 and abs(deta_jj) > 4 and hbbjet_msoftdrop < 150,D,6.17581059009611,1.4513866924758507,112.02646875818817,4.532338703419458,BLINDED,BLINDED\n",
      "\n",
      "name,extp,rel_err\n",
      "AtoB,2.0720162281212233,0.2384791800994446\n",
      "BtoC,0.6257670786727292,0.24226168310699114\n",
      "CtoD,0.5284150078243266,0.26134392990275895\n"
     ]
    }
   ],
   "source": [
    "vbswh.ABCD( \n",
    "    \"abs(deta_jj) > 4\",\n",
    "    \"hbbjet_msoftdrop < 150\",\n",
    "    \"presel_noDetaJJ and M_jj > 600 and ST > 1500 and hbbjet_score > 0.9\",\n",
    "#     \"presel_noDetaJJ and M_jj > 600 and LT > 400 and ST > 1500 and hbbjet_score > 0.9\",\n",
    "    h_dir=\"left\", v_dir=\"up\", \n",
    "#     show_raw=True,\n",
    "    show_data=True\n",
    ")"
   ]
  },
  {
   "cell_type": "code",
   "execution_count": 6,
   "id": "eb678e05",
   "metadata": {},
   "outputs": [
    {
     "name": "stdout",
     "output_type": "stream",
     "text": [
      "cut,region,bkg_wgt,bkg_err,sig_wgt,sig_err,data,data_err\n",
      "presel_noDetaJJ and M_jj > 600 and ST > 900 and hbbjet_score > 0.9 and abs(deta_jj) > 4 and (not (hbbjet_msoftdrop < 150)),A,202.79078616421063,3.712187862108981,10.085911672694348,1.3074765499057894,148,12.165525060596439\n",
      "presel_noDetaJJ and M_jj > 600 and ST > 900 and hbbjet_score > 0.9 and (not (abs(deta_jj) > 4)) and (not (hbbjet_msoftdrop < 150)),B,278.2163093279004,6.053160403548995,0.8942036641677474,0.43743234037268064,200,14.142135623730951\n",
      "presel_noDetaJJ and M_jj > 600 and ST > 900 and hbbjet_score > 0.9 and (not (abs(deta_jj) > 4)) and hbbjet_msoftdrop < 150,C,229.29325258487154,4.881287544704813,14.609793838496916,1.565042260872111,175,13.228756555322953\n",
      "presel_noDetaJJ and M_jj > 600 and ST > 900 and hbbjet_score > 0.9 and abs(deta_jj) > 4 and hbbjet_msoftdrop < 150,D,154.9163623211776,4.931170793556183,393.5290419056911,8.434121881951622,BLINDED,BLINDED\n",
      "\n",
      "name,extp,rel_err\n",
      "AtoB,1.3719376239441847,0.028433428548417048\n",
      "BtoC,0.8241546052378652,0.030439521974904096\n",
      "CtoD,0.6756254733829824,0.03829386721861285\n",
      "\n",
      "cut,region,bkg_wgt,bkg_err,sig_wgt,sig_err,data,data_err\n",
      "presel_noDetaJJ and M_jj > 600 and ST > 900 and hbbjet_score > 0.9 and abs(deta_jj) > 4 and (not (hbbjet_msoftdrop < 150)),A,184.1720236839598,3.4137795233202444,10.085911672694348,1.3074765499057894,148,12.165525060596439\n",
      "presel_noDetaJJ and M_jj > 600 and ST > 900 and hbbjet_score > 0.9 and (not (abs(deta_jj) > 4)) and (not (hbbjet_msoftdrop < 150)),B,231.8138162506985,5.863655602418274,0.8942036641677474,0.43743234037268064,200,14.142135623730951\n",
      "presel_noDetaJJ and M_jj > 600 and ST > 900 and hbbjet_score > 0.9 and (not (abs(deta_jj) > 4)) and hbbjet_msoftdrop < 150,C,164.47864741013686,4.488506103837475,14.609793838496916,1.565042260872111,175,13.228756555322953\n",
      "presel_noDetaJJ and M_jj > 600 and ST > 900 and hbbjet_score > 0.9 and abs(deta_jj) > 4 and hbbjet_msoftdrop < 150,D,118.6072398364712,4.0895821869821605,393.5290419056911,8.434121881951622,BLINDED,BLINDED\n",
      "\n",
      "name,extp,rel_err\n",
      "AtoB,1.2586809419463854,0.03135916637114537\n",
      "BtoC,0.7095290956784861,0.03720922238013682\n",
      "CtoD,0.7211102577997088,0.043972475438372564\n"
     ]
    }
   ],
   "source": [
    "vbswh.df.loc[vbswh.df.name == \"WJets\", \"event_weight\"] *= 2\n",
    "vbswh.ABCD( \n",
    "    \"abs(deta_jj) > 4\",\n",
    "    \"hbbjet_msoftdrop < 150\",\n",
    "    \"presel_noDetaJJ and M_jj > 600 and ST > 900 and hbbjet_score > 0.9\",\n",
    "#     \"presel_noDetaJJ and M_jj > 600 and LT > 400 and ST > 900 and hbbjet_score > 0.9\",\n",
    "    h_dir=\"left\", v_dir=\"up\", \n",
    "#     show_raw=True,\n",
    "    show_data=True\n",
    ")\n",
    "\n",
    "vbswh.df.loc[vbswh.df.name == \"WJets\", \"event_weight\"] *= 0.5\n",
    "print(\"\")\n",
    "\n",
    "vbswh.df.loc[vbswh.df.name == \"WJets\", \"event_weight\"] *= 0.5\n",
    "vbswh.ABCD( \n",
    "    \"abs(deta_jj) > 4\",\n",
    "    \"hbbjet_msoftdrop < 150\",\n",
    "    \"presel_noDetaJJ and M_jj > 600 and ST > 900 and hbbjet_score > 0.9\",\n",
    "#     \"presel_noDetaJJ and M_jj > 600 and LT > 400 and ST > 900 and hbbjet_score > 0.9\",\n",
    "    h_dir=\"left\", v_dir=\"up\", \n",
    "#     show_raw=True,\n",
    "    show_data=True\n",
    ")"
   ]
  }
 ],
 "metadata": {
  "kernelspec": {
   "display_name": "Python 3 (ipykernel)",
   "language": "python",
   "name": "python3"
  },
  "language_info": {
   "codemirror_mode": {
    "name": "ipython",
    "version": 3
   },
   "file_extension": ".py",
   "mimetype": "text/x-python",
   "name": "python",
   "nbconvert_exporter": "python",
   "pygments_lexer": "ipython3",
   "version": "3.9.13"
  }
 },
 "nbformat": 4,
 "nbformat_minor": 5
}

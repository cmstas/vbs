{
 "cells": [
  {
   "cell_type": "code",
   "execution_count": 20,
   "id": "4abdfd00",
   "metadata": {},
   "outputs": [],
   "source": [
    "import uproot\n",
    "import glob\n",
    "import numpy as np"
   ]
  },
  {
   "cell_type": "code",
   "execution_count": 21,
   "id": "9c1e88aa",
   "metadata": {},
   "outputs": [
    {
     "data": {
      "text/plain": [
       "['output/test_Cutflow.cflow',\n",
       " 'output/manual_postskim_Cutflow.cflow',\n",
       " 'output/manual_postskim.root']"
      ]
     },
     "execution_count": 21,
     "metadata": {},
     "output_type": "execute_result"
    }
   ],
   "source": [
    "glob.glob(\"output/*\")"
   ]
  },
  {
   "cell_type": "code",
   "execution_count": 22,
   "id": "da8cfdea",
   "metadata": {},
   "outputs": [],
   "source": [
    "with uproot.open(\"output/manual_postskim.root\") as root_file:\n",
    "    rapido_events = root_file.get(\"tree\").get(\"event\").array(library=\"np\")\n",
    "    \n",
    "with uproot.open(\"/ceph/cms/store/user/jguiang/VBSVHSkim/1lep_1ak8_2ak4_postskim/TTTo2L2Nu_TuneCP5_13TeV-powheg-pythia8_RunIISummer20UL18NanoAODv9-106X_upgrade2018_realistic_v16_L1v1-v1_NANOAODSIM_1lep_1ak8_2ak4_postskim/output_1.root\") as root_file:\n",
    "    nanoaodtools_events = root_file.get(\"Events\").get(\"event\").array(library=\"np\")"
   ]
  },
  {
   "cell_type": "code",
   "execution_count": 23,
   "id": "b0acad87",
   "metadata": {},
   "outputs": [
    {
     "data": {
      "text/plain": [
       "array([ 78633123,  78633813,  78070217, ..., 130052332, 130052388,\n",
       "       130052757], dtype=int32)"
      ]
     },
     "execution_count": 23,
     "metadata": {},
     "output_type": "execute_result"
    }
   ],
   "source": [
    "rapido_events"
   ]
  },
  {
   "cell_type": "code",
   "execution_count": 24,
   "id": "a9bfa2ac",
   "metadata": {},
   "outputs": [
    {
     "data": {
      "text/plain": [
       "array([ 78633123,  78633813,  78070217, ..., 130052332, 130052388,\n",
       "       130052757], dtype=uint64)"
      ]
     },
     "execution_count": 24,
     "metadata": {},
     "output_type": "execute_result"
    }
   ],
   "source": [
    "nanoaodtools_events"
   ]
  },
  {
   "cell_type": "code",
   "execution_count": 30,
   "id": "5cb7dc5e",
   "metadata": {},
   "outputs": [
    {
     "data": {
      "text/plain": [
       "array([ 13932472,  47872923, 146988487, 105264637, 130851216,  38593547,\n",
       "       120579460,  63381761,  13272790,   8154638,  31418562,  19352114,\n",
       "        79175838,  78707236,  34087498,  41088806,  44095960,  61995283,\n",
       "        62478226, 100513352, 147427542,  34070105, 107802410,  87087771,\n",
       "        43347159, 138742686,  68564602,  93919191,  57600460, 118133133,\n",
       "       113422943, 147588651,  85496954,  52913903, 139297953, 140325884,\n",
       "        50749288, 130697046], dtype=int32)"
      ]
     },
     "execution_count": 30,
     "metadata": {},
     "output_type": "execute_result"
    }
   ],
   "source": [
    "rapido_events[~np.isin(rapido_events, nanoaodtools_events)]"
   ]
  },
  {
   "cell_type": "code",
   "execution_count": 28,
   "id": "af80bd15",
   "metadata": {},
   "outputs": [
    {
     "data": {
      "text/plain": [
       "array([130298786,  90477383, 112696064,  37734046,  38305474,  31526393,\n",
       "        10021439, 118900901,   2941052,  14543714,   1180118,  77619176,\n",
       "       112044232,  31685067,  53600390, 113255849,  74702852, 115514661,\n",
       "        11759130, 126632092,  64075356,  65957371,  54161067, 117859068,\n",
       "       141135518,   9108043, 121872410,  91185720,  17536806,  93731328,\n",
       "       135946749, 122616630], dtype=uint64)"
      ]
     },
     "execution_count": 28,
     "metadata": {},
     "output_type": "execute_result"
    }
   ],
   "source": [
    "nanoaodtools_events[~np.isin(nanoaodtools_events, rapido_events)]"
   ]
  }
 ],
 "metadata": {
  "kernelspec": {
   "display_name": "Python 3 (ipykernel)",
   "language": "python",
   "name": "python3"
  },
  "language_info": {
   "codemirror_mode": {
    "name": "ipython",
    "version": 3
   },
   "file_extension": ".py",
   "mimetype": "text/x-python",
   "name": "python",
   "nbconvert_exporter": "python",
   "pygments_lexer": "ipython3",
   "version": "3.9.12"
  }
 },
 "nbformat": 4,
 "nbformat_minor": 5
}

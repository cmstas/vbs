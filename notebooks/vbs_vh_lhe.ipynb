{
 "cells": [
  {
   "cell_type": "code",
   "execution_count": 1,
   "id": "b4fb5db5",
   "metadata": {},
   "outputs": [],
   "source": [
    "import uproot\n",
    "import pandas as pd\n",
    "import numpy as np\n",
    "from matplotlib import pyplot as plt"
   ]
  },
  {
   "cell_type": "code",
   "execution_count": 2,
   "id": "c3b0b374",
   "metadata": {},
   "outputs": [],
   "source": [
    "def smart_clip(np_array, bins):\n",
    "    clip_low = 0.5 * (bins[0] + bins[1])\n",
    "    clip_high = 0.5 * (bins[-2] + bins[-1])\n",
    "    return np.clip(np_array, clip_low, clip_high)"
   ]
  },
  {
   "cell_type": "code",
   "execution_count": 3,
   "id": "fbf2d3f2",
   "metadata": {},
   "outputs": [],
   "source": [
    "with uproot.open(\"sm_vbs_vh_flat.root\") as f:\n",
    "    sm_df = f.get(\"tree\").arrays(library=\"pd\")\n",
    "    \n",
    "with uproot.open(\"bsm_vbs_vh_flat.root\") as f:\n",
    "    bsm_df = f.get(\"tree\").arrays(library=\"pd\")"
   ]
  },
  {
   "cell_type": "code",
   "execution_count": 4,
   "id": "c4f34843",
   "metadata": {},
   "outputs": [
    {
     "data": {
      "text/html": [
       "<div>\n",
       "<style scoped>\n",
       "    .dataframe tbody tr th:only-of-type {\n",
       "        vertical-align: middle;\n",
       "    }\n",
       "\n",
       "    .dataframe tbody tr th {\n",
       "        vertical-align: top;\n",
       "    }\n",
       "\n",
       "    .dataframe thead th {\n",
       "        text-align: right;\n",
       "    }\n",
       "</style>\n",
       "<table border=\"1\" class=\"dataframe\">\n",
       "  <thead>\n",
       "    <tr style=\"text-align: right;\">\n",
       "      <th></th>\n",
       "      <th>H_pt</th>\n",
       "      <th>H_eta</th>\n",
       "      <th>H_phi</th>\n",
       "      <th>W_pt</th>\n",
       "      <th>W_eta</th>\n",
       "      <th>W_phi</th>\n",
       "      <th>W_sign</th>\n",
       "      <th>W_pol</th>\n",
       "      <th>M_WH</th>\n",
       "      <th>M_jj</th>\n",
       "      <th>deta_jj</th>\n",
       "    </tr>\n",
       "  </thead>\n",
       "  <tbody>\n",
       "    <tr>\n",
       "      <th>0</th>\n",
       "      <td>130.725555</td>\n",
       "      <td>0.178609</td>\n",
       "      <td>1.403863</td>\n",
       "      <td>18.008446</td>\n",
       "      <td>-1.927848</td>\n",
       "      <td>-1.560732</td>\n",
       "      <td>1</td>\n",
       "      <td>-1</td>\n",
       "      <td>258.618713</td>\n",
       "      <td>2994.475342</td>\n",
       "      <td>8.230290</td>\n",
       "    </tr>\n",
       "    <tr>\n",
       "      <th>1</th>\n",
       "      <td>72.409683</td>\n",
       "      <td>-1.068286</td>\n",
       "      <td>-1.303791</td>\n",
       "      <td>142.659012</td>\n",
       "      <td>-2.332175</td>\n",
       "      <td>0.994656</td>\n",
       "      <td>1</td>\n",
       "      <td>-1</td>\n",
       "      <td>396.029755</td>\n",
       "      <td>1470.663940</td>\n",
       "      <td>6.073298</td>\n",
       "    </tr>\n",
       "    <tr>\n",
       "      <th>2</th>\n",
       "      <td>89.357491</td>\n",
       "      <td>-2.379655</td>\n",
       "      <td>-1.048876</td>\n",
       "      <td>88.240166</td>\n",
       "      <td>3.153385</td>\n",
       "      <td>2.622477</td>\n",
       "      <td>1</td>\n",
       "      <td>-1</td>\n",
       "      <td>1437.271118</td>\n",
       "      <td>2682.294922</td>\n",
       "      <td>9.209255</td>\n",
       "    </tr>\n",
       "    <tr>\n",
       "      <th>3</th>\n",
       "      <td>81.317169</td>\n",
       "      <td>1.187198</td>\n",
       "      <td>-2.937124</td>\n",
       "      <td>96.706673</td>\n",
       "      <td>-0.964024</td>\n",
       "      <td>0.908986</td>\n",
       "      <td>1</td>\n",
       "      <td>1</td>\n",
       "      <td>352.140503</td>\n",
       "      <td>1992.493530</td>\n",
       "      <td>6.240210</td>\n",
       "    </tr>\n",
       "    <tr>\n",
       "      <th>4</th>\n",
       "      <td>85.269859</td>\n",
       "      <td>1.354480</td>\n",
       "      <td>1.285905</td>\n",
       "      <td>90.676117</td>\n",
       "      <td>-2.427304</td>\n",
       "      <td>-1.533884</td>\n",
       "      <td>-1</td>\n",
       "      <td>-1</td>\n",
       "      <td>648.265015</td>\n",
       "      <td>763.400330</td>\n",
       "      <td>5.943116</td>\n",
       "    </tr>\n",
       "    <tr>\n",
       "      <th>...</th>\n",
       "      <td>...</td>\n",
       "      <td>...</td>\n",
       "      <td>...</td>\n",
       "      <td>...</td>\n",
       "      <td>...</td>\n",
       "      <td>...</td>\n",
       "      <td>...</td>\n",
       "      <td>...</td>\n",
       "      <td>...</td>\n",
       "      <td>...</td>\n",
       "      <td>...</td>\n",
       "    </tr>\n",
       "    <tr>\n",
       "      <th>9995</th>\n",
       "      <td>142.149155</td>\n",
       "      <td>0.346713</td>\n",
       "      <td>-2.861176</td>\n",
       "      <td>100.401863</td>\n",
       "      <td>1.159456</td>\n",
       "      <td>-2.377518</td>\n",
       "      <td>-1</td>\n",
       "      <td>-1</td>\n",
       "      <td>240.906174</td>\n",
       "      <td>2464.219727</td>\n",
       "      <td>6.036813</td>\n",
       "    </tr>\n",
       "    <tr>\n",
       "      <th>9996</th>\n",
       "      <td>148.113449</td>\n",
       "      <td>2.435225</td>\n",
       "      <td>2.328235</td>\n",
       "      <td>97.243370</td>\n",
       "      <td>-0.520215</td>\n",
       "      <td>0.303669</td>\n",
       "      <td>-1</td>\n",
       "      <td>1</td>\n",
       "      <td>599.312500</td>\n",
       "      <td>1181.055420</td>\n",
       "      <td>5.606647</td>\n",
       "    </tr>\n",
       "    <tr>\n",
       "      <th>9997</th>\n",
       "      <td>73.614464</td>\n",
       "      <td>-1.038212</td>\n",
       "      <td>-0.889815</td>\n",
       "      <td>55.115143</td>\n",
       "      <td>-3.345140</td>\n",
       "      <td>1.474822</td>\n",
       "      <td>-1</td>\n",
       "      <td>0</td>\n",
       "      <td>394.092712</td>\n",
       "      <td>1304.652588</td>\n",
       "      <td>5.654776</td>\n",
       "    </tr>\n",
       "    <tr>\n",
       "      <th>9998</th>\n",
       "      <td>79.074196</td>\n",
       "      <td>3.581402</td>\n",
       "      <td>3.124953</td>\n",
       "      <td>83.536667</td>\n",
       "      <td>-0.062776</td>\n",
       "      <td>-0.612521</td>\n",
       "      <td>1</td>\n",
       "      <td>-1</td>\n",
       "      <td>615.772156</td>\n",
       "      <td>3526.729004</td>\n",
       "      <td>8.980013</td>\n",
       "    </tr>\n",
       "    <tr>\n",
       "      <th>9999</th>\n",
       "      <td>51.351418</td>\n",
       "      <td>-2.304488</td>\n",
       "      <td>-3.004845</td>\n",
       "      <td>133.378784</td>\n",
       "      <td>-1.214139</td>\n",
       "      <td>2.596588</td>\n",
       "      <td>-1</td>\n",
       "      <td>-1</td>\n",
       "      <td>235.590195</td>\n",
       "      <td>1893.383789</td>\n",
       "      <td>5.416308</td>\n",
       "    </tr>\n",
       "  </tbody>\n",
       "</table>\n",
       "<p>10000 rows × 11 columns</p>\n",
       "</div>"
      ],
      "text/plain": [
       "            H_pt     H_eta     H_phi        W_pt     W_eta     W_phi  W_sign  \\\n",
       "0     130.725555  0.178609  1.403863   18.008446 -1.927848 -1.560732       1   \n",
       "1      72.409683 -1.068286 -1.303791  142.659012 -2.332175  0.994656       1   \n",
       "2      89.357491 -2.379655 -1.048876   88.240166  3.153385  2.622477       1   \n",
       "3      81.317169  1.187198 -2.937124   96.706673 -0.964024  0.908986       1   \n",
       "4      85.269859  1.354480  1.285905   90.676117 -2.427304 -1.533884      -1   \n",
       "...          ...       ...       ...         ...       ...       ...     ...   \n",
       "9995  142.149155  0.346713 -2.861176  100.401863  1.159456 -2.377518      -1   \n",
       "9996  148.113449  2.435225  2.328235   97.243370 -0.520215  0.303669      -1   \n",
       "9997   73.614464 -1.038212 -0.889815   55.115143 -3.345140  1.474822      -1   \n",
       "9998   79.074196  3.581402  3.124953   83.536667 -0.062776 -0.612521       1   \n",
       "9999   51.351418 -2.304488 -3.004845  133.378784 -1.214139  2.596588      -1   \n",
       "\n",
       "      W_pol         M_WH         M_jj   deta_jj  \n",
       "0        -1   258.618713  2994.475342  8.230290  \n",
       "1        -1   396.029755  1470.663940  6.073298  \n",
       "2        -1  1437.271118  2682.294922  9.209255  \n",
       "3         1   352.140503  1992.493530  6.240210  \n",
       "4        -1   648.265015   763.400330  5.943116  \n",
       "...     ...          ...          ...       ...  \n",
       "9995     -1   240.906174  2464.219727  6.036813  \n",
       "9996      1   599.312500  1181.055420  5.606647  \n",
       "9997      0   394.092712  1304.652588  5.654776  \n",
       "9998     -1   615.772156  3526.729004  8.980013  \n",
       "9999     -1   235.590195  1893.383789  5.416308  \n",
       "\n",
       "[10000 rows x 11 columns]"
      ]
     },
     "execution_count": 4,
     "metadata": {},
     "output_type": "execute_result"
    }
   ],
   "source": [
    "sm_df"
   ]
  },
  {
   "cell_type": "code",
   "execution_count": 5,
   "id": "b3592f88",
   "metadata": {},
   "outputs": [
    {
     "data": {
      "text/html": [
       "<div>\n",
       "<style scoped>\n",
       "    .dataframe tbody tr th:only-of-type {\n",
       "        vertical-align: middle;\n",
       "    }\n",
       "\n",
       "    .dataframe tbody tr th {\n",
       "        vertical-align: top;\n",
       "    }\n",
       "\n",
       "    .dataframe thead th {\n",
       "        text-align: right;\n",
       "    }\n",
       "</style>\n",
       "<table border=\"1\" class=\"dataframe\">\n",
       "  <thead>\n",
       "    <tr style=\"text-align: right;\">\n",
       "      <th></th>\n",
       "      <th>H_pt</th>\n",
       "      <th>H_eta</th>\n",
       "      <th>H_phi</th>\n",
       "      <th>W_pt</th>\n",
       "      <th>W_eta</th>\n",
       "      <th>W_phi</th>\n",
       "      <th>W_sign</th>\n",
       "      <th>W_pol</th>\n",
       "      <th>M_WH</th>\n",
       "      <th>M_jj</th>\n",
       "      <th>deta_jj</th>\n",
       "    </tr>\n",
       "  </thead>\n",
       "  <tbody>\n",
       "    <tr>\n",
       "      <th>0</th>\n",
       "      <td>505.855286</td>\n",
       "      <td>-0.179584</td>\n",
       "      <td>-0.572943</td>\n",
       "      <td>408.459839</td>\n",
       "      <td>0.850542</td>\n",
       "      <td>2.661104</td>\n",
       "      <td>1</td>\n",
       "      <td>0</td>\n",
       "      <td>1053.146973</td>\n",
       "      <td>3948.544434</td>\n",
       "      <td>7.942479</td>\n",
       "    </tr>\n",
       "    <tr>\n",
       "      <th>1</th>\n",
       "      <td>683.338379</td>\n",
       "      <td>-2.012733</td>\n",
       "      <td>1.571146</td>\n",
       "      <td>755.067078</td>\n",
       "      <td>-0.687504</td>\n",
       "      <td>-1.606735</td>\n",
       "      <td>-1</td>\n",
       "      <td>0</td>\n",
       "      <td>1776.397827</td>\n",
       "      <td>1284.961182</td>\n",
       "      <td>6.649674</td>\n",
       "    </tr>\n",
       "    <tr>\n",
       "      <th>2</th>\n",
       "      <td>263.154968</td>\n",
       "      <td>1.171473</td>\n",
       "      <td>0.255401</td>\n",
       "      <td>423.557465</td>\n",
       "      <td>-0.322563</td>\n",
       "      <td>-2.480233</td>\n",
       "      <td>-1</td>\n",
       "      <td>0</td>\n",
       "      <td>877.565918</td>\n",
       "      <td>863.913757</td>\n",
       "      <td>3.891659</td>\n",
       "    </tr>\n",
       "    <tr>\n",
       "      <th>3</th>\n",
       "      <td>831.335083</td>\n",
       "      <td>-0.098657</td>\n",
       "      <td>-1.045038</td>\n",
       "      <td>765.875977</td>\n",
       "      <td>-0.080942</td>\n",
       "      <td>1.983017</td>\n",
       "      <td>1</td>\n",
       "      <td>0</td>\n",
       "      <td>1606.945557</td>\n",
       "      <td>1561.412964</td>\n",
       "      <td>6.624545</td>\n",
       "    </tr>\n",
       "    <tr>\n",
       "      <th>4</th>\n",
       "      <td>357.047821</td>\n",
       "      <td>-0.758119</td>\n",
       "      <td>2.112994</td>\n",
       "      <td>338.942749</td>\n",
       "      <td>-1.041222</td>\n",
       "      <td>-0.908925</td>\n",
       "      <td>1</td>\n",
       "      <td>0</td>\n",
       "      <td>733.328186</td>\n",
       "      <td>778.135986</td>\n",
       "      <td>5.855340</td>\n",
       "    </tr>\n",
       "    <tr>\n",
       "      <th>...</th>\n",
       "      <td>...</td>\n",
       "      <td>...</td>\n",
       "      <td>...</td>\n",
       "      <td>...</td>\n",
       "      <td>...</td>\n",
       "      <td>...</td>\n",
       "      <td>...</td>\n",
       "      <td>...</td>\n",
       "      <td>...</td>\n",
       "      <td>...</td>\n",
       "      <td>...</td>\n",
       "    </tr>\n",
       "    <tr>\n",
       "      <th>9995</th>\n",
       "      <td>441.870392</td>\n",
       "      <td>0.443947</td>\n",
       "      <td>-0.038431</td>\n",
       "      <td>515.853699</td>\n",
       "      <td>-1.324567</td>\n",
       "      <td>3.124361</td>\n",
       "      <td>1</td>\n",
       "      <td>0</td>\n",
       "      <td>1374.386719</td>\n",
       "      <td>1521.997437</td>\n",
       "      <td>6.423909</td>\n",
       "    </tr>\n",
       "    <tr>\n",
       "      <th>9996</th>\n",
       "      <td>104.618668</td>\n",
       "      <td>-0.429738</td>\n",
       "      <td>-1.707860</td>\n",
       "      <td>184.726669</td>\n",
       "      <td>-1.506172</td>\n",
       "      <td>0.424146</td>\n",
       "      <td>1</td>\n",
       "      <td>0</td>\n",
       "      <td>395.656982</td>\n",
       "      <td>799.681885</td>\n",
       "      <td>3.673652</td>\n",
       "    </tr>\n",
       "    <tr>\n",
       "      <th>9997</th>\n",
       "      <td>384.295685</td>\n",
       "      <td>-0.542127</td>\n",
       "      <td>-2.655235</td>\n",
       "      <td>510.856049</td>\n",
       "      <td>1.709318</td>\n",
       "      <td>0.124660</td>\n",
       "      <td>1</td>\n",
       "      <td>0</td>\n",
       "      <td>1525.734253</td>\n",
       "      <td>3000.605469</td>\n",
       "      <td>6.760788</td>\n",
       "    </tr>\n",
       "    <tr>\n",
       "      <th>9998</th>\n",
       "      <td>252.446289</td>\n",
       "      <td>-1.622833</td>\n",
       "      <td>1.686150</td>\n",
       "      <td>110.368629</td>\n",
       "      <td>1.938774</td>\n",
       "      <td>-1.542908</td>\n",
       "      <td>1</td>\n",
       "      <td>0</td>\n",
       "      <td>1039.169067</td>\n",
       "      <td>2678.720947</td>\n",
       "      <td>7.330162</td>\n",
       "    </tr>\n",
       "    <tr>\n",
       "      <th>9999</th>\n",
       "      <td>132.453964</td>\n",
       "      <td>-1.663502</td>\n",
       "      <td>-1.055652</td>\n",
       "      <td>233.933563</td>\n",
       "      <td>1.379187</td>\n",
       "      <td>2.714578</td>\n",
       "      <td>-1</td>\n",
       "      <td>0</td>\n",
       "      <td>865.388062</td>\n",
       "      <td>640.759705</td>\n",
       "      <td>4.355750</td>\n",
       "    </tr>\n",
       "  </tbody>\n",
       "</table>\n",
       "<p>10000 rows × 11 columns</p>\n",
       "</div>"
      ],
      "text/plain": [
       "            H_pt     H_eta     H_phi        W_pt     W_eta     W_phi  W_sign  \\\n",
       "0     505.855286 -0.179584 -0.572943  408.459839  0.850542  2.661104       1   \n",
       "1     683.338379 -2.012733  1.571146  755.067078 -0.687504 -1.606735      -1   \n",
       "2     263.154968  1.171473  0.255401  423.557465 -0.322563 -2.480233      -1   \n",
       "3     831.335083 -0.098657 -1.045038  765.875977 -0.080942  1.983017       1   \n",
       "4     357.047821 -0.758119  2.112994  338.942749 -1.041222 -0.908925       1   \n",
       "...          ...       ...       ...         ...       ...       ...     ...   \n",
       "9995  441.870392  0.443947 -0.038431  515.853699 -1.324567  3.124361       1   \n",
       "9996  104.618668 -0.429738 -1.707860  184.726669 -1.506172  0.424146       1   \n",
       "9997  384.295685 -0.542127 -2.655235  510.856049  1.709318  0.124660       1   \n",
       "9998  252.446289 -1.622833  1.686150  110.368629  1.938774 -1.542908       1   \n",
       "9999  132.453964 -1.663502 -1.055652  233.933563  1.379187  2.714578      -1   \n",
       "\n",
       "      W_pol         M_WH         M_jj   deta_jj  \n",
       "0         0  1053.146973  3948.544434  7.942479  \n",
       "1         0  1776.397827  1284.961182  6.649674  \n",
       "2         0   877.565918   863.913757  3.891659  \n",
       "3         0  1606.945557  1561.412964  6.624545  \n",
       "4         0   733.328186   778.135986  5.855340  \n",
       "...     ...          ...          ...       ...  \n",
       "9995      0  1374.386719  1521.997437  6.423909  \n",
       "9996      0   395.656982   799.681885  3.673652  \n",
       "9997      0  1525.734253  3000.605469  6.760788  \n",
       "9998      0  1039.169067  2678.720947  7.330162  \n",
       "9999      0   865.388062   640.759705  4.355750  \n",
       "\n",
       "[10000 rows x 11 columns]"
      ]
     },
     "execution_count": 5,
     "metadata": {},
     "output_type": "execute_result"
    }
   ],
   "source": [
    "bsm_df"
   ]
  },
  {
   "cell_type": "code",
   "execution_count": 6,
   "id": "3ea5f028",
   "metadata": {},
   "outputs": [
    {
     "data": {
      "text/plain": [
       "0.2982"
      ]
     },
     "execution_count": 6,
     "metadata": {},
     "output_type": "execute_result"
    }
   ],
   "source": [
    "np.sum(bsm_df.H_pt > 400)/np.sum(bsm_df.H_pt > 0)"
   ]
  },
  {
   "cell_type": "code",
   "execution_count": 7,
   "id": "6226ec1f",
   "metadata": {},
   "outputs": [
    {
     "data": {
      "image/png": "[encoded data removed]",
      "text/plain": [
       "<Figure size 864x576 with 1 Axes>"
      ]
     },
     "metadata": {
      "needs_background": "light"
     },
     "output_type": "display_data"
    }
   ],
   "source": [
    "fig, axes = plt.subplots(figsize=(12, 8))\n",
    "bins = np.linspace(0, 1000, 21)\n",
    "\n",
    "axes.hist(\n",
    "    smart_clip(sm_df[sm_df.H_pt > 400].W_pt, bins), \n",
    "    bins=bins,\n",
    "    label=\"SM\"\n",
    ");\n",
    "axes.hist(\n",
    "    smart_clip(bsm_df[bsm_df.H_pt > 400].W_pt, bins), \n",
    "    bins=bins, \n",
    "    histtype=\"step\",\n",
    "    label=\"BSM\"\n",
    ");\n",
    "axes.set_xlabel(\"$p_{T,W}$\", size=18);\n",
    "axes.set_ylabel(\"Counts\", size=18);\n",
    "axes.legend();"
   ]
  },
  {
   "cell_type": "code",
   "execution_count": 11,
   "id": "ee5f3dba",
   "metadata": {},
   "outputs": [
    {
     "data": {
      "image/png": "[encoded data removed]",
      "text/plain": [
       "<Figure size 864x576 with 1 Axes>"
      ]
     },
     "metadata": {
      "needs_background": "light"
     },
     "output_type": "display_data"
    }
   ],
   "source": [
    "fig, axes = plt.subplots(figsize=(12, 8))\n",
    "bins = np.linspace(0, 5000, 21)\n",
    "\n",
    "axes.hist(\n",
    "    smart_clip(sm_df[sm_df.H_pt > 400].M_WH, bins), \n",
    "    bins=bins,\n",
    "    label=\"SM\"\n",
    ");\n",
    "axes.hist(\n",
    "    smart_clip(bsm_df[bsm_df.H_pt > 400].M_WH, bins), \n",
    "    bins=bins, \n",
    "    histtype=\"step\",\n",
    "    label=\"BSM\"\n",
    ");\n",
    "axes.set_xlabel(\"$M_{WH}$\", size=18);\n",
    "axes.set_ylabel(\"Counts\", size=18);\n",
    "axes.legend();"
   ]
  },
  {
   "cell_type": "code",
   "execution_count": 6,
   "id": "5cf1836c",
   "metadata": {},
   "outputs": [
    {
     "data": {
      "image/png": "[encoded data removed]",
      "text/plain": [
       "<Figure size 864x576 with 1 Axes>"
      ]
     },
     "metadata": {
      "needs_background": "light"
     },
     "output_type": "display_data"
    }
   ],
   "source": [
    "fig, axes = plt.subplots(figsize=(12, 8))\n",
    "bins = np.linspace(0, 1000, 21)\n",
    "\n",
    "axes.hist(\n",
    "    smart_clip(sm_df.H_pt, bins), \n",
    "    bins=bins,\n",
    "    label=\"SM\"\n",
    ");\n",
    "axes.hist(\n",
    "    smart_clip(bsm_df.H_pt, bins), \n",
    "    bins=bins, \n",
    "    histtype=\"step\",\n",
    "    label=\"BSM\"\n",
    ");\n",
    "axes.set_xlabel(\"$p_{T,H}$\", size=18);\n",
    "axes.set_ylabel(\"Counts\", size=18);\n",
    "axes.legend();"
   ]
  },
  {
   "cell_type": "code",
   "execution_count": 7,
   "id": "15f640c5",
   "metadata": {},
   "outputs": [
    {
     "data": {
      "image/png": "[encoded data removed]",
      "text/plain": [
       "<Figure size 864x576 with 1 Axes>"
      ]
     },
     "metadata": {
      "needs_background": "light"
     },
     "output_type": "display_data"
    }
   ],
   "source": [
    "fig, axes = plt.subplots(figsize=(12, 8))\n",
    "bins = np.linspace(0, 1000, 21)\n",
    "\n",
    "axes.hist(\n",
    "    smart_clip(sm_df.W_pt, bins), \n",
    "    bins=bins,\n",
    "    label=\"SM\"\n",
    ");\n",
    "axes.hist(\n",
    "    smart_clip(bsm_df.W_pt, bins), \n",
    "    bins=bins, \n",
    "    histtype=\"step\",\n",
    "    label=\"BSM\"\n",
    ");\n",
    "axes.set_xlabel(\"$p_{T,W}$\", size=18);\n",
    "axes.set_ylabel(\"Counts\", size=18);\n",
    "axes.legend();"
   ]
  },
  {
   "cell_type": "code",
   "execution_count": 23,
   "id": "7b72cc4c",
   "metadata": {},
   "outputs": [
    {
     "data": {
      "image/png": "[encoded data removed]",
      "text/plain": [
       "<Figure size 864x576 with 1 Axes>"
      ]
     },
     "metadata": {
      "needs_background": "light"
     },
     "output_type": "display_data"
    }
   ],
   "source": [
    "fig, axes = plt.subplots(figsize=(12, 8))\n",
    "\n",
    "axes.hist(\n",
    "    np.sign(sm_df.W_sign),\n",
    "    bins=[-1, 0, 1, 2],\n",
    "    label=\"SM\"\n",
    ");\n",
    "axes.hist(\n",
    "    np.sign(bsm_df.W_sign),\n",
    "    bins=[-1, 0, 1, 2],\n",
    "    histtype=\"step\",\n",
    "    label=\"BSM\"\n",
    ");\n",
    "axes.set_xlabel(\"$sign(W)$\", size=18);\n",
    "axes.set_ylabel(\"Counts\", size=18);\n",
    "axes.set_xticks([-0.5, 1.5]);\n",
    "axes.set_xticklabels([-1, 1]);\n",
    "axes.legend();"
   ]
  },
  {
   "cell_type": "code",
   "execution_count": 25,
   "id": "4d118791",
   "metadata": {},
   "outputs": [
    {
     "data": {
      "image/png": "[encoded data removed]",
      "text/plain": [
       "<Figure size 864x576 with 1 Axes>"
      ]
     },
     "metadata": {
      "needs_background": "light"
     },
     "output_type": "display_data"
    }
   ],
   "source": [
    "fig, axes = plt.subplots(figsize=(12, 8))\n",
    "\n",
    "axes.hist(\n",
    "    np.sign(sm_df.W_pol),\n",
    "    bins=[-1, 0, 1, 2],\n",
    "    label=\"SM\"\n",
    ");\n",
    "axes.hist(\n",
    "    np.sign(bsm_df.W_pol),\n",
    "    bins=[-1, 0, 1, 2],\n",
    "    histtype=\"step\",\n",
    "    label=\"BSM\"\n",
    ");\n",
    "axes.set_xlabel(\"$polarization(W)$\", size=18);\n",
    "axes.set_ylabel(\"Counts\", size=18);\n",
    "axes.set_xticks([-0.5, 0.5, 1.5]);\n",
    "axes.set_xticklabels([-1, 0, 1]);\n",
    "axes.legend();"
   ]
  },
  {
   "cell_type": "code",
   "execution_count": 10,
   "id": "222729f9",
   "metadata": {},
   "outputs": [
    {
     "data": {
      "image/png": "[encoded data removed]",
      "text/plain": [
       "<Figure size 864x576 with 1 Axes>"
      ]
     },
     "metadata": {
      "needs_background": "light"
     },
     "output_type": "display_data"
    }
   ],
   "source": [
    "fig, axes = plt.subplots(figsize=(12, 8))\n",
    "bins = np.linspace(0, 10, 21)\n",
    "\n",
    "axes.hist(\n",
    "    smart_clip(sm_df.deta_jj, bins), \n",
    "    bins=bins,\n",
    "    label=\"SM\"\n",
    ");\n",
    "axes.hist(\n",
    "    smart_clip(bsm_df.deta_jj, bins), \n",
    "    bins=bins, \n",
    "    histtype=\"step\",\n",
    "    label=\"BSM\"\n",
    ");\n",
    "axes.set_xlabel(\"$|\\Delta\\eta_{jj}|$\", size=18);\n",
    "axes.set_ylabel(\"Counts\", size=18);\n",
    "axes.legend();"
   ]
  },
  {
   "cell_type": "code",
   "execution_count": 11,
   "id": "53e9380f",
   "metadata": {},
   "outputs": [
    {
     "data": {
      "image/png": "[encoded data removed]",
      "text/plain": [
       "<Figure size 864x576 with 1 Axes>"
      ]
     },
     "metadata": {
      "needs_background": "light"
     },
     "output_type": "display_data"
    }
   ],
   "source": [
    "fig, axes = plt.subplots(figsize=(12, 8))\n",
    "bins = np.linspace(0, 5000, 21)\n",
    "\n",
    "axes.hist(\n",
    "    smart_clip(sm_df.M_jj, bins), \n",
    "    bins=bins,\n",
    "    label=\"SM\"\n",
    ");\n",
    "axes.hist(\n",
    "    smart_clip(bsm_df.M_jj, bins), \n",
    "    bins=bins, \n",
    "    histtype=\"step\",\n",
    "    label=\"BSM\"\n",
    ");\n",
    "axes.set_xlabel(\"$M_{jj}$\", size=18);\n",
    "axes.set_ylabel(\"Counts\", size=18);\n",
    "axes.legend();"
   ]
  },
  {
   "cell_type": "code",
   "execution_count": 12,
   "id": "4f52c760",
   "metadata": {},
   "outputs": [
    {
     "data": {
      "image/png": "[encoded data removed]",
      "text/plain": [
       "<Figure size 864x576 with 1 Axes>"
      ]
     },
     "metadata": {
      "needs_background": "light"
     },
     "output_type": "display_data"
    }
   ],
   "source": [
    "fig, axes = plt.subplots(figsize=(12, 8))\n",
    "bins = np.linspace(0, 2500, 21)\n",
    "\n",
    "axes.hist(\n",
    "    smart_clip(sm_df.M_WH, bins), \n",
    "    bins=bins,\n",
    "    label=\"SM\"\n",
    ");\n",
    "axes.hist(\n",
    "    smart_clip(bsm_df.M_WH, bins), \n",
    "    bins=bins, \n",
    "    histtype=\"step\",\n",
    "    label=\"BSM\"\n",
    ");\n",
    "axes.set_xlabel(\"$M_{WH}$\", size=18);\n",
    "axes.set_ylabel(\"Counts\", size=18);\n",
    "axes.legend();"
   ]
  }
 ],
 "metadata": {
  "kernelspec": {
   "display_name": "Python 3 (ipykernel)",
   "language": "python",
   "name": "python3"
  },
  "language_info": {
   "codemirror_mode": {
    "name": "ipython",
    "version": 3
   },
   "file_extension": ".py",
   "mimetype": "text/x-python",
   "name": "python",
   "nbconvert_exporter": "python",
   "pygments_lexer": "ipython3",
   "version": "3.9.7"
  }
 },
 "nbformat": 4,
 "nbformat_minor": 5
}
